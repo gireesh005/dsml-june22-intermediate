{
 "cells": [
  {
   "cell_type": "code",
   "execution_count": 1,
   "id": "93b48556",
   "metadata": {},
   "outputs": [
    {
     "name": "stdout",
     "output_type": "stream",
     "text": [
      "Hello World!!\n"
     ]
    }
   ],
   "source": [
    "print(\"Hello World!!\")"
   ]
  },
  {
   "cell_type": "code",
   "execution_count": 2,
   "id": "b5861e66",
   "metadata": {},
   "outputs": [],
   "source": [
    "a = \"I am our first variable\""
   ]
  },
  {
   "cell_type": "code",
   "execution_count": 3,
   "id": "04c85d67",
   "metadata": {},
   "outputs": [],
   "source": [
    "a = 456"
   ]
  },
  {
   "cell_type": "code",
   "execution_count": 4,
   "id": "01211b9d",
   "metadata": {},
   "outputs": [],
   "source": [
    "a = True"
   ]
  },
  {
   "cell_type": "code",
   "execution_count": 9,
   "id": "5e27f6f1",
   "metadata": {},
   "outputs": [
    {
     "data": {
      "text/plain": [
       "True"
      ]
     },
     "execution_count": 9,
     "metadata": {},
     "output_type": "execute_result"
    }
   ],
   "source": [
    "isinstance(print, object)"
   ]
  },
  {
   "cell_type": "code",
   "execution_count": 16,
   "id": "3575438f",
   "metadata": {},
   "outputs": [],
   "source": [
    "a = \"1516456789087654456787654345678987abc654345678765456787654324567\""
   ]
  },
  {
   "cell_type": "code",
   "execution_count": 17,
   "id": "81723a9b",
   "metadata": {},
   "outputs": [
    {
     "data": {
      "text/plain": [
       "str"
      ]
     },
     "execution_count": 17,
     "metadata": {},
     "output_type": "execute_result"
    }
   ],
   "source": [
    "type(a)"
   ]
  },
  {
   "cell_type": "markdown",
   "id": "b8d90cb7",
   "metadata": {},
   "source": [
    "## Operators\n",
    "\n",
    "- add (+)\n",
    "- sub (-)\n",
    "- mul (*)\n",
    "- div (/)\n",
    "- floored div (//)\n",
    "- exponentiation (**)\n",
    "- modulus (%)"
   ]
  },
  {
   "cell_type": "code",
   "execution_count": 19,
   "id": "309f2a70",
   "metadata": {},
   "outputs": [
    {
     "data": {
      "text/plain": [
       "4.199999999999999"
      ]
     },
     "execution_count": 19,
     "metadata": {},
     "output_type": "execute_result"
    }
   ],
   "source": [
    "1.4 + 1.2 + 1.6\n",
    "# - Homework -> 1.4 + 1.2 = 2.6 -> binary"
   ]
  },
  {
   "cell_type": "code",
   "execution_count": 20,
   "id": "1efecfa2",
   "metadata": {},
   "outputs": [
    {
     "data": {
      "text/plain": [
       "4.2"
      ]
     },
     "execution_count": 20,
     "metadata": {},
     "output_type": "execute_result"
    }
   ],
   "source": [
    "1.4 + 1.6 + 1.2"
   ]
  },
  {
   "cell_type": "code",
   "execution_count": 21,
   "id": "336ecdc2",
   "metadata": {},
   "outputs": [
    {
     "data": {
      "text/plain": [
       "14"
      ]
     },
     "execution_count": 21,
     "metadata": {},
     "output_type": "execute_result"
    }
   ],
   "source": [
    "5 + 9"
   ]
  },
  {
   "cell_type": "code",
   "execution_count": 22,
   "id": "a6fe02c8",
   "metadata": {},
   "outputs": [
    {
     "data": {
      "text/plain": [
       "'iaminevitable!'"
      ]
     },
     "execution_count": 22,
     "metadata": {},
     "output_type": "execute_result"
    }
   ],
   "source": [
    "\"i\" + \"am\" + \"inevitable!\""
   ]
  },
  {
   "cell_type": "code",
   "execution_count": 23,
   "id": "e5eff451",
   "metadata": {},
   "outputs": [
    {
     "data": {
      "text/plain": [
       "'randomrandomrandomrandomrandomrandom'"
      ]
     },
     "execution_count": 23,
     "metadata": {},
     "output_type": "execute_result"
    }
   ],
   "source": [
    "\"random\"*2*3"
   ]
  },
  {
   "cell_type": "markdown",
   "id": "6fc9c5f3",
   "metadata": {},
   "source": [
    "## Identifiers\n",
    "\n",
    "1. Start the name with an alphabet (A-Z, a-z) or an underscore (_)\n",
    "2. Use alphanumerics (A-Z, a-z, 0-9) and underscore within the name"
   ]
  },
  {
   "cell_type": "code",
   "execution_count": 25,
   "id": "6967003d",
   "metadata": {},
   "outputs": [],
   "source": [
    "number1 = 45"
   ]
  },
  {
   "cell_type": "code",
   "execution_count": 26,
   "id": "6c857c01",
   "metadata": {},
   "outputs": [],
   "source": [
    "_number = 45"
   ]
  },
  {
   "cell_type": "code",
   "execution_count": 27,
   "id": "bd880fdf",
   "metadata": {},
   "outputs": [],
   "source": [
    "_1number = 56"
   ]
  },
  {
   "cell_type": "code",
   "execution_count": 28,
   "id": "21504491",
   "metadata": {},
   "outputs": [],
   "source": [
    "_ = \"what?\""
   ]
  },
  {
   "cell_type": "code",
   "execution_count": 30,
   "id": "57bcffe5",
   "metadata": {},
   "outputs": [
    {
     "data": {
      "text/plain": [
       "'what?'"
      ]
     },
     "execution_count": 30,
     "metadata": {},
     "output_type": "execute_result"
    }
   ],
   "source": [
    "_\n",
    "# is a special identifier"
   ]
  },
  {
   "cell_type": "code",
   "execution_count": 31,
   "id": "a4b147f5",
   "metadata": {},
   "outputs": [],
   "source": [
    "a = 5"
   ]
  },
  {
   "cell_type": "code",
   "execution_count": 32,
   "id": "518ffbf9",
   "metadata": {},
   "outputs": [],
   "source": [
    "a = 6"
   ]
  },
  {
   "cell_type": "code",
   "execution_count": 33,
   "id": "dfa730ee",
   "metadata": {},
   "outputs": [],
   "source": [
    "a = 5"
   ]
  },
  {
   "cell_type": "code",
   "execution_count": 34,
   "id": "4b2d9e07",
   "metadata": {},
   "outputs": [
    {
     "data": {
      "text/plain": [
       "140435632744880"
      ]
     },
     "execution_count": 34,
     "metadata": {},
     "output_type": "execute_result"
    }
   ],
   "source": [
    "id(a)"
   ]
  },
  {
   "cell_type": "code",
   "execution_count": 35,
   "id": "97a5b703",
   "metadata": {},
   "outputs": [],
   "source": [
    "a = 6"
   ]
  },
  {
   "cell_type": "code",
   "execution_count": 36,
   "id": "cc2db885",
   "metadata": {},
   "outputs": [
    {
     "data": {
      "text/plain": [
       "140435632744912"
      ]
     },
     "execution_count": 36,
     "metadata": {},
     "output_type": "execute_result"
    }
   ],
   "source": [
    "id(a)"
   ]
  },
  {
   "cell_type": "code",
   "execution_count": 37,
   "id": "7574f831",
   "metadata": {},
   "outputs": [],
   "source": [
    "a += 1"
   ]
  },
  {
   "cell_type": "code",
   "execution_count": 38,
   "id": "706a766c",
   "metadata": {},
   "outputs": [
    {
     "data": {
      "text/plain": [
       "140435632744944"
      ]
     },
     "execution_count": 38,
     "metadata": {},
     "output_type": "execute_result"
    }
   ],
   "source": [
    "id(a)"
   ]
  },
  {
   "cell_type": "code",
   "execution_count": 39,
   "id": "24c0400c",
   "metadata": {},
   "outputs": [
    {
     "data": {
      "text/plain": [
       "7"
      ]
     },
     "execution_count": 39,
     "metadata": {},
     "output_type": "execute_result"
    }
   ],
   "source": [
    "a"
   ]
  },
  {
   "cell_type": "code",
   "execution_count": 40,
   "id": "a6c8e6e6",
   "metadata": {},
   "outputs": [],
   "source": [
    "a = 5\n",
    "b = 5"
   ]
  },
  {
   "cell_type": "code",
   "execution_count": 42,
   "id": "44859dae",
   "metadata": {},
   "outputs": [
    {
     "data": {
      "text/plain": [
       "True"
      ]
     },
     "execution_count": 42,
     "metadata": {},
     "output_type": "execute_result"
    }
   ],
   "source": [
    "id(a) == id(b)\n",
    "# Small Integer Caching\n",
    "# [-5,256]"
   ]
  },
  {
   "cell_type": "code",
   "execution_count": 43,
   "id": "64c0fc71",
   "metadata": {},
   "outputs": [
    {
     "data": {
      "text/plain": [
       "140435905230896"
      ]
     },
     "execution_count": 43,
     "metadata": {},
     "output_type": "execute_result"
    }
   ],
   "source": [
    "id(_)"
   ]
  },
  {
   "cell_type": "code",
   "execution_count": 44,
   "id": "7dfdcbb0",
   "metadata": {},
   "outputs": [
    {
     "data": {
      "text/plain": [
       "'what?'"
      ]
     },
     "execution_count": 44,
     "metadata": {},
     "output_type": "execute_result"
    }
   ],
   "source": [
    "_"
   ]
  },
  {
   "cell_type": "code",
   "execution_count": 46,
   "id": "402b18d3",
   "metadata": {},
   "outputs": [
    {
     "data": {
      "text/plain": [
       "True"
      ]
     },
     "execution_count": 46,
     "metadata": {},
     "output_type": "execute_result"
    }
   ],
   "source": [
    "a = \"a\"\n",
    "b = \"a\"\n",
    "\n",
    "id(a) == id(b)"
   ]
  },
  {
   "cell_type": "code",
   "execution_count": 48,
   "id": "de5ee199",
   "metadata": {},
   "outputs": [
    {
     "name": "stdout",
     "output_type": "stream",
     "text": [
      "Now I am true!\n"
     ]
    }
   ],
   "source": [
    "a = 50\n",
    "\n",
    "if a > 60:\n",
    "    print(\"I am true\")\n",
    "elif a > 40:\n",
    "    print(\"Now I am true!\")\n",
    "else:\n",
    "    print(\"I am false\")"
   ]
  },
  {
   "cell_type": "code",
   "execution_count": 50,
   "id": "3ab911b1",
   "metadata": {},
   "outputs": [
    {
     "name": "stdout",
     "output_type": "stream",
     "text": [
      "I am true\n"
     ]
    }
   ],
   "source": [
    "a = 60\n",
    "\n",
    "if a > 50:\n",
    "    print(\"I am true\")\n",
    "elif a > 40:\n",
    "    print(\"Now I am true!\")\n",
    "else:\n",
    "    print(\"I am false\")"
   ]
  },
  {
   "cell_type": "code",
   "execution_count": 51,
   "id": "ee35d29f",
   "metadata": {},
   "outputs": [],
   "source": [
    "def sheldon_knock(name):\n",
    "    print(\"knock knock knock\", name)\n",
    "    print(\"knock knock knock\", name)\n",
    "    print(\"knock knock knock\", name)"
   ]
  },
  {
   "cell_type": "code",
   "execution_count": 52,
   "id": "f002bd7d",
   "metadata": {},
   "outputs": [
    {
     "name": "stdout",
     "output_type": "stream",
     "text": [
      "knock knock knock penny\n",
      "knock knock knock penny\n",
      "knock knock knock penny\n"
     ]
    }
   ],
   "source": [
    "sheldon_knock(\"penny\")"
   ]
  },
  {
   "cell_type": "code",
   "execution_count": 53,
   "id": "c1f98e5c",
   "metadata": {},
   "outputs": [
    {
     "name": "stdout",
     "output_type": "stream",
     "text": [
      "knock knock knock leonard\n",
      "knock knock knock leonard\n",
      "knock knock knock leonard\n"
     ]
    }
   ],
   "source": [
    "sheldon_knock(\"leonard\")"
   ]
  },
  {
   "cell_type": "code",
   "execution_count": 62,
   "id": "2f546cf7",
   "metadata": {},
   "outputs": [],
   "source": [
    "def add_something(a,b,c):\n",
    "    print(\"a ->\", a)\n",
    "    print(\"b ->\", b)\n",
    "    print(\"c ->\", c)\n",
    "    return a+b+c"
   ]
  },
  {
   "cell_type": "code",
   "execution_count": 58,
   "id": "fec18a5f",
   "metadata": {},
   "outputs": [
    {
     "name": "stdout",
     "output_type": "stream",
     "text": [
      "a -> 4\n",
      "b -> 5\n"
     ]
    },
    {
     "data": {
      "text/plain": [
       "9"
      ]
     },
     "execution_count": 58,
     "metadata": {},
     "output_type": "execute_result"
    }
   ],
   "source": [
    "add_something(4,5)"
   ]
  },
  {
   "cell_type": "code",
   "execution_count": 63,
   "id": "8654b4c2",
   "metadata": {},
   "outputs": [
    {
     "name": "stdout",
     "output_type": "stream",
     "text": [
      "a -> 5\n",
      "b -> 6\n",
      "c -> 10\n"
     ]
    },
    {
     "data": {
      "text/plain": [
       "21"
      ]
     },
     "execution_count": 63,
     "metadata": {},
     "output_type": "execute_result"
    }
   ],
   "source": [
    "add_something(5, c=10, b=6)"
   ]
  },
  {
   "cell_type": "code",
   "execution_count": 69,
   "id": "96d8e36c",
   "metadata": {},
   "outputs": [],
   "source": [
    "def exponent(x, n = 4):\n",
    "    return x**n"
   ]
  },
  {
   "cell_type": "code",
   "execution_count": 72,
   "id": "640f7da5",
   "metadata": {},
   "outputs": [
    {
     "data": {
      "text/plain": [
       "1048576"
      ]
     },
     "execution_count": 72,
     "metadata": {},
     "output_type": "execute_result"
    }
   ],
   "source": [
    "exponent(4,10)"
   ]
  },
  {
   "cell_type": "code",
   "execution_count": 76,
   "id": "1635fccf",
   "metadata": {},
   "outputs": [
    {
     "ename": "SyntaxError",
     "evalue": "non-default argument follows default argument (3176491597.py, line 1)",
     "output_type": "error",
     "traceback": [
      "\u001b[0;36m  File \u001b[0;32m\"/var/folders/nn/c52y0d3j0gq59dpsswchkt2r0000gn/T/ipykernel_88921/3176491597.py\"\u001b[0;36m, line \u001b[0;32m1\u001b[0m\n\u001b[0;31m    def coolfunc(x=8, y, z):\u001b[0m\n\u001b[0m                         ^\u001b[0m\n\u001b[0;31mSyntaxError\u001b[0m\u001b[0;31m:\u001b[0m non-default argument follows default argument\n"
     ]
    }
   ],
   "source": [
    "def coolfunc(x=8, y, z):\n",
    "    return x**y"
   ]
  },
  {
   "cell_type": "code",
   "execution_count": 79,
   "id": "c000e264",
   "metadata": {},
   "outputs": [],
   "source": [
    "# ITERABLES\n",
    "a = \"PYTHON!\""
   ]
  },
  {
   "cell_type": "code",
   "execution_count": 80,
   "id": "69979940",
   "metadata": {},
   "outputs": [
    {
     "name": "stdout",
     "output_type": "stream",
     "text": [
      "P\n",
      "Y\n",
      "T\n",
      "H\n",
      "O\n",
      "N\n",
      "!\n"
     ]
    }
   ],
   "source": [
    "for i in a:\n",
    "    print(i)"
   ]
  },
  {
   "cell_type": "code",
   "execution_count": 81,
   "id": "5a4da6e1",
   "metadata": {},
   "outputs": [
    {
     "name": "stdout",
     "output_type": "stream",
     "text": [
      "10\n",
      "9\n",
      "8\n",
      "7\n",
      "6\n",
      "5\n",
      "4\n",
      "3\n",
      "2\n",
      "1\n"
     ]
    }
   ],
   "source": [
    "a = 10\n",
    "\n",
    "while a > 0:\n",
    "    print(a)\n",
    "    a = a - 1"
   ]
  },
  {
   "cell_type": "markdown",
   "id": "947577da",
   "metadata": {},
   "source": [
    "## Iteration Protocol"
   ]
  },
  {
   "cell_type": "code",
   "execution_count": 82,
   "id": "2ddf0dbc",
   "metadata": {},
   "outputs": [],
   "source": [
    "a = \"PYTHON!\""
   ]
  },
  {
   "cell_type": "code",
   "execution_count": 83,
   "id": "987590c9",
   "metadata": {},
   "outputs": [],
   "source": [
    "it = iter(a)\n",
    "# whenever you will pass an iterable to this function\n",
    "# It will give you an iterator"
   ]
  },
  {
   "cell_type": "code",
   "execution_count": 84,
   "id": "211b60b2",
   "metadata": {},
   "outputs": [
    {
     "data": {
      "text/plain": [
       "<str_iterator at 0x7fb9803ccf70>"
      ]
     },
     "execution_count": 84,
     "metadata": {},
     "output_type": "execute_result"
    }
   ],
   "source": [
    "it"
   ]
  },
  {
   "cell_type": "code",
   "execution_count": 85,
   "id": "1088330a",
   "metadata": {},
   "outputs": [
    {
     "data": {
      "text/plain": [
       "'P'"
      ]
     },
     "execution_count": 85,
     "metadata": {},
     "output_type": "execute_result"
    }
   ],
   "source": [
    "next(it)\n",
    "# whenever you pass this iterator to the next function\n",
    "# I will give you the next value"
   ]
  },
  {
   "cell_type": "code",
   "execution_count": 86,
   "id": "a2a9d942",
   "metadata": {},
   "outputs": [
    {
     "data": {
      "text/plain": [
       "'Y'"
      ]
     },
     "execution_count": 86,
     "metadata": {},
     "output_type": "execute_result"
    }
   ],
   "source": [
    "next(it)"
   ]
  },
  {
   "cell_type": "code",
   "execution_count": 87,
   "id": "9136ad82",
   "metadata": {},
   "outputs": [
    {
     "data": {
      "text/plain": [
       "'T'"
      ]
     },
     "execution_count": 87,
     "metadata": {},
     "output_type": "execute_result"
    }
   ],
   "source": [
    "next(it)"
   ]
  },
  {
   "cell_type": "code",
   "execution_count": 88,
   "id": "ff58261c",
   "metadata": {},
   "outputs": [
    {
     "data": {
      "text/plain": [
       "'H'"
      ]
     },
     "execution_count": 88,
     "metadata": {},
     "output_type": "execute_result"
    }
   ],
   "source": [
    "next(it)"
   ]
  },
  {
   "cell_type": "code",
   "execution_count": 89,
   "id": "1491280c",
   "metadata": {},
   "outputs": [
    {
     "data": {
      "text/plain": [
       "'O'"
      ]
     },
     "execution_count": 89,
     "metadata": {},
     "output_type": "execute_result"
    }
   ],
   "source": [
    "next(it)"
   ]
  },
  {
   "cell_type": "code",
   "execution_count": 90,
   "id": "da156107",
   "metadata": {},
   "outputs": [
    {
     "data": {
      "text/plain": [
       "'N'"
      ]
     },
     "execution_count": 90,
     "metadata": {},
     "output_type": "execute_result"
    }
   ],
   "source": [
    "next(it)"
   ]
  },
  {
   "cell_type": "code",
   "execution_count": 91,
   "id": "4b1f8551",
   "metadata": {},
   "outputs": [
    {
     "data": {
      "text/plain": [
       "'!'"
      ]
     },
     "execution_count": 91,
     "metadata": {},
     "output_type": "execute_result"
    }
   ],
   "source": [
    "next(it)"
   ]
  },
  {
   "cell_type": "code",
   "execution_count": 92,
   "id": "d6ae5993",
   "metadata": {},
   "outputs": [
    {
     "ename": "StopIteration",
     "evalue": "",
     "output_type": "error",
     "traceback": [
      "\u001b[0;31m---------------------------------------------------------------------------\u001b[0m",
      "\u001b[0;31mStopIteration\u001b[0m                             Traceback (most recent call last)",
      "\u001b[0;32m/var/folders/nn/c52y0d3j0gq59dpsswchkt2r0000gn/T/ipykernel_88921/600241529.py\u001b[0m in \u001b[0;36m<module>\u001b[0;34m\u001b[0m\n\u001b[0;32m----> 1\u001b[0;31m \u001b[0mnext\u001b[0m\u001b[0;34m(\u001b[0m\u001b[0mit\u001b[0m\u001b[0;34m)\u001b[0m\u001b[0;34m\u001b[0m\u001b[0;34m\u001b[0m\u001b[0m\n\u001b[0m",
      "\u001b[0;31mStopIteration\u001b[0m: "
     ]
    }
   ],
   "source": [
    "next(it)"
   ]
  },
  {
   "cell_type": "code",
   "execution_count": 93,
   "id": "09c82efd",
   "metadata": {},
   "outputs": [
    {
     "ename": "NameError",
     "evalue": "name 'prev' is not defined",
     "output_type": "error",
     "traceback": [
      "\u001b[0;31m---------------------------------------------------------------------------\u001b[0m",
      "\u001b[0;31mNameError\u001b[0m                                 Traceback (most recent call last)",
      "\u001b[0;32m/var/folders/nn/c52y0d3j0gq59dpsswchkt2r0000gn/T/ipykernel_88921/3340231199.py\u001b[0m in \u001b[0;36m<module>\u001b[0;34m\u001b[0m\n\u001b[0;32m----> 1\u001b[0;31m \u001b[0mprev\u001b[0m\u001b[0;34m(\u001b[0m\u001b[0mit\u001b[0m\u001b[0;34m)\u001b[0m\u001b[0;34m\u001b[0m\u001b[0;34m\u001b[0m\u001b[0m\n\u001b[0m",
      "\u001b[0;31mNameError\u001b[0m: name 'prev' is not defined"
     ]
    }
   ],
   "source": [
    "prev(it)"
   ]
  },
  {
   "cell_type": "code",
   "execution_count": 95,
   "id": "769e22bb",
   "metadata": {},
   "outputs": [
    {
     "name": "stdout",
     "output_type": "stream",
     "text": [
      "0\n",
      "1\n",
      "2\n",
      "3\n",
      "4\n",
      "5\n",
      "6\n",
      "7\n",
      "8\n",
      "9\n"
     ]
    }
   ],
   "source": [
    "for i in range(0,10):\n",
    "    print(i)\n",
    "    \n",
    "# [start, end) -> range function"
   ]
  },
  {
   "cell_type": "code",
   "execution_count": 96,
   "id": "f116149b",
   "metadata": {},
   "outputs": [],
   "source": [
    "a = range(0,11)"
   ]
  },
  {
   "cell_type": "code",
   "execution_count": 97,
   "id": "c78bc018",
   "metadata": {},
   "outputs": [
    {
     "data": {
      "text/plain": [
       "range(0, 11)"
      ]
     },
     "execution_count": 97,
     "metadata": {},
     "output_type": "execute_result"
    }
   ],
   "source": [
    "a"
   ]
  },
  {
   "cell_type": "code",
   "execution_count": 98,
   "id": "98e6e969",
   "metadata": {},
   "outputs": [],
   "source": [
    "it = iter(a)"
   ]
  },
  {
   "cell_type": "code",
   "execution_count": 99,
   "id": "1bbb9264",
   "metadata": {},
   "outputs": [
    {
     "data": {
      "text/plain": [
       "<range_iterator at 0x7fb9b829c510>"
      ]
     },
     "execution_count": 99,
     "metadata": {},
     "output_type": "execute_result"
    }
   ],
   "source": [
    "it"
   ]
  },
  {
   "cell_type": "code",
   "execution_count": 111,
   "id": "7cadb78c",
   "metadata": {},
   "outputs": [
    {
     "ename": "StopIteration",
     "evalue": "",
     "output_type": "error",
     "traceback": [
      "\u001b[0;31m---------------------------------------------------------------------------\u001b[0m",
      "\u001b[0;31mStopIteration\u001b[0m                             Traceback (most recent call last)",
      "\u001b[0;32m/var/folders/nn/c52y0d3j0gq59dpsswchkt2r0000gn/T/ipykernel_88921/600241529.py\u001b[0m in \u001b[0;36m<module>\u001b[0;34m\u001b[0m\n\u001b[0;32m----> 1\u001b[0;31m \u001b[0mnext\u001b[0m\u001b[0;34m(\u001b[0m\u001b[0mit\u001b[0m\u001b[0;34m)\u001b[0m\u001b[0;34m\u001b[0m\u001b[0;34m\u001b[0m\u001b[0m\n\u001b[0m",
      "\u001b[0;31mStopIteration\u001b[0m: "
     ]
    }
   ],
   "source": [
    "next(it)"
   ]
  },
  {
   "cell_type": "code",
   "execution_count": 112,
   "id": "d041fd9e",
   "metadata": {},
   "outputs": [],
   "source": [
    "a = 567"
   ]
  },
  {
   "cell_type": "code",
   "execution_count": 113,
   "id": "a3a7d5b5",
   "metadata": {},
   "outputs": [
    {
     "ename": "TypeError",
     "evalue": "'int' object is not iterable",
     "output_type": "error",
     "traceback": [
      "\u001b[0;31m---------------------------------------------------------------------------\u001b[0m",
      "\u001b[0;31mTypeError\u001b[0m                                 Traceback (most recent call last)",
      "\u001b[0;32m/var/folders/nn/c52y0d3j0gq59dpsswchkt2r0000gn/T/ipykernel_88921/4085244320.py\u001b[0m in \u001b[0;36m<module>\u001b[0;34m\u001b[0m\n\u001b[0;32m----> 1\u001b[0;31m \u001b[0mit\u001b[0m \u001b[0;34m=\u001b[0m \u001b[0miter\u001b[0m\u001b[0;34m(\u001b[0m\u001b[0ma\u001b[0m\u001b[0;34m)\u001b[0m\u001b[0;34m\u001b[0m\u001b[0;34m\u001b[0m\u001b[0m\n\u001b[0m",
      "\u001b[0;31mTypeError\u001b[0m: 'int' object is not iterable"
     ]
    }
   ],
   "source": [
    "it = iter(a)"
   ]
  },
  {
   "cell_type": "code",
   "execution_count": null,
   "id": "c16bef8d",
   "metadata": {},
   "outputs": [],
   "source": []
  }
 ],
 "metadata": {
  "kernelspec": {
   "display_name": "Python 3 (ipykernel)",
   "language": "python",
   "name": "python3"
  },
  "language_info": {
   "codemirror_mode": {
    "name": "ipython",
    "version": 3
   },
   "file_extension": ".py",
   "mimetype": "text/x-python",
   "name": "python",
   "nbconvert_exporter": "python",
   "pygments_lexer": "ipython3",
   "version": "3.9.5"
  }
 },
 "nbformat": 4,
 "nbformat_minor": 5
}
