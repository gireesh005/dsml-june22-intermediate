{
 "cells": [
  {
   "cell_type": "code",
   "execution_count": 1,
   "id": "03232709",
   "metadata": {},
   "outputs": [
    {
     "name": "stdout",
     "output_type": "stream",
     "text": [
      "Hello World!!\n"
     ]
    }
   ],
   "source": [
    "print(\"Hello World!!\")"
   ]
  },
  {
   "cell_type": "code",
   "execution_count": 2,
   "id": "6796f7b0",
   "metadata": {},
   "outputs": [],
   "source": [
    "a = \"I am our first variable\""
   ]
  },
  {
   "cell_type": "code",
   "execution_count": 3,
   "id": "b8bc18ed",
   "metadata": {},
   "outputs": [],
   "source": [
    "a = 456"
   ]
  },
  {
   "cell_type": "code",
   "execution_count": 4,
   "id": "a682a112",
   "metadata": {},
   "outputs": [],
   "source": [
    "a = True"
   ]
  },
  {
   "cell_type": "code",
   "execution_count": 9,
   "id": "ef698a23",
   "metadata": {},
   "outputs": [
    {
     "data": {
      "text/plain": [
       "True"
      ]
     },
     "execution_count": 9,
     "metadata": {},
     "output_type": "execute_result"
    }
   ],
   "source": [
    "isinstance(print, object)"
   ]
  },
  {
   "cell_type": "code",
   "execution_count": 16,
   "id": "25648829",
   "metadata": {},
   "outputs": [],
   "source": [
    "a = \"1516456789087654456787654345678987abc654345678765456787654324567\""
   ]
  },
  {
   "cell_type": "code",
   "execution_count": 17,
   "id": "363d6115",
   "metadata": {},
   "outputs": [
    {
     "data": {
      "text/plain": [
       "str"
      ]
     },
     "execution_count": 17,
     "metadata": {},
     "output_type": "execute_result"
    }
   ],
   "source": [
    "type(a)"
   ]
  },
  {
   "cell_type": "markdown",
   "id": "796f0d59",
   "metadata": {},
   "source": [
    "## Operators\n",
    "\n",
    "- add (+)\n",
    "- sub (-)\n",
    "- mul (*)\n",
    "- div (/)\n",
    "- floored div (//)\n",
    "- exponentiation (**)\n",
    "- modulus (%)"
   ]
  },
  {
   "cell_type": "code",
   "execution_count": 19,
   "id": "aae64dfe",
   "metadata": {},
   "outputs": [
    {
     "data": {
      "text/plain": [
       "4.199999999999999"
      ]
     },
     "execution_count": 19,
     "metadata": {},
     "output_type": "execute_result"
    }
   ],
   "source": [
    "1.4 + 1.2 + 1.6\n",
    "# - Homework -> 1.4 + 1.2 = 2.6 -> binary"
   ]
  },
  {
   "cell_type": "code",
   "execution_count": 20,
   "id": "2f4127f8",
   "metadata": {},
   "outputs": [
    {
     "data": {
      "text/plain": [
       "4.2"
      ]
     },
     "execution_count": 20,
     "metadata": {},
     "output_type": "execute_result"
    }
   ],
   "source": [
    "1.4 + 1.6 + 1.2"
   ]
  },
  {
   "cell_type": "code",
   "execution_count": 21,
   "id": "a0dd536e",
   "metadata": {},
   "outputs": [
    {
     "data": {
      "text/plain": [
       "14"
      ]
     },
     "execution_count": 21,
     "metadata": {},
     "output_type": "execute_result"
    }
   ],
   "source": [
    "5 + 9"
   ]
  },
  {
   "cell_type": "code",
   "execution_count": 22,
   "id": "8bd1cee1",
   "metadata": {},
   "outputs": [
    {
     "data": {
      "text/plain": [
       "'iaminevitable!'"
      ]
     },
     "execution_count": 22,
     "metadata": {},
     "output_type": "execute_result"
    }
   ],
   "source": [
    "\"i\" + \"am\" + \"inevitable!\""
   ]
  },
  {
   "cell_type": "code",
   "execution_count": 23,
   "id": "9c1cba5e",
   "metadata": {},
   "outputs": [
    {
     "data": {
      "text/plain": [
       "'randomrandomrandomrandomrandomrandom'"
      ]
     },
     "execution_count": 23,
     "metadata": {},
     "output_type": "execute_result"
    }
   ],
   "source": [
    "\"random\"*2*3"
   ]
  },
  {
   "cell_type": "markdown",
   "id": "223abfe5",
   "metadata": {},
   "source": [
    "## Identifiers\n",
    "\n",
    "1. Start the name with an alphabet (A-Z, a-z) or an underscore (_)\n",
    "2. Use alphanumerics (A-Z, a-z, 0-9) and underscore within the name"
   ]
  },
  {
   "cell_type": "code",
   "execution_count": 25,
   "id": "f8b0d5e1",
   "metadata": {},
   "outputs": [],
   "source": [
    "number1 = 45"
   ]
  },
  {
   "cell_type": "code",
   "execution_count": 26,
   "id": "fcb98ca1",
   "metadata": {},
   "outputs": [],
   "source": [
    "_number = 45"
   ]
  },
  {
   "cell_type": "code",
   "execution_count": 27,
   "id": "b219c41b",
   "metadata": {},
   "outputs": [],
   "source": [
    "_1number = 56"
   ]
  },
  {
   "cell_type": "code",
   "execution_count": 28,
   "id": "17e398f9",
   "metadata": {},
   "outputs": [],
   "source": [
    "_ = \"what?\""
   ]
  },
  {
   "cell_type": "code",
   "execution_count": 30,
   "id": "63f945d7",
   "metadata": {},
   "outputs": [
    {
     "data": {
      "text/plain": [
       "'what?'"
      ]
     },
     "execution_count": 30,
     "metadata": {},
     "output_type": "execute_result"
    }
   ],
   "source": [
    "_\n",
    "# is a special identifier"
   ]
  },
  {
   "cell_type": "code",
   "execution_count": 31,
   "id": "472b7a62",
   "metadata": {},
   "outputs": [],
   "source": [
    "a = 5"
   ]
  },
  {
   "cell_type": "code",
   "execution_count": 32,
   "id": "f2ae1c99",
   "metadata": {},
   "outputs": [],
   "source": [
    "a = 6"
   ]
  },
  {
   "cell_type": "code",
   "execution_count": 33,
   "id": "d67dff24",
   "metadata": {},
   "outputs": [],
   "source": [
    "a = 5"
   ]
  },
  {
   "cell_type": "code",
   "execution_count": 34,
   "id": "e344d432",
   "metadata": {},
   "outputs": [
    {
     "data": {
      "text/plain": [
       "140435632744880"
      ]
     },
     "execution_count": 34,
     "metadata": {},
     "output_type": "execute_result"
    }
   ],
   "source": [
    "id(a)"
   ]
  },
  {
   "cell_type": "code",
   "execution_count": 35,
   "id": "73a83689",
   "metadata": {},
   "outputs": [],
   "source": [
    "a = 6"
   ]
  },
  {
   "cell_type": "code",
   "execution_count": 36,
   "id": "ddcb1da9",
   "metadata": {},
   "outputs": [
    {
     "data": {
      "text/plain": [
       "140435632744912"
      ]
     },
     "execution_count": 36,
     "metadata": {},
     "output_type": "execute_result"
    }
   ],
   "source": [
    "id(a)"
   ]
  },
  {
   "cell_type": "code",
   "execution_count": 37,
   "id": "afb18377",
   "metadata": {},
   "outputs": [],
   "source": [
    "a += 1"
   ]
  },
  {
   "cell_type": "code",
   "execution_count": 38,
   "id": "e091ef05",
   "metadata": {},
   "outputs": [
    {
     "data": {
      "text/plain": [
       "140435632744944"
      ]
     },
     "execution_count": 38,
     "metadata": {},
     "output_type": "execute_result"
    }
   ],
   "source": [
    "id(a)"
   ]
  },
  {
   "cell_type": "code",
   "execution_count": 39,
   "id": "1c34e486",
   "metadata": {},
   "outputs": [
    {
     "data": {
      "text/plain": [
       "7"
      ]
     },
     "execution_count": 39,
     "metadata": {},
     "output_type": "execute_result"
    }
   ],
   "source": [
    "a"
   ]
  },
  {
   "cell_type": "code",
   "execution_count": 40,
   "id": "e0d9fc3a",
   "metadata": {},
   "outputs": [],
   "source": [
    "a = 5\n",
    "b = 5"
   ]
  },
  {
   "cell_type": "code",
   "execution_count": 42,
   "id": "010ac0d0",
   "metadata": {},
   "outputs": [
    {
     "data": {
      "text/plain": [
       "True"
      ]
     },
     "execution_count": 42,
     "metadata": {},
     "output_type": "execute_result"
    }
   ],
   "source": [
    "id(a) == id(b)\n",
    "# Small Integer Caching\n",
    "# [-5,256]"
   ]
  },
  {
   "cell_type": "code",
   "execution_count": 43,
   "id": "9743a3eb",
   "metadata": {},
   "outputs": [
    {
     "data": {
      "text/plain": [
       "140435905230896"
      ]
     },
     "execution_count": 43,
     "metadata": {},
     "output_type": "execute_result"
    }
   ],
   "source": [
    "id(_)"
   ]
  },
  {
   "cell_type": "code",
   "execution_count": 44,
   "id": "a3ea55c0",
   "metadata": {},
   "outputs": [
    {
     "data": {
      "text/plain": [
       "'what?'"
      ]
     },
     "execution_count": 44,
     "metadata": {},
     "output_type": "execute_result"
    }
   ],
   "source": [
    "_"
   ]
  },
  {
   "cell_type": "code",
   "execution_count": 46,
   "id": "bc11aed0",
   "metadata": {},
   "outputs": [
    {
     "data": {
      "text/plain": [
       "True"
      ]
     },
     "execution_count": 46,
     "metadata": {},
     "output_type": "execute_result"
    }
   ],
   "source": [
    "a = \"a\"\n",
    "b = \"a\"\n",
    "\n",
    "id(a) == id(b)"
   ]
  },
  {
   "cell_type": "code",
   "execution_count": 47,
   "id": "14ce4195",
   "metadata": {},
   "outputs": [
    {
     "name": "stdout",
     "output_type": "stream",
     "text": [
      "I am false\n"
     ]
    }
   ],
   "source": [
    "a = 50\n",
    "\n",
    "    if a > 60:\n",
    "        print(\"I am true\")\n",
    "    else:\n",
    "        print(\"I am false\")"
   ]
  },
  {
   "cell_type": "code",
   "execution_count": null,
   "id": "f7984f94",
   "metadata": {},
   "outputs": [],
   "source": []
  }
 ],
 "metadata": {
  "kernelspec": {
   "display_name": "Python 3 (ipykernel)",
   "language": "python",
   "name": "python3"
  },
  "language_info": {
   "codemirror_mode": {
    "name": "ipython",
    "version": 3
   },
   "file_extension": ".py",
   "mimetype": "text/x-python",
   "name": "python",
   "nbconvert_exporter": "python",
   "pygments_lexer": "ipython3",
   "version": "3.9.5"
  }
 },
 "nbformat": 4,
 "nbformat_minor": 5
}
