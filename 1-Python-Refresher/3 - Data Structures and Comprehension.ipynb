{
 "cells": [
  {
   "cell_type": "code",
   "execution_count": 4,
   "id": "fb7f94d4",
   "metadata": {},
   "outputs": [],
   "source": [
    "a = [2,1,3,5,3,4]"
   ]
  },
  {
   "cell_type": "code",
   "execution_count": 2,
   "id": "36f6f311",
   "metadata": {},
   "outputs": [],
   "source": [
    "a.sort()"
   ]
  },
  {
   "cell_type": "code",
   "execution_count": 3,
   "id": "2f6ccfb8",
   "metadata": {},
   "outputs": [
    {
     "data": {
      "text/plain": [
       "[1, 2, 3, 3, 4, 5]"
      ]
     },
     "execution_count": 3,
     "metadata": {},
     "output_type": "execute_result"
    }
   ],
   "source": [
    "a"
   ]
  },
  {
   "cell_type": "code",
   "execution_count": 5,
   "id": "be7905f6",
   "metadata": {},
   "outputs": [
    {
     "data": {
      "text/plain": [
       "[1, 2, 3, 3, 4, 5]"
      ]
     },
     "execution_count": 5,
     "metadata": {},
     "output_type": "execute_result"
    }
   ],
   "source": [
    "list(sorted(a))"
   ]
  },
  {
   "cell_type": "code",
   "execution_count": 6,
   "id": "51a5b931",
   "metadata": {},
   "outputs": [
    {
     "data": {
      "text/plain": [
       "[2, 1, 3, 5, 3, 4]"
      ]
     },
     "execution_count": 6,
     "metadata": {},
     "output_type": "execute_result"
    }
   ],
   "source": [
    "a"
   ]
  },
  {
   "cell_type": "code",
   "execution_count": 7,
   "id": "75cbddfd",
   "metadata": {},
   "outputs": [],
   "source": [
    "a[2:].sort()"
   ]
  },
  {
   "cell_type": "code",
   "execution_count": 8,
   "id": "9f44df70",
   "metadata": {},
   "outputs": [
    {
     "data": {
      "text/plain": [
       "[2, 1, 3, 5, 3, 4]"
      ]
     },
     "execution_count": 8,
     "metadata": {},
     "output_type": "execute_result"
    }
   ],
   "source": [
    "a"
   ]
  },
  {
   "cell_type": "markdown",
   "id": "698bdeaf",
   "metadata": {},
   "source": [
    "## Dictionaries"
   ]
  },
  {
   "cell_type": "code",
   "execution_count": 9,
   "id": "be0a6567",
   "metadata": {},
   "outputs": [],
   "source": [
    "d = {\n",
    "    \"key1\": \"value1\",\n",
    "    \"key2\": \"value2\"\n",
    "}"
   ]
  },
  {
   "cell_type": "code",
   "execution_count": 10,
   "id": "991b6a8a",
   "metadata": {},
   "outputs": [
    {
     "data": {
      "text/plain": [
       "'value1'"
      ]
     },
     "execution_count": 10,
     "metadata": {},
     "output_type": "execute_result"
    }
   ],
   "source": [
    "d[\"key1\"]"
   ]
  },
  {
   "cell_type": "code",
   "execution_count": 11,
   "id": "3075c081",
   "metadata": {},
   "outputs": [
    {
     "data": {
      "text/plain": [
       "'value1'"
      ]
     },
     "execution_count": 11,
     "metadata": {},
     "output_type": "execute_result"
    }
   ],
   "source": [
    "d.get(\"key1\")"
   ]
  },
  {
   "cell_type": "code",
   "execution_count": 12,
   "id": "61fea506",
   "metadata": {},
   "outputs": [],
   "source": [
    "Person = {\n",
    "    \"name\": \"Numaan\",\n",
    "    \"age\": 5000,\n",
    "    \"greatest_avenger\": True\n",
    "}"
   ]
  },
  {
   "cell_type": "code",
   "execution_count": 13,
   "id": "00835411",
   "metadata": {},
   "outputs": [],
   "source": [
    "Person[\"name\"] = \"Asguradian Numaan\""
   ]
  },
  {
   "cell_type": "code",
   "execution_count": 14,
   "id": "1d6a9fb4",
   "metadata": {},
   "outputs": [
    {
     "data": {
      "text/plain": [
       "{'name': 'Asguradian Numaan', 'age': 5000, 'greatest_avenger': True}"
      ]
     },
     "execution_count": 14,
     "metadata": {},
     "output_type": "execute_result"
    }
   ],
   "source": [
    "Person"
   ]
  },
  {
   "cell_type": "code",
   "execution_count": 15,
   "id": "345fcc38",
   "metadata": {},
   "outputs": [
    {
     "data": {
      "text/plain": [
       "140442076105792"
      ]
     },
     "execution_count": 15,
     "metadata": {},
     "output_type": "execute_result"
    }
   ],
   "source": [
    "id(Person)"
   ]
  },
  {
   "cell_type": "code",
   "execution_count": 16,
   "id": "deef4404",
   "metadata": {},
   "outputs": [],
   "source": [
    "Person[\"name\"] = \"Numaan\""
   ]
  },
  {
   "cell_type": "code",
   "execution_count": 17,
   "id": "edd655c2",
   "metadata": {},
   "outputs": [
    {
     "data": {
      "text/plain": [
       "140442076105792"
      ]
     },
     "execution_count": 17,
     "metadata": {},
     "output_type": "execute_result"
    }
   ],
   "source": [
    "id(Person)"
   ]
  },
  {
   "cell_type": "code",
   "execution_count": 19,
   "id": "c20184fe",
   "metadata": {},
   "outputs": [],
   "source": [
    "Person[\"weapons\"] = [\"mjolnir\", \"stormbreaker\", \"good looks\"]"
   ]
  },
  {
   "cell_type": "code",
   "execution_count": 20,
   "id": "fd986730",
   "metadata": {},
   "outputs": [
    {
     "data": {
      "text/plain": [
       "{'name': 'Numaan',\n",
       " 'age': 5000,\n",
       " 'greatest_avenger': True,\n",
       " 'weapons': ['mjolnir', 'stormbreaker', 'good looks']}"
      ]
     },
     "execution_count": 20,
     "metadata": {},
     "output_type": "execute_result"
    }
   ],
   "source": [
    "Person"
   ]
  },
  {
   "cell_type": "code",
   "execution_count": 22,
   "id": "cca9e982",
   "metadata": {},
   "outputs": [],
   "source": [
    "Person.update({\n",
    "    \"age\": 10000,\n",
    "    \"weapons\": [\"stormbreaker\"],\n",
    "    \"random_info\": (\"random\", \"info\")\n",
    "})"
   ]
  },
  {
   "cell_type": "code",
   "execution_count": 23,
   "id": "82abe1d7",
   "metadata": {},
   "outputs": [
    {
     "data": {
      "text/plain": [
       "{'name': 'Numaan',\n",
       " 'age': 10000,\n",
       " 'greatest_avenger': True,\n",
       " 'weapons': ['stormbreaker'],\n",
       " 'random_info': ('random', 'info')}"
      ]
     },
     "execution_count": 23,
     "metadata": {},
     "output_type": "execute_result"
    }
   ],
   "source": [
    "Person"
   ]
  },
  {
   "cell_type": "code",
   "execution_count": 24,
   "id": "f1cca647",
   "metadata": {},
   "outputs": [
    {
     "data": {
      "text/plain": [
       "('random', 'info')"
      ]
     },
     "execution_count": 24,
     "metadata": {},
     "output_type": "execute_result"
    }
   ],
   "source": [
    "Person.pop(\"random_info\")"
   ]
  },
  {
   "cell_type": "code",
   "execution_count": 25,
   "id": "e805659f",
   "metadata": {},
   "outputs": [
    {
     "data": {
      "text/plain": [
       "{'name': 'Numaan',\n",
       " 'age': 10000,\n",
       " 'greatest_avenger': True,\n",
       " 'weapons': ['stormbreaker']}"
      ]
     },
     "execution_count": 25,
     "metadata": {},
     "output_type": "execute_result"
    }
   ],
   "source": [
    "Person"
   ]
  },
  {
   "cell_type": "code",
   "execution_count": 26,
   "id": "408fe594",
   "metadata": {},
   "outputs": [
    {
     "ename": "KeyError",
     "evalue": "0",
     "output_type": "error",
     "traceback": [
      "\u001b[0;31m---------------------------------------------------------------------------\u001b[0m",
      "\u001b[0;31mKeyError\u001b[0m                                  Traceback (most recent call last)",
      "\u001b[0;32m/var/folders/nn/c52y0d3j0gq59dpsswchkt2r0000gn/T/ipykernel_13648/2054075450.py\u001b[0m in \u001b[0;36m<module>\u001b[0;34m\u001b[0m\n\u001b[0;32m----> 1\u001b[0;31m \u001b[0mPerson\u001b[0m\u001b[0;34m[\u001b[0m\u001b[0;36m0\u001b[0m\u001b[0;34m]\u001b[0m\u001b[0;34m\u001b[0m\u001b[0;34m\u001b[0m\u001b[0m\n\u001b[0m",
      "\u001b[0;31mKeyError\u001b[0m: 0"
     ]
    }
   ],
   "source": [
    "Person[0]"
   ]
  },
  {
   "cell_type": "code",
   "execution_count": 30,
   "id": "159e4c47",
   "metadata": {},
   "outputs": [],
   "source": [
    "Person = {\n",
    "    \"name\": \"Numaan\",\n",
    "    \"age\": 5000,\n",
    "    \"greatest_avenger\": True,\n",
    "    (1,2): {\n",
    "        \"random\": \"dictionary\"\n",
    "    },\n",
    "    3: (\"anything\", \"in\", \"values\"),\n",
    "    True: \"immutable in keys\",\n",
    "    \"list\": [1,2,4]\n",
    "}"
   ]
  },
  {
   "cell_type": "code",
   "execution_count": 31,
   "id": "f1ac23ba",
   "metadata": {},
   "outputs": [
    {
     "data": {
      "text/plain": [
       "('anything', 'in', 'values')"
      ]
     },
     "execution_count": 31,
     "metadata": {},
     "output_type": "execute_result"
    }
   ],
   "source": [
    "Person[3]"
   ]
  },
  {
   "cell_type": "code",
   "execution_count": 32,
   "id": "f4d5350d",
   "metadata": {},
   "outputs": [],
   "source": [
    "Person[\"list\"].append(5)"
   ]
  },
  {
   "cell_type": "code",
   "execution_count": 33,
   "id": "cfb0980a",
   "metadata": {},
   "outputs": [
    {
     "data": {
      "text/plain": [
       "{'name': 'Numaan',\n",
       " 'age': 5000,\n",
       " 'greatest_avenger': True,\n",
       " (1, 2): {'random': 'dictionary'},\n",
       " 3: ('anything', 'in', 'values'),\n",
       " True: 'immutable in keys',\n",
       " 'list': [1, 2, 4, 5]}"
      ]
     },
     "execution_count": 33,
     "metadata": {},
     "output_type": "execute_result"
    }
   ],
   "source": [
    "Person"
   ]
  },
  {
   "cell_type": "code",
   "execution_count": 44,
   "id": "e168accc",
   "metadata": {},
   "outputs": [
    {
     "name": "stdout",
     "output_type": "stream",
     "text": [
      "name\n",
      "age\n",
      "greatest_avenger\n",
      "(1, 2)\n",
      "3\n",
      "True\n",
      "list\n"
     ]
    }
   ],
   "source": [
    "for i in Person:\n",
    "    print(i)"
   ]
  },
  {
   "cell_type": "code",
   "execution_count": 43,
   "id": "85f2cd33",
   "metadata": {},
   "outputs": [
    {
     "name": "stdout",
     "output_type": "stream",
     "text": [
      "Numaan\n",
      "5000\n",
      "True\n",
      "{'random': 'dictionary'}\n",
      "('anything', 'in', 'values')\n",
      "immutable in keys\n",
      "[1, 2, 4, 5]\n"
     ]
    }
   ],
   "source": [
    "for i in Person.values():\n",
    "    print(i)"
   ]
  },
  {
   "cell_type": "code",
   "execution_count": 45,
   "id": "1cffad2c",
   "metadata": {},
   "outputs": [
    {
     "name": "stdout",
     "output_type": "stream",
     "text": [
      "Numaan\n",
      "5000\n",
      "True\n",
      "{'random': 'dictionary'}\n",
      "('anything', 'in', 'values')\n",
      "immutable in keys\n",
      "[1, 2, 4, 5]\n"
     ]
    }
   ],
   "source": [
    "for i in Person:\n",
    "    print(Person[i])"
   ]
  },
  {
   "cell_type": "code",
   "execution_count": 38,
   "id": "41e787c0",
   "metadata": {},
   "outputs": [
    {
     "name": "stdout",
     "output_type": "stream",
     "text": [
      "('name', 'Numaan')\n",
      "('age', 5000)\n",
      "('greatest_avenger', True)\n",
      "((1, 2), {'random': 'dictionary'})\n",
      "(3, ('anything', 'in', 'values'))\n",
      "(True, 'immutable in keys')\n",
      "('list', [1, 2, 4, 5])\n"
     ]
    }
   ],
   "source": [
    "for i in Person.items():\n",
    "    print(i)"
   ]
  },
  {
   "cell_type": "code",
   "execution_count": 47,
   "id": "5061e30a",
   "metadata": {},
   "outputs": [
    {
     "name": "stdout",
     "output_type": "stream",
     "text": [
      "name -> Numaan\n",
      "age -> 5000\n",
      "greatest_avenger -> True\n",
      "(1, 2) -> {'random': 'dictionary'}\n",
      "3 -> ('anything', 'in', 'values')\n",
      "True -> immutable in keys\n",
      "list -> [1, 2, 4, 5]\n"
     ]
    }
   ],
   "source": [
    "for x, y in Person.items():\n",
    "    print(x, \"->\", y)"
   ]
  },
  {
   "cell_type": "code",
   "execution_count": 52,
   "id": "48b1594e",
   "metadata": {},
   "outputs": [],
   "source": [
    "dict1 = {\n",
    "    1: \"x\",\n",
    "    2: \"y\",\n",
    "    3: \"z\"\n",
    "}\n",
    "\n",
    "result = dict1.get(7, \"NOT FOUND!\")"
   ]
  },
  {
   "cell_type": "code",
   "execution_count": 53,
   "id": "a9d18a15",
   "metadata": {},
   "outputs": [
    {
     "name": "stdout",
     "output_type": "stream",
     "text": [
      "NOT FOUND!\n"
     ]
    }
   ],
   "source": [
    "print(result)"
   ]
  },
  {
   "cell_type": "code",
   "execution_count": 51,
   "id": "e7e1d811",
   "metadata": {},
   "outputs": [
    {
     "ename": "KeyError",
     "evalue": "7",
     "output_type": "error",
     "traceback": [
      "\u001b[0;31m---------------------------------------------------------------------------\u001b[0m",
      "\u001b[0;31mKeyError\u001b[0m                                  Traceback (most recent call last)",
      "\u001b[0;32m/var/folders/nn/c52y0d3j0gq59dpsswchkt2r0000gn/T/ipykernel_13648/241519487.py\u001b[0m in \u001b[0;36m<module>\u001b[0;34m\u001b[0m\n\u001b[0;32m----> 1\u001b[0;31m \u001b[0mdict1\u001b[0m\u001b[0;34m[\u001b[0m\u001b[0;36m7\u001b[0m\u001b[0;34m]\u001b[0m\u001b[0;34m\u001b[0m\u001b[0;34m\u001b[0m\u001b[0m\n\u001b[0m",
      "\u001b[0;31mKeyError\u001b[0m: 7"
     ]
    }
   ],
   "source": [
    "dict1[7]"
   ]
  },
  {
   "cell_type": "markdown",
   "id": "70308adc",
   "metadata": {},
   "source": [
    "## SETS"
   ]
  },
  {
   "cell_type": "code",
   "execution_count": 54,
   "id": "acf8bef0",
   "metadata": {},
   "outputs": [],
   "source": [
    "s = { 3,4,4,5,5,6,1,2,4,5,2,4,5,1 }"
   ]
  },
  {
   "cell_type": "code",
   "execution_count": 55,
   "id": "03e6c12d",
   "metadata": {},
   "outputs": [
    {
     "data": {
      "text/plain": [
       "{1, 2, 3, 4, 5, 6}"
      ]
     },
     "execution_count": 55,
     "metadata": {},
     "output_type": "execute_result"
    }
   ],
   "source": [
    "s"
   ]
  },
  {
   "cell_type": "code",
   "execution_count": 59,
   "id": "e2553667",
   "metadata": {},
   "outputs": [],
   "source": [
    "s1 = set()"
   ]
  },
  {
   "cell_type": "code",
   "execution_count": 60,
   "id": "8ebe6887",
   "metadata": {},
   "outputs": [
    {
     "data": {
      "text/plain": [
       "set"
      ]
     },
     "execution_count": 60,
     "metadata": {},
     "output_type": "execute_result"
    }
   ],
   "source": [
    "type(s1)"
   ]
  },
  {
   "cell_type": "code",
   "execution_count": 61,
   "id": "b578466f",
   "metadata": {},
   "outputs": [
    {
     "ename": "TypeError",
     "evalue": "'set' object is not subscriptable",
     "output_type": "error",
     "traceback": [
      "\u001b[0;31m---------------------------------------------------------------------------\u001b[0m",
      "\u001b[0;31mTypeError\u001b[0m                                 Traceback (most recent call last)",
      "\u001b[0;32m/var/folders/nn/c52y0d3j0gq59dpsswchkt2r0000gn/T/ipykernel_13648/243613605.py\u001b[0m in \u001b[0;36m<module>\u001b[0;34m\u001b[0m\n\u001b[0;32m----> 1\u001b[0;31m \u001b[0ms\u001b[0m\u001b[0;34m[\u001b[0m\u001b[0;36m0\u001b[0m\u001b[0;34m]\u001b[0m\u001b[0;34m\u001b[0m\u001b[0;34m\u001b[0m\u001b[0m\n\u001b[0m",
      "\u001b[0;31mTypeError\u001b[0m: 'set' object is not subscriptable"
     ]
    }
   ],
   "source": [
    "s[0]"
   ]
  },
  {
   "cell_type": "code",
   "execution_count": 62,
   "id": "40c9fd8e",
   "metadata": {},
   "outputs": [],
   "source": [
    "s.add(7)"
   ]
  },
  {
   "cell_type": "code",
   "execution_count": 63,
   "id": "72240114",
   "metadata": {},
   "outputs": [
    {
     "data": {
      "text/plain": [
       "{1, 2, 3, 4, 5, 6, 7}"
      ]
     },
     "execution_count": 63,
     "metadata": {},
     "output_type": "execute_result"
    }
   ],
   "source": [
    "s"
   ]
  },
  {
   "cell_type": "code",
   "execution_count": 64,
   "id": "f81cfe24",
   "metadata": {},
   "outputs": [],
   "source": [
    "s.remove(6)"
   ]
  },
  {
   "cell_type": "code",
   "execution_count": 65,
   "id": "44cf85ed",
   "metadata": {},
   "outputs": [
    {
     "data": {
      "text/plain": [
       "{1, 2, 3, 4, 5, 7}"
      ]
     },
     "execution_count": 65,
     "metadata": {},
     "output_type": "execute_result"
    }
   ],
   "source": [
    "s"
   ]
  },
  {
   "cell_type": "code",
   "execution_count": 66,
   "id": "0de24fa7",
   "metadata": {},
   "outputs": [
    {
     "data": {
      "text/plain": [
       "True"
      ]
     },
     "execution_count": 66,
     "metadata": {},
     "output_type": "execute_result"
    }
   ],
   "source": [
    "3 in s"
   ]
  },
  {
   "cell_type": "code",
   "execution_count": 67,
   "id": "2f201c18",
   "metadata": {},
   "outputs": [
    {
     "data": {
      "text/plain": [
       "1"
      ]
     },
     "execution_count": 67,
     "metadata": {},
     "output_type": "execute_result"
    }
   ],
   "source": [
    "s.pop()"
   ]
  },
  {
   "cell_type": "code",
   "execution_count": 68,
   "id": "d0732d53",
   "metadata": {},
   "outputs": [
    {
     "name": "stdout",
     "output_type": "stream",
     "text": [
      "2\n",
      "3\n",
      "4\n",
      "5\n",
      "7\n"
     ]
    }
   ],
   "source": [
    "for i in s:\n",
    "    print(i)"
   ]
  },
  {
   "cell_type": "code",
   "execution_count": 69,
   "id": "afaae709",
   "metadata": {},
   "outputs": [],
   "source": [
    "s1 = {1,2,3}\n",
    "s2 = {2,3,4,5,6}"
   ]
  },
  {
   "cell_type": "code",
   "execution_count": 71,
   "id": "4f303477",
   "metadata": {},
   "outputs": [
    {
     "data": {
      "text/plain": [
       "{1, 2, 3, 4, 5, 6}"
      ]
     },
     "execution_count": 71,
     "metadata": {},
     "output_type": "execute_result"
    }
   ],
   "source": [
    "s1.union(s2)"
   ]
  },
  {
   "cell_type": "code",
   "execution_count": 72,
   "id": "eb277541",
   "metadata": {},
   "outputs": [
    {
     "data": {
      "text/plain": [
       "{1, 2, 3, 4, 5, 6}"
      ]
     },
     "execution_count": 72,
     "metadata": {},
     "output_type": "execute_result"
    }
   ],
   "source": [
    "s1 | s2"
   ]
  },
  {
   "cell_type": "code",
   "execution_count": 73,
   "id": "a2de3d23",
   "metadata": {},
   "outputs": [
    {
     "data": {
      "text/plain": [
       "{2, 3}"
      ]
     },
     "execution_count": 73,
     "metadata": {},
     "output_type": "execute_result"
    }
   ],
   "source": [
    "s1.intersection(s2)"
   ]
  },
  {
   "cell_type": "code",
   "execution_count": 74,
   "id": "f093980f",
   "metadata": {},
   "outputs": [
    {
     "data": {
      "text/plain": [
       "{2, 3}"
      ]
     },
     "execution_count": 74,
     "metadata": {},
     "output_type": "execute_result"
    }
   ],
   "source": [
    "s1 & s2"
   ]
  },
  {
   "cell_type": "code",
   "execution_count": 75,
   "id": "3eebd511",
   "metadata": {},
   "outputs": [
    {
     "data": {
      "text/plain": [
       "{1}"
      ]
     },
     "execution_count": 75,
     "metadata": {},
     "output_type": "execute_result"
    }
   ],
   "source": [
    "s1.difference(s2)"
   ]
  },
  {
   "cell_type": "code",
   "execution_count": 76,
   "id": "cdc27b73",
   "metadata": {},
   "outputs": [
    {
     "data": {
      "text/plain": [
       "{1}"
      ]
     },
     "execution_count": 76,
     "metadata": {},
     "output_type": "execute_result"
    }
   ],
   "source": [
    "s1 - s2"
   ]
  },
  {
   "cell_type": "code",
   "execution_count": 78,
   "id": "4ef101ed",
   "metadata": {},
   "outputs": [
    {
     "data": {
      "text/plain": [
       "{1, 4, 5, 6}"
      ]
     },
     "execution_count": 78,
     "metadata": {},
     "output_type": "execute_result"
    }
   ],
   "source": [
    "s1.symmetric_difference(s2)"
   ]
  },
  {
   "cell_type": "code",
   "execution_count": 79,
   "id": "9e673194",
   "metadata": {},
   "outputs": [
    {
     "data": {
      "text/plain": [
       "{1, 4, 5, 6}"
      ]
     },
     "execution_count": 79,
     "metadata": {},
     "output_type": "execute_result"
    }
   ],
   "source": [
    "s1 ^ s2"
   ]
  },
  {
   "cell_type": "code",
   "execution_count": 84,
   "id": "9b9a0868",
   "metadata": {},
   "outputs": [],
   "source": [
    "s = { 1, True, \"string\", 4.5, (1,2) }\n",
    "# sets can store immutable data types and structures"
   ]
  },
  {
   "cell_type": "code",
   "execution_count": 88,
   "id": "6ce730a8",
   "metadata": {},
   "outputs": [],
   "source": [
    "# HOMEWORK QUESTION\n",
    "test_string = \"this is a string which contains multiple words some of which have repeating characters and some of them don't\"\n",
    "# Return the number of all the words in this string with unique characters"
   ]
  },
  {
   "cell_type": "code",
   "execution_count": 90,
   "id": "72c982f1",
   "metadata": {},
   "outputs": [],
   "source": [
    "# HOMEWORK 2\n",
    "test_string1 = \"0101909090001000010120000010108090001010111\"\n",
    "# You have to check whether this is binary or not"
   ]
  },
  {
   "cell_type": "code",
   "execution_count": 91,
   "id": "b2943296",
   "metadata": {},
   "outputs": [
    {
     "data": {
      "text/plain": [
       "[]"
      ]
     },
     "execution_count": 91,
     "metadata": {},
     "output_type": "execute_result"
    }
   ],
   "source": [
    "a = [1,2,3,4,5,6,7,8,9,10]\n",
    "a[3:8:-1]"
   ]
  },
  {
   "cell_type": "markdown",
   "id": "8909294c",
   "metadata": {},
   "source": [
    "## Comprehension"
   ]
  },
  {
   "cell_type": "code",
   "execution_count": 93,
   "id": "71250264",
   "metadata": {},
   "outputs": [],
   "source": [
    "a = list(range(1,11))"
   ]
  },
  {
   "cell_type": "code",
   "execution_count": 94,
   "id": "a7d9f6fd",
   "metadata": {},
   "outputs": [
    {
     "data": {
      "text/plain": [
       "[1, 2, 3, 4, 5, 6, 7, 8, 9, 10]"
      ]
     },
     "execution_count": 94,
     "metadata": {},
     "output_type": "execute_result"
    }
   ],
   "source": [
    "a"
   ]
  },
  {
   "cell_type": "code",
   "execution_count": 95,
   "id": "030ec75f",
   "metadata": {},
   "outputs": [],
   "source": [
    "a_squares = [ x**2 for x in a ]"
   ]
  },
  {
   "cell_type": "code",
   "execution_count": 96,
   "id": "72870408",
   "metadata": {},
   "outputs": [
    {
     "data": {
      "text/plain": [
       "[1, 4, 9, 16, 25, 36, 49, 64, 81, 100]"
      ]
     },
     "execution_count": 96,
     "metadata": {},
     "output_type": "execute_result"
    }
   ],
   "source": [
    "a_squares"
   ]
  },
  {
   "cell_type": "code",
   "execution_count": 98,
   "id": "af1a7696",
   "metadata": {},
   "outputs": [],
   "source": [
    "def logic(x):\n",
    "    if x > 5:\n",
    "        return x**2\n",
    "    else:\n",
    "        return x**4"
   ]
  },
  {
   "cell_type": "code",
   "execution_count": 99,
   "id": "8af3ab56",
   "metadata": {},
   "outputs": [],
   "source": [
    "a_logic = [ logic(x) for x in a ]"
   ]
  },
  {
   "cell_type": "code",
   "execution_count": 100,
   "id": "7b5ddb0b",
   "metadata": {},
   "outputs": [
    {
     "data": {
      "text/plain": [
       "[1, 16, 81, 256, 625, 36, 49, 64, 81, 100]"
      ]
     },
     "execution_count": 100,
     "metadata": {},
     "output_type": "execute_result"
    }
   ],
   "source": [
    "a_logic"
   ]
  },
  {
   "cell_type": "code",
   "execution_count": 101,
   "id": "155a5840",
   "metadata": {},
   "outputs": [],
   "source": [
    "# value_if_true if condition else value_if_false"
   ]
  },
  {
   "cell_type": "code",
   "execution_count": 103,
   "id": "a2f64a14",
   "metadata": {},
   "outputs": [],
   "source": [
    "a1 = [ 0 if i<5 else 1 for i in a ]"
   ]
  },
  {
   "cell_type": "code",
   "execution_count": 104,
   "id": "8b7fa1c5",
   "metadata": {},
   "outputs": [
    {
     "data": {
      "text/plain": [
       "[0, 0, 0, 0, 1, 1, 1, 1, 1, 1]"
      ]
     },
     "execution_count": 104,
     "metadata": {},
     "output_type": "execute_result"
    }
   ],
   "source": [
    "a1"
   ]
  },
  {
   "cell_type": "code",
   "execution_count": 107,
   "id": "c113555f",
   "metadata": {},
   "outputs": [],
   "source": [
    "cool_list = [ [i*j for j in range(1,11)] for i in range(1,11) ]"
   ]
  },
  {
   "cell_type": "code",
   "execution_count": 108,
   "id": "5327da3e",
   "metadata": {},
   "outputs": [
    {
     "data": {
      "text/plain": [
       "[[1, 2, 3, 4, 5, 6, 7, 8, 9, 10],\n",
       " [2, 4, 6, 8, 10, 12, 14, 16, 18, 20],\n",
       " [3, 6, 9, 12, 15, 18, 21, 24, 27, 30],\n",
       " [4, 8, 12, 16, 20, 24, 28, 32, 36, 40],\n",
       " [5, 10, 15, 20, 25, 30, 35, 40, 45, 50],\n",
       " [6, 12, 18, 24, 30, 36, 42, 48, 54, 60],\n",
       " [7, 14, 21, 28, 35, 42, 49, 56, 63, 70],\n",
       " [8, 16, 24, 32, 40, 48, 56, 64, 72, 80],\n",
       " [9, 18, 27, 36, 45, 54, 63, 72, 81, 90],\n",
       " [10, 20, 30, 40, 50, 60, 70, 80, 90, 100]]"
      ]
     },
     "execution_count": 108,
     "metadata": {},
     "output_type": "execute_result"
    }
   ],
   "source": [
    "cool_list"
   ]
  },
  {
   "cell_type": "code",
   "execution_count": 109,
   "id": "cdf221bd",
   "metadata": {},
   "outputs": [],
   "source": [
    "s1 = { i**2 for i in range(0,5) }"
   ]
  },
  {
   "cell_type": "code",
   "execution_count": 110,
   "id": "485c1329",
   "metadata": {},
   "outputs": [
    {
     "data": {
      "text/plain": [
       "{0, 1, 4, 9, 16}"
      ]
     },
     "execution_count": 110,
     "metadata": {},
     "output_type": "execute_result"
    }
   ],
   "source": [
    "s1"
   ]
  },
  {
   "cell_type": "code",
   "execution_count": 111,
   "id": "3b654a06",
   "metadata": {},
   "outputs": [
    {
     "data": {
      "text/plain": [
       "set"
      ]
     },
     "execution_count": 111,
     "metadata": {},
     "output_type": "execute_result"
    }
   ],
   "source": [
    "type(s1)"
   ]
  },
  {
   "cell_type": "code",
   "execution_count": 114,
   "id": "1e0b1095",
   "metadata": {},
   "outputs": [],
   "source": [
    "t1 = ( i**2 for i in range(1,11) )"
   ]
  },
  {
   "cell_type": "code",
   "execution_count": 115,
   "id": "2cedb9b1",
   "metadata": {},
   "outputs": [
    {
     "data": {
      "text/plain": [
       "<generator object <genexpr> at 0x7fbb4851c6d0>"
      ]
     },
     "execution_count": 115,
     "metadata": {},
     "output_type": "execute_result"
    }
   ],
   "source": [
    "t1"
   ]
  },
  {
   "cell_type": "code",
   "execution_count": 116,
   "id": "0f0d4dad",
   "metadata": {},
   "outputs": [
    {
     "data": {
      "text/plain": [
       "(1, 4, 9, 16, 25, 36, 49, 64, 81, 100)"
      ]
     },
     "execution_count": 116,
     "metadata": {},
     "output_type": "execute_result"
    }
   ],
   "source": [
    "tuple(t1)"
   ]
  },
  {
   "cell_type": "code",
   "execution_count": 117,
   "id": "468a89bb",
   "metadata": {},
   "outputs": [],
   "source": [
    "d1 = { x:x**2 for x in range(0,11) }"
   ]
  },
  {
   "cell_type": "code",
   "execution_count": 118,
   "id": "76f5ffc8",
   "metadata": {},
   "outputs": [
    {
     "data": {
      "text/plain": [
       "{0: 0, 1: 1, 2: 4, 3: 9, 4: 16, 5: 25, 6: 36, 7: 49, 8: 64, 9: 81, 10: 100}"
      ]
     },
     "execution_count": 118,
     "metadata": {},
     "output_type": "execute_result"
    }
   ],
   "source": [
    "d1"
   ]
  },
  {
   "cell_type": "code",
   "execution_count": 122,
   "id": "433e3cc7",
   "metadata": {},
   "outputs": [],
   "source": [
    "l = 50\n",
    "b = 20\n",
    "a = 50*20\n",
    "\n",
    "s1 = \"Length = \" + str(l) + \", Breadth = \" + str(b) + \", Area = \" + str(a)"
   ]
  },
  {
   "cell_type": "code",
   "execution_count": 123,
   "id": "f7a2c71b",
   "metadata": {},
   "outputs": [
    {
     "data": {
      "text/plain": [
       "'Length = 50, Breadth = 20, Area = 1000'"
      ]
     },
     "execution_count": 123,
     "metadata": {},
     "output_type": "execute_result"
    }
   ],
   "source": [
    "s1"
   ]
  },
  {
   "cell_type": "code",
   "execution_count": 124,
   "id": "b9535021",
   "metadata": {},
   "outputs": [],
   "source": [
    "s2 = \"Length = {}, Breadth = {}, Area = {}\".format(l,b,a)"
   ]
  },
  {
   "cell_type": "code",
   "execution_count": 125,
   "id": "7eb6a585",
   "metadata": {},
   "outputs": [
    {
     "data": {
      "text/plain": [
       "'Length = 50, Breadth = 20, Area = 1000'"
      ]
     },
     "execution_count": 125,
     "metadata": {},
     "output_type": "execute_result"
    }
   ],
   "source": [
    "s2"
   ]
  },
  {
   "cell_type": "code",
   "execution_count": 126,
   "id": "f5173a36",
   "metadata": {},
   "outputs": [],
   "source": [
    "s3 = f\"Length = {l}, Breadth = {b}, Area = {a}\""
   ]
  },
  {
   "cell_type": "code",
   "execution_count": 127,
   "id": "3009e07c",
   "metadata": {},
   "outputs": [
    {
     "data": {
      "text/plain": [
       "'Length = 50, Breadth = 20, Area = 1000'"
      ]
     },
     "execution_count": 127,
     "metadata": {},
     "output_type": "execute_result"
    }
   ],
   "source": [
    "s3"
   ]
  },
  {
   "cell_type": "code",
   "execution_count": 128,
   "id": "f5d98130",
   "metadata": {},
   "outputs": [],
   "source": [
    "d1 = { f\"Square of {x}\":x**2 for x in range(0,11) }"
   ]
  },
  {
   "cell_type": "code",
   "execution_count": 130,
   "id": "19216c1b",
   "metadata": {},
   "outputs": [
    {
     "data": {
      "text/plain": [
       "{'Square of 0': 0,\n",
       " 'Square of 1': 1,\n",
       " 'Square of 2': 4,\n",
       " 'Square of 3': 9,\n",
       " 'Square of 4': 16,\n",
       " 'Square of 5': 25,\n",
       " 'Square of 6': 36,\n",
       " 'Square of 7': 49,\n",
       " 'Square of 8': 64,\n",
       " 'Square of 9': 81,\n",
       " 'Square of 10': 100}"
      ]
     },
     "execution_count": 130,
     "metadata": {},
     "output_type": "execute_result"
    }
   ],
   "source": [
    "d1"
   ]
  },
  {
   "cell_type": "code",
   "execution_count": 132,
   "id": "a70116ee",
   "metadata": {},
   "outputs": [
    {
     "data": {
      "text/plain": [
       "'\\n5 5 5 5 5\\n5 4 4 4 5\\n5 4 3 4 5\\n5 4 4 4 5\\n5 5 5 5 5\\n'"
      ]
     },
     "execution_count": 132,
     "metadata": {},
     "output_type": "execute_result"
    }
   ],
   "source": [
    "# HOMEWORK 3\n",
    "'''\n",
    "5 5 5 5 5\n",
    "5 4 4 4 5\n",
    "5 4 3 4 5\n",
    "5 4 4 4 5\n",
    "5 5 5 5 5\n",
    "'''"
   ]
  },
  {
   "cell_type": "code",
   "execution_count": 133,
   "id": "686953db",
   "metadata": {},
   "outputs": [],
   "source": [
    "board = [[\"\"]*3]*3"
   ]
  },
  {
   "cell_type": "code",
   "execution_count": 134,
   "id": "511767d7",
   "metadata": {},
   "outputs": [
    {
     "data": {
      "text/plain": [
       "[['', '', ''], ['', '', ''], ['', '', '']]"
      ]
     },
     "execution_count": 134,
     "metadata": {},
     "output_type": "execute_result"
    }
   ],
   "source": [
    "board"
   ]
  },
  {
   "cell_type": "code",
   "execution_count": 135,
   "id": "6e908bd0",
   "metadata": {},
   "outputs": [
    {
     "data": {
      "text/plain": [
       "True"
      ]
     },
     "execution_count": 135,
     "metadata": {},
     "output_type": "execute_result"
    }
   ],
   "source": [
    "id(board[0]) == id(board[1]) == id(board[2])"
   ]
  },
  {
   "cell_type": "code",
   "execution_count": 136,
   "id": "e2935e0d",
   "metadata": {},
   "outputs": [
    {
     "data": {
      "text/plain": [
       "True"
      ]
     },
     "execution_count": 136,
     "metadata": {},
     "output_type": "execute_result"
    }
   ],
   "source": [
    "id(board[0][0]) == id(board[1][1]) == id(board[2][2])"
   ]
  },
  {
   "cell_type": "code",
   "execution_count": null,
   "id": "9642ce86",
   "metadata": {},
   "outputs": [],
   "source": []
  }
 ],
 "metadata": {
  "kernelspec": {
   "display_name": "Python 3 (ipykernel)",
   "language": "python",
   "name": "python3"
  },
  "language_info": {
   "codemirror_mode": {
    "name": "ipython",
    "version": 3
   },
   "file_extension": ".py",
   "mimetype": "text/x-python",
   "name": "python",
   "nbconvert_exporter": "python",
   "pygments_lexer": "ipython3",
   "version": "3.9.5"
  }
 },
 "nbformat": 4,
 "nbformat_minor": 5
}
