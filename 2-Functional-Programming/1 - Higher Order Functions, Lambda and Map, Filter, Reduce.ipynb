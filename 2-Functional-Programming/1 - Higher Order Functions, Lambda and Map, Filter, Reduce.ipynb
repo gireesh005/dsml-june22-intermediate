{
 "cells": [
  {
   "cell_type": "code",
   "execution_count": 11,
   "id": "23997b84",
   "metadata": {},
   "outputs": [],
   "source": [
    "def square(x):\n",
    "    return x**2"
   ]
  },
  {
   "cell_type": "code",
   "execution_count": 13,
   "id": "c72f3b8e",
   "metadata": {},
   "outputs": [
    {
     "data": {
      "text/plain": [
       "25"
      ]
     },
     "execution_count": 13,
     "metadata": {},
     "output_type": "execute_result"
    }
   ],
   "source": [
    "square(5)"
   ]
  },
  {
   "cell_type": "code",
   "execution_count": 2,
   "id": "cd6b6e6a",
   "metadata": {},
   "outputs": [],
   "source": [
    "square_lambda = lambda x: x**2"
   ]
  },
  {
   "cell_type": "code",
   "execution_count": 3,
   "id": "bda7f121",
   "metadata": {},
   "outputs": [
    {
     "data": {
      "text/plain": [
       "4"
      ]
     },
     "execution_count": 3,
     "metadata": {},
     "output_type": "execute_result"
    }
   ],
   "source": [
    "square_lambda(2)"
   ]
  },
  {
   "cell_type": "code",
   "execution_count": 4,
   "id": "c80c3a10",
   "metadata": {},
   "outputs": [
    {
     "data": {
      "text/plain": [
       "function"
      ]
     },
     "execution_count": 4,
     "metadata": {},
     "output_type": "execute_result"
    }
   ],
   "source": [
    "type(square_lambda)"
   ]
  },
  {
   "cell_type": "code",
   "execution_count": 6,
   "id": "1ad87d29",
   "metadata": {},
   "outputs": [],
   "source": [
    "add_lambda = lambda x,y: x+y"
   ]
  },
  {
   "cell_type": "code",
   "execution_count": 7,
   "id": "89c4c674",
   "metadata": {},
   "outputs": [
    {
     "data": {
      "text/plain": [
       "9"
      ]
     },
     "execution_count": 7,
     "metadata": {},
     "output_type": "execute_result"
    }
   ],
   "source": [
    "add_lambda(5,4)"
   ]
  },
  {
   "cell_type": "code",
   "execution_count": 8,
   "id": "0f0f8176",
   "metadata": {},
   "outputs": [],
   "source": [
    "# Anonymous"
   ]
  },
  {
   "cell_type": "code",
   "execution_count": 14,
   "id": "c87840bc",
   "metadata": {},
   "outputs": [],
   "source": [
    "random = (lambda x: x**3)(5)"
   ]
  },
  {
   "cell_type": "code",
   "execution_count": 15,
   "id": "690a2728",
   "metadata": {},
   "outputs": [
    {
     "data": {
      "text/plain": [
       "125"
      ]
     },
     "execution_count": 15,
     "metadata": {},
     "output_type": "execute_result"
    }
   ],
   "source": [
    "random"
   ]
  },
  {
   "cell_type": "code",
   "execution_count": 16,
   "id": "11d72c81",
   "metadata": {},
   "outputs": [],
   "source": [
    "a = [5,6,2,4,1,5,6,8]"
   ]
  },
  {
   "cell_type": "code",
   "execution_count": 17,
   "id": "b46f1a9b",
   "metadata": {},
   "outputs": [
    {
     "data": {
      "text/plain": [
       "[1, 2, 4, 5, 5, 6, 6, 8]"
      ]
     },
     "execution_count": 17,
     "metadata": {},
     "output_type": "execute_result"
    }
   ],
   "source": [
    "sorted(a)"
   ]
  },
  {
   "cell_type": "code",
   "execution_count": 18,
   "id": "45491989",
   "metadata": {},
   "outputs": [
    {
     "data": {
      "text/plain": [
       "[5, 6, 2, 4, 1, 5, 6, 8]"
      ]
     },
     "execution_count": 18,
     "metadata": {},
     "output_type": "execute_result"
    }
   ],
   "source": [
    "a"
   ]
  },
  {
   "cell_type": "code",
   "execution_count": 26,
   "id": "2f8f7244",
   "metadata": {},
   "outputs": [],
   "source": [
    "students = [\n",
    "    {\"name\": \"A\", \"marks\": 40 },\n",
    "    {\"name\": \"B\", \"marks\": 90 },\n",
    "    {\"name\": \"C\", \"marks\": 50 },\n",
    "    {\"name\": \"D\", \"marks\": 100 },\n",
    "    {\"name\": \"E\", \"marks\": 30 },\n",
    "]"
   ]
  },
  {
   "cell_type": "code",
   "execution_count": 27,
   "id": "ee04bcff",
   "metadata": {},
   "outputs": [
    {
     "ename": "TypeError",
     "evalue": "'<' not supported between instances of 'dict' and 'dict'",
     "output_type": "error",
     "traceback": [
      "\u001b[0;31m---------------------------------------------------------------------------\u001b[0m",
      "\u001b[0;31mTypeError\u001b[0m                                 Traceback (most recent call last)",
      "\u001b[0;32m/var/folders/nn/c52y0d3j0gq59dpsswchkt2r0000gn/T/ipykernel_26377/645918957.py\u001b[0m in \u001b[0;36m<module>\u001b[0;34m\u001b[0m\n\u001b[0;32m----> 1\u001b[0;31m \u001b[0msorted\u001b[0m\u001b[0;34m(\u001b[0m\u001b[0mstudents\u001b[0m\u001b[0;34m)\u001b[0m\u001b[0;34m\u001b[0m\u001b[0;34m\u001b[0m\u001b[0m\n\u001b[0m",
      "\u001b[0;31mTypeError\u001b[0m: '<' not supported between instances of 'dict' and 'dict'"
     ]
    }
   ],
   "source": [
    "sorted(students)"
   ]
  },
  {
   "cell_type": "code",
   "execution_count": 28,
   "id": "a560afa9",
   "metadata": {},
   "outputs": [
    {
     "data": {
      "text/plain": [
       "[{'name': 'E', 'marks': 30},\n",
       " {'name': 'A', 'marks': 40},\n",
       " {'name': 'C', 'marks': 50},\n",
       " {'name': 'B', 'marks': 90},\n",
       " {'name': 'D', 'marks': 100}]"
      ]
     },
     "execution_count": 28,
     "metadata": {},
     "output_type": "execute_result"
    }
   ],
   "source": [
    "sorted(students, key = lambda x: x[\"marks\"])"
   ]
  },
  {
   "cell_type": "markdown",
   "id": "67f5ac2b",
   "metadata": {},
   "source": [
    "## Higher Order Functions"
   ]
  },
  {
   "cell_type": "code",
   "execution_count": 47,
   "id": "7cff33d4",
   "metadata": {},
   "outputs": [],
   "source": [
    "def random(x):\n",
    "    return x"
   ]
  },
  {
   "cell_type": "code",
   "execution_count": 48,
   "id": "e18ef4dd",
   "metadata": {},
   "outputs": [],
   "source": [
    "def gen_exp(n):\n",
    "    def exp(x):\n",
    "#         print(x)\n",
    "        return x**n\n",
    "    \n",
    "    return exp"
   ]
  },
  {
   "cell_type": "code",
   "execution_count": 35,
   "id": "8cbb56d5",
   "metadata": {},
   "outputs": [],
   "source": [
    "exp_5 = gen_exp(5)"
   ]
  },
  {
   "cell_type": "code",
   "execution_count": 36,
   "id": "9b45b22d",
   "metadata": {},
   "outputs": [
    {
     "data": {
      "text/plain": [
       "function"
      ]
     },
     "execution_count": 36,
     "metadata": {},
     "output_type": "execute_result"
    }
   ],
   "source": [
    "type(exp_5)"
   ]
  },
  {
   "cell_type": "code",
   "execution_count": 37,
   "id": "1818476b",
   "metadata": {},
   "outputs": [
    {
     "name": "stdout",
     "output_type": "stream",
     "text": [
      "10\n"
     ]
    },
    {
     "data": {
      "text/plain": [
       "100000"
      ]
     },
     "execution_count": 37,
     "metadata": {},
     "output_type": "execute_result"
    }
   ],
   "source": [
    "exp_5(10)"
   ]
  },
  {
   "cell_type": "code",
   "execution_count": null,
   "id": "20a191c8",
   "metadata": {},
   "outputs": [],
   "source": []
  },
  {
   "cell_type": "code",
   "execution_count": null,
   "id": "ce70a2c4",
   "metadata": {},
   "outputs": [],
   "source": []
  },
  {
   "cell_type": "code",
   "execution_count": null,
   "id": "bef82040",
   "metadata": {},
   "outputs": [],
   "source": []
  },
  {
   "cell_type": "markdown",
   "id": "05c90eb2",
   "metadata": {},
   "source": [
    "### Decorators"
   ]
  },
  {
   "cell_type": "code",
   "execution_count": 39,
   "id": "898fdeb9",
   "metadata": {},
   "outputs": [],
   "source": [
    "def say_hello():\n",
    "    print(\"-\"*50)\n",
    "    print(\"Hello!\")\n",
    "    print(\"-\"*50)"
   ]
  },
  {
   "cell_type": "code",
   "execution_count": 40,
   "id": "042d79d6",
   "metadata": {},
   "outputs": [
    {
     "name": "stdout",
     "output_type": "stream",
     "text": [
      "--------------------------------------------------\n",
      "Hello!\n",
      "--------------------------------------------------\n"
     ]
    }
   ],
   "source": [
    "say_hello()"
   ]
  },
  {
   "cell_type": "code",
   "execution_count": 41,
   "id": "127de0d8",
   "metadata": {},
   "outputs": [],
   "source": [
    "def say_bye():\n",
    "    print(\"-\"*50)\n",
    "    print(\"Bye\")\n",
    "    print(\"-\"*50)"
   ]
  },
  {
   "cell_type": "code",
   "execution_count": 42,
   "id": "b6c37006",
   "metadata": {},
   "outputs": [],
   "source": [
    "def pretty_printer(func):\n",
    "    def wrapper():\n",
    "        print(\"-\"*50)\n",
    "        func()\n",
    "        print(\"-\"*50)\n",
    "        \n",
    "    return wrapper"
   ]
  },
  {
   "cell_type": "code",
   "execution_count": 43,
   "id": "06e5c69c",
   "metadata": {},
   "outputs": [],
   "source": [
    "def say_hello():\n",
    "    print(\"Hello\")"
   ]
  },
  {
   "cell_type": "code",
   "execution_count": 44,
   "id": "ac9272dc",
   "metadata": {},
   "outputs": [],
   "source": [
    "decorated_say_hello = pretty_printer(say_hello)"
   ]
  },
  {
   "cell_type": "code",
   "execution_count": 45,
   "id": "e1063053",
   "metadata": {
    "scrolled": true
   },
   "outputs": [
    {
     "name": "stdout",
     "output_type": "stream",
     "text": [
      "--------------------------------------------------\n",
      "Hello\n",
      "--------------------------------------------------\n"
     ]
    }
   ],
   "source": [
    "decorated_say_hello()"
   ]
  },
  {
   "cell_type": "code",
   "execution_count": 72,
   "id": "e0b32291",
   "metadata": {},
   "outputs": [],
   "source": [
    "@pretty_printer\n",
    "def say_bye():\n",
    "    print(\"Bye!\")"
   ]
  },
  {
   "cell_type": "code",
   "execution_count": 73,
   "id": "55d9ba90",
   "metadata": {},
   "outputs": [
    {
     "name": "stdout",
     "output_type": "stream",
     "text": [
      "--------------------------------------------------\n",
      "Bye!\n",
      "--------------------------------------------------\n"
     ]
    }
   ],
   "source": [
    "say_bye()"
   ]
  },
  {
   "cell_type": "code",
   "execution_count": null,
   "id": "7d0914c4",
   "metadata": {},
   "outputs": [],
   "source": []
  },
  {
   "cell_type": "code",
   "execution_count": 56,
   "id": "d806b829",
   "metadata": {},
   "outputs": [],
   "source": [
    "x = 5"
   ]
  },
  {
   "cell_type": "code",
   "execution_count": 57,
   "id": "ec622a35",
   "metadata": {},
   "outputs": [],
   "source": [
    "x = 2*x\n",
    "x += 1"
   ]
  },
  {
   "cell_type": "code",
   "execution_count": 58,
   "id": "94ed1de6",
   "metadata": {},
   "outputs": [
    {
     "data": {
      "text/plain": [
       "11"
      ]
     },
     "execution_count": 58,
     "metadata": {},
     "output_type": "execute_result"
    }
   ],
   "source": [
    "x"
   ]
  },
  {
   "cell_type": "code",
   "execution_count": 59,
   "id": "49065138",
   "metadata": {},
   "outputs": [],
   "source": [
    "# Issue with tracking"
   ]
  },
  {
   "cell_type": "code",
   "execution_count": 60,
   "id": "54509b2a",
   "metadata": {},
   "outputs": [],
   "source": [
    "x = 5"
   ]
  },
  {
   "cell_type": "code",
   "execution_count": 61,
   "id": "950ac943",
   "metadata": {},
   "outputs": [],
   "source": [
    "x1 = 2*x\n",
    "x2 = x1 + 1"
   ]
  },
  {
   "cell_type": "code",
   "execution_count": 62,
   "id": "2a040242",
   "metadata": {},
   "outputs": [],
   "source": [
    "x = 5"
   ]
  },
  {
   "cell_type": "code",
   "execution_count": 68,
   "id": "7f95c97b",
   "metadata": {},
   "outputs": [],
   "source": [
    "def mutation1(a):\n",
    "    a = 2*a\n",
    "    a -= 1\n",
    "    \n",
    "    return a"
   ]
  },
  {
   "cell_type": "code",
   "execution_count": 69,
   "id": "fe5a04c6",
   "metadata": {},
   "outputs": [],
   "source": [
    "x1 = mutation1(x)"
   ]
  },
  {
   "cell_type": "code",
   "execution_count": 70,
   "id": "9d4c4b98",
   "metadata": {},
   "outputs": [
    {
     "data": {
      "text/plain": [
       "5"
      ]
     },
     "execution_count": 70,
     "metadata": {},
     "output_type": "execute_result"
    }
   ],
   "source": [
    "x"
   ]
  },
  {
   "cell_type": "code",
   "execution_count": 71,
   "id": "4109bfad",
   "metadata": {},
   "outputs": [
    {
     "data": {
      "text/plain": [
       "9"
      ]
     },
     "execution_count": 71,
     "metadata": {},
     "output_type": "execute_result"
    }
   ],
   "source": [
    "x1"
   ]
  },
  {
   "cell_type": "code",
   "execution_count": 76,
   "id": "23edfab0",
   "metadata": {},
   "outputs": [],
   "source": [
    "# HOMEWORK\n",
    "# Try out decorators with arguments\n",
    "# Try out multiple decorators as well"
   ]
  },
  {
   "cell_type": "code",
   "execution_count": 77,
   "id": "d40a07cc",
   "metadata": {},
   "outputs": [],
   "source": [
    "a = [1,2,3,4,5]"
   ]
  },
  {
   "cell_type": "code",
   "execution_count": 78,
   "id": "9c33eae8",
   "metadata": {},
   "outputs": [],
   "source": [
    "m = map(lambda x: x**2, a)"
   ]
  },
  {
   "cell_type": "code",
   "execution_count": 79,
   "id": "af1a5ce3",
   "metadata": {},
   "outputs": [
    {
     "data": {
      "text/plain": [
       "<map at 0x7f91888d6430>"
      ]
     },
     "execution_count": 79,
     "metadata": {},
     "output_type": "execute_result"
    }
   ],
   "source": [
    "m"
   ]
  },
  {
   "cell_type": "code",
   "execution_count": 80,
   "id": "ea856910",
   "metadata": {},
   "outputs": [],
   "source": [
    "m_list = list(m)"
   ]
  },
  {
   "cell_type": "code",
   "execution_count": 81,
   "id": "49f199d4",
   "metadata": {},
   "outputs": [
    {
     "data": {
      "text/plain": [
       "[1, 4, 9, 16, 25]"
      ]
     },
     "execution_count": 81,
     "metadata": {},
     "output_type": "execute_result"
    }
   ],
   "source": [
    "m_list"
   ]
  },
  {
   "cell_type": "code",
   "execution_count": 82,
   "id": "b707be46",
   "metadata": {},
   "outputs": [],
   "source": [
    "a = [1,2,3]\n",
    "b = [4,5,6]"
   ]
  },
  {
   "cell_type": "code",
   "execution_count": 83,
   "id": "6325a0cd",
   "metadata": {},
   "outputs": [],
   "source": [
    "m = list(map(lambda x, y: x + y, a, b))"
   ]
  },
  {
   "cell_type": "code",
   "execution_count": 84,
   "id": "2eb73991",
   "metadata": {},
   "outputs": [
    {
     "data": {
      "text/plain": [
       "[5, 7, 9]"
      ]
     },
     "execution_count": 84,
     "metadata": {},
     "output_type": "execute_result"
    }
   ],
   "source": [
    "m"
   ]
  },
  {
   "cell_type": "code",
   "execution_count": 85,
   "id": "c977da85",
   "metadata": {},
   "outputs": [],
   "source": [
    "A = [1,1,1,0,0,1,0,1,1,0,0,0,0,1,0,1]\n",
    "B = [1,0,1,0,1,1,0,0,1,0,1,1,1,0,0,0]"
   ]
  },
  {
   "cell_type": "code",
   "execution_count": 86,
   "id": "fd87849f",
   "metadata": {},
   "outputs": [],
   "source": [
    "C = list(map(lambda x,y: x == y, A, B))"
   ]
  },
  {
   "cell_type": "code",
   "execution_count": 87,
   "id": "741abea0",
   "metadata": {},
   "outputs": [
    {
     "data": {
      "text/plain": [
       "[True,\n",
       " False,\n",
       " True,\n",
       " True,\n",
       " False,\n",
       " True,\n",
       " True,\n",
       " False,\n",
       " True,\n",
       " True,\n",
       " False,\n",
       " False,\n",
       " False,\n",
       " False,\n",
       " True,\n",
       " False]"
      ]
     },
     "execution_count": 87,
     "metadata": {},
     "output_type": "execute_result"
    }
   ],
   "source": [
    "C"
   ]
  },
  {
   "cell_type": "code",
   "execution_count": 88,
   "id": "3e789973",
   "metadata": {},
   "outputs": [],
   "source": [
    "a = [1,2,3,4,5,6]\n",
    "\n",
    "f = filter(lambda x: x%2 == 0, a)"
   ]
  },
  {
   "cell_type": "code",
   "execution_count": 89,
   "id": "5510bfea",
   "metadata": {},
   "outputs": [
    {
     "data": {
      "text/plain": [
       "<filter at 0x7f91888ee400>"
      ]
     },
     "execution_count": 89,
     "metadata": {},
     "output_type": "execute_result"
    }
   ],
   "source": [
    "f"
   ]
  },
  {
   "cell_type": "code",
   "execution_count": 90,
   "id": "70969dc3",
   "metadata": {},
   "outputs": [],
   "source": [
    "f_list = list(f)"
   ]
  },
  {
   "cell_type": "code",
   "execution_count": 91,
   "id": "f893b0b5",
   "metadata": {},
   "outputs": [
    {
     "data": {
      "text/plain": [
       "[2, 4, 6]"
      ]
     },
     "execution_count": 91,
     "metadata": {},
     "output_type": "execute_result"
    }
   ],
   "source": [
    "f_list"
   ]
  },
  {
   "cell_type": "code",
   "execution_count": 92,
   "id": "fe328985",
   "metadata": {},
   "outputs": [],
   "source": [
    "f2 = list(filter(lambda x: x%2 == 1, a))"
   ]
  },
  {
   "cell_type": "code",
   "execution_count": 93,
   "id": "77ff7d89",
   "metadata": {},
   "outputs": [
    {
     "data": {
      "text/plain": [
       "[1, 3, 5]"
      ]
     },
     "execution_count": 93,
     "metadata": {},
     "output_type": "execute_result"
    }
   ],
   "source": [
    "f2"
   ]
  },
  {
   "cell_type": "code",
   "execution_count": 96,
   "id": "568db796",
   "metadata": {},
   "outputs": [],
   "source": [
    "filter?"
   ]
  },
  {
   "cell_type": "code",
   "execution_count": 95,
   "id": "988a8841",
   "metadata": {},
   "outputs": [],
   "source": [
    "map?"
   ]
  },
  {
   "cell_type": "code",
   "execution_count": 109,
   "id": "ceb07293",
   "metadata": {},
   "outputs": [
    {
     "name": "stdout",
     "output_type": "stream",
     "text": [
      "FALSY\n"
     ]
    }
   ],
   "source": [
    "if None:\n",
    "    print(\"TRUTHY\")\n",
    "else:\n",
    "    print(\"FALSY\")"
   ]
  },
  {
   "cell_type": "code",
   "execution_count": 110,
   "id": "b235127c",
   "metadata": {},
   "outputs": [],
   "source": [
    "from functools import reduce"
   ]
  },
  {
   "cell_type": "code",
   "execution_count": 111,
   "id": "44d550b8",
   "metadata": {},
   "outputs": [],
   "source": [
    "a = list(range(1,11))"
   ]
  },
  {
   "cell_type": "code",
   "execution_count": 112,
   "id": "3b9923cf",
   "metadata": {},
   "outputs": [
    {
     "data": {
      "text/plain": [
       "[1, 2, 3, 4, 5, 6, 7, 8, 9, 10]"
      ]
     },
     "execution_count": 112,
     "metadata": {},
     "output_type": "execute_result"
    }
   ],
   "source": [
    "a"
   ]
  },
  {
   "cell_type": "code",
   "execution_count": 113,
   "id": "51f685f0",
   "metadata": {},
   "outputs": [],
   "source": [
    "r = reduce(lambda x, y: x*y, a)"
   ]
  },
  {
   "cell_type": "code",
   "execution_count": 115,
   "id": "d75b02d5",
   "metadata": {},
   "outputs": [
    {
     "data": {
      "text/plain": [
       "3628800"
      ]
     },
     "execution_count": 115,
     "metadata": {},
     "output_type": "execute_result"
    }
   ],
   "source": [
    "r"
   ]
  },
  {
   "cell_type": "code",
   "execution_count": 116,
   "id": "cc4a07a3",
   "metadata": {},
   "outputs": [],
   "source": [
    "r1 = reduce(lambda x, y: x if x > y else y, a)"
   ]
  },
  {
   "cell_type": "code",
   "execution_count": 117,
   "id": "006f93d3",
   "metadata": {},
   "outputs": [
    {
     "data": {
      "text/plain": [
       "10"
      ]
     },
     "execution_count": 117,
     "metadata": {},
     "output_type": "execute_result"
    }
   ],
   "source": [
    "r1"
   ]
  },
  {
   "cell_type": "code",
   "execution_count": 120,
   "id": "c582a376",
   "metadata": {},
   "outputs": [
    {
     "name": "stdout",
     "output_type": "stream",
     "text": [
      "\n",
      "Hello\n",
      "\n"
     ]
    }
   ],
   "source": [
    "def wrapper(func):\n",
    "    print(\"\"*50)\n",
    "    func()\n",
    "    print(\"\"*50)\n",
    "    \n",
    "    return\n",
    "\n",
    "def say_hello():\n",
    "    print(\"Hello\")\n",
    "    \n",
    "wrapper(say_hello)"
   ]
  },
  {
   "cell_type": "code",
   "execution_count": 123,
   "id": "28049dd2",
   "metadata": {},
   "outputs": [
    {
     "name": "stdout",
     "output_type": "stream",
     "text": [
      "--------------------------------------------------\n"
     ]
    },
    {
     "ename": "TypeError",
     "evalue": "'str' object is not callable",
     "output_type": "error",
     "traceback": [
      "\u001b[0;31m---------------------------------------------------------------------------\u001b[0m",
      "\u001b[0;31mTypeError\u001b[0m                                 Traceback (most recent call last)",
      "\u001b[0;32m/var/folders/nn/c52y0d3j0gq59dpsswchkt2r0000gn/T/ipykernel_26377/3764538227.py\u001b[0m in \u001b[0;36m<module>\u001b[0;34m\u001b[0m\n\u001b[1;32m     10\u001b[0m \u001b[0;34m\u001b[0m\u001b[0m\n\u001b[1;32m     11\u001b[0m \u001b[0mdecorted_say_hello\u001b[0m \u001b[0;34m=\u001b[0m \u001b[0mdecorated\u001b[0m\u001b[0;34m(\u001b[0m\u001b[0msay_hello\u001b[0m\u001b[0;34m)\u001b[0m\u001b[0;34m\u001b[0m\u001b[0;34m\u001b[0m\u001b[0m\n\u001b[0;32m---> 12\u001b[0;31m \u001b[0mdecorted_say_hello\u001b[0m\u001b[0;34m(\u001b[0m\u001b[0;34m'Numaan'\u001b[0m\u001b[0;34m)\u001b[0m\u001b[0;34m\u001b[0m\u001b[0;34m\u001b[0m\u001b[0m\n\u001b[0m",
      "\u001b[0;32m/var/folders/nn/c52y0d3j0gq59dpsswchkt2r0000gn/T/ipykernel_26377/3764538227.py\u001b[0m in \u001b[0;36mwrapper\u001b[0;34m(func)\u001b[0m\n\u001b[1;32m      2\u001b[0m     \u001b[0;32mdef\u001b[0m \u001b[0mwrapper\u001b[0m\u001b[0;34m(\u001b[0m\u001b[0mfunc\u001b[0m\u001b[0;34m)\u001b[0m\u001b[0;34m:\u001b[0m\u001b[0;34m\u001b[0m\u001b[0;34m\u001b[0m\u001b[0m\n\u001b[1;32m      3\u001b[0m         \u001b[0mprint\u001b[0m\u001b[0;34m(\u001b[0m\u001b[0;34m\"-\"\u001b[0m\u001b[0;34m*\u001b[0m\u001b[0;36m50\u001b[0m\u001b[0;34m)\u001b[0m\u001b[0;34m\u001b[0m\u001b[0;34m\u001b[0m\u001b[0m\n\u001b[0;32m----> 4\u001b[0;31m         \u001b[0mfunc\u001b[0m\u001b[0;34m(\u001b[0m\u001b[0;34m)\u001b[0m\u001b[0;34m\u001b[0m\u001b[0;34m\u001b[0m\u001b[0m\n\u001b[0m\u001b[1;32m      5\u001b[0m         \u001b[0mprint\u001b[0m\u001b[0;34m(\u001b[0m\u001b[0;34m\"-\"\u001b[0m\u001b[0;34m*\u001b[0m\u001b[0;36m50\u001b[0m\u001b[0;34m)\u001b[0m\u001b[0;34m\u001b[0m\u001b[0;34m\u001b[0m\u001b[0m\n\u001b[1;32m      6\u001b[0m     \u001b[0;32mreturn\u001b[0m \u001b[0mwrapper\u001b[0m\u001b[0;34m\u001b[0m\u001b[0;34m\u001b[0m\u001b[0m\n",
      "\u001b[0;31mTypeError\u001b[0m: 'str' object is not callable"
     ]
    }
   ],
   "source": [
    "def decorated(func):\n",
    "    def wrapper(func):\n",
    "        print(\"-\"*50)\n",
    "        func()\n",
    "        print(\"-\"*50)\n",
    "    return wrapper\n",
    "\n",
    "def say_hello(Person):\n",
    "    print('Hello '+ Person)\n",
    "    \n",
    "decorted_say_hello = decorated(say_hello)\n",
    "decorted_say_hello('Numaan')"
   ]
  },
  {
   "cell_type": "code",
   "execution_count": 124,
   "id": "302b645f",
   "metadata": {},
   "outputs": [],
   "source": [
    "a = [1,2,3,4,5]\n",
    "b = [1,2,3,4]"
   ]
  },
  {
   "cell_type": "code",
   "execution_count": 125,
   "id": "4706d20b",
   "metadata": {},
   "outputs": [],
   "source": [
    "c = list(map(lambda x,y: x+y, a, b))"
   ]
  },
  {
   "cell_type": "code",
   "execution_count": 126,
   "id": "61ad8ca5",
   "metadata": {},
   "outputs": [
    {
     "data": {
      "text/plain": [
       "[2, 4, 6, 8]"
      ]
     },
     "execution_count": 126,
     "metadata": {},
     "output_type": "execute_result"
    }
   ],
   "source": [
    "c"
   ]
  },
  {
   "cell_type": "code",
   "execution_count": 128,
   "id": "81a84fb8",
   "metadata": {},
   "outputs": [],
   "source": [
    "reduce?"
   ]
  },
  {
   "cell_type": "code",
   "execution_count": 129,
   "id": "80cb72bc",
   "metadata": {},
   "outputs": [
    {
     "name": "stdout",
     "output_type": "stream",
     "text": [
      "-14\n"
     ]
    }
   ],
   "source": [
    "from functools import reduce\n",
    "a = 2\n",
    "b = [1,2,4,9]\n",
    "x = reduce(lambda x,y: x - y,b,a)\n",
    "print(x)"
   ]
  },
  {
   "cell_type": "code",
   "execution_count": 133,
   "id": "50ead2b1",
   "metadata": {},
   "outputs": [
    {
     "name": "stdout",
     "output_type": "stream",
     "text": [
      "['Hello Dear', 'Hello Bye', 'Good Dear', 'Good Bye']\n"
     ]
    }
   ],
   "source": [
    "arr = [a + \" \" + b for a in [ \"Hello\", \"Good\"] for b in [\"Dear\", \"Bye\"]]\n",
    "print(arr)"
   ]
  },
  {
   "cell_type": "code",
   "execution_count": null,
   "id": "d89118bd",
   "metadata": {},
   "outputs": [],
   "source": []
  }
 ],
 "metadata": {
  "kernelspec": {
   "display_name": "Python 3 (ipykernel)",
   "language": "python",
   "name": "python3"
  },
  "language_info": {
   "codemirror_mode": {
    "name": "ipython",
    "version": 3
   },
   "file_extension": ".py",
   "mimetype": "text/x-python",
   "name": "python",
   "nbconvert_exporter": "python",
   "pygments_lexer": "ipython3",
   "version": "3.9.5"
  }
 },
 "nbformat": 4,
 "nbformat_minor": 5
}
