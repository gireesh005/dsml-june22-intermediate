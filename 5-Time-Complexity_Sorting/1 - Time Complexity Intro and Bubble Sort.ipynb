{
 "cells": [
  {
   "cell_type": "code",
   "execution_count": 1,
   "id": "f1d7a0ba",
   "metadata": {},
   "outputs": [],
   "source": [
    "def foo(n):\n",
    "    x = 1 # 1\n",
    "    y = 2 # 2\n",
    "    z = 3 # 3\n",
    "    print(n) # 4"
   ]
  },
  {
   "cell_type": "code",
   "execution_count": 2,
   "id": "caa10925",
   "metadata": {},
   "outputs": [
    {
     "name": "stdout",
     "output_type": "stream",
     "text": [
      "5\n"
     ]
    }
   ],
   "source": [
    "foo(5)"
   ]
  },
  {
   "cell_type": "code",
   "execution_count": 3,
   "id": "2edac317",
   "metadata": {},
   "outputs": [
    {
     "name": "stdout",
     "output_type": "stream",
     "text": [
      "100\n"
     ]
    }
   ],
   "source": [
    "foo(100)"
   ]
  },
  {
   "cell_type": "code",
   "execution_count": 4,
   "id": "432fa34b",
   "metadata": {},
   "outputs": [
    {
     "name": "stdout",
     "output_type": "stream",
     "text": [
      "100000\n"
     ]
    }
   ],
   "source": [
    "foo(100000)"
   ]
  },
  {
   "cell_type": "code",
   "execution_count": 8,
   "id": "fcf5af19",
   "metadata": {},
   "outputs": [],
   "source": [
    "def foo(n):\n",
    "    for i in range(n): \n",
    "        print(i) # n\n",
    "        \n",
    "# linearly growing function"
   ]
  },
  {
   "cell_type": "code",
   "execution_count": 9,
   "id": "fae25b21",
   "metadata": {},
   "outputs": [
    {
     "name": "stdout",
     "output_type": "stream",
     "text": [
      "0\n",
      "1\n",
      "2\n",
      "3\n",
      "4\n"
     ]
    }
   ],
   "source": [
    "foo(5)"
   ]
  },
  {
   "cell_type": "code",
   "execution_count": 11,
   "id": "61a09a21",
   "metadata": {},
   "outputs": [],
   "source": [
    "# foo(1000)"
   ]
  },
  {
   "cell_type": "code",
   "execution_count": 12,
   "id": "13f36d9e",
   "metadata": {},
   "outputs": [],
   "source": [
    "def foo(n):\n",
    "    for i in range(n): \n",
    "        print(i) # n\n",
    "        \n",
    "    z = 10"
   ]
  },
  {
   "cell_type": "code",
   "execution_count": 13,
   "id": "a9881420",
   "metadata": {},
   "outputs": [],
   "source": [
    "def foo(n,m):\n",
    "    for i in range(n):\n",
    "        print(i)\n",
    "        \n",
    "    for j in range(m):\n",
    "        print(j)"
   ]
  },
  {
   "cell_type": "code",
   "execution_count": 15,
   "id": "de4c6cd1",
   "metadata": {},
   "outputs": [],
   "source": [
    "def foo(n,m):\n",
    "    for i in range(n):\n",
    "        print(i)\n",
    "        \n",
    "    if m > 10:\n",
    "        print(\"YAYYY!\")\n",
    "        \n",
    "# C(m) -> Constant\n",
    "# C(n) -> Linear"
   ]
  },
  {
   "cell_type": "code",
   "execution_count": 16,
   "id": "6cb0affb",
   "metadata": {},
   "outputs": [],
   "source": [
    "def foo(n):\n",
    "    for i in range(n):\n",
    "        print(i) # n\n",
    "        \n",
    "    for i in range(n):\n",
    "        for j in range(n): # n\n",
    "            print(i+j) # n**2"
   ]
  },
  {
   "cell_type": "code",
   "execution_count": 20,
   "id": "c182fca4",
   "metadata": {},
   "outputs": [
    {
     "data": {
      "text/plain": [
       "'\\nf(x) -> x**2 + x + c\\nO(x**2)\\nOmega(x**2)\\n'"
      ]
     },
     "execution_count": 20,
     "metadata": {},
     "output_type": "execute_result"
    }
   ],
   "source": [
    "'''\n",
    "f(x) -> x**2 + x + c\n",
    "O(x**2)\n",
    "Omega(x**2)\n",
    "'''"
   ]
  },
  {
   "cell_type": "code",
   "execution_count": 19,
   "id": "5b86a580",
   "metadata": {},
   "outputs": [],
   "source": [
    "def faltu(n):\n",
    "    if n == 5:\n",
    "        print(\"I AM 5!\")\n",
    "        return None\n",
    "        \n",
    "    for i in range(n):\n",
    "        print(f\"I AM {i}\")"
   ]
  },
  {
   "cell_type": "markdown",
   "id": "3604a608",
   "metadata": {},
   "source": [
    "## Bubble Sort"
   ]
  },
  {
   "cell_type": "code",
   "execution_count": 36,
   "id": "a697fe42",
   "metadata": {},
   "outputs": [],
   "source": [
    "def bubble_sort(a):\n",
    "    for i in range(len(a)):\n",
    "        for j in range(len(a)-i-1):\n",
    "            if a[j] > a[j+1]:\n",
    "                a[j], a[j+1] = a[j+1], a[j]\n",
    "                \n",
    "    return a"
   ]
  },
  {
   "cell_type": "code",
   "execution_count": 37,
   "id": "da6c7285",
   "metadata": {},
   "outputs": [],
   "source": [
    "a = [5,1,2,4,7,3]"
   ]
  },
  {
   "cell_type": "code",
   "execution_count": 38,
   "id": "08dc00cd",
   "metadata": {},
   "outputs": [
    {
     "data": {
      "text/plain": [
       "[1, 2, 3, 4, 5, 7]"
      ]
     },
     "execution_count": 38,
     "metadata": {},
     "output_type": "execute_result"
    }
   ],
   "source": [
    "bubble_sort(a)"
   ]
  },
  {
   "cell_type": "code",
   "execution_count": 39,
   "id": "e45fc4cb",
   "metadata": {},
   "outputs": [],
   "source": [
    "a = [5,3,4,7,1,2]"
   ]
  },
  {
   "cell_type": "code",
   "execution_count": 40,
   "id": "0bb0eb96",
   "metadata": {},
   "outputs": [
    {
     "data": {
      "text/plain": [
       "[1, 2, 3, 4, 5, 7]"
      ]
     },
     "execution_count": 40,
     "metadata": {},
     "output_type": "execute_result"
    }
   ],
   "source": [
    "bubble_sort(a)"
   ]
  },
  {
   "cell_type": "code",
   "execution_count": 41,
   "id": "57e6347e",
   "metadata": {},
   "outputs": [
    {
     "data": {
      "text/plain": [
       "'\\nO(n^2)\\nOmega(n^2)\\n'"
      ]
     },
     "execution_count": 41,
     "metadata": {},
     "output_type": "execute_result"
    }
   ],
   "source": [
    "'''\n",
    "O(n^2)\n",
    "Omega(n^2)\n",
    "'''"
   ]
  },
  {
   "cell_type": "code",
   "execution_count": 43,
   "id": "80e3bcd4",
   "metadata": {},
   "outputs": [],
   "source": [
    "def optimised_bubble_sort(a):\n",
    "    is_sorted = True\n",
    "    for i in range(len(a)):\n",
    "        for j in range(len(a)-i-1):\n",
    "            if a[j] > a[j+1]:\n",
    "                a[j], a[j+1] = a[j+1], a[j]\n",
    "                is_sorted = False\n",
    "                \n",
    "        if is_sorted:\n",
    "            break\n",
    "                \n",
    "    return a"
   ]
  },
  {
   "cell_type": "code",
   "execution_count": 44,
   "id": "624484a4",
   "metadata": {},
   "outputs": [],
   "source": [
    "a = [5,3,4,7,1,2]"
   ]
  },
  {
   "cell_type": "code",
   "execution_count": 45,
   "id": "98673c48",
   "metadata": {},
   "outputs": [
    {
     "data": {
      "text/plain": [
       "[1, 2, 3, 4, 5, 7]"
      ]
     },
     "execution_count": 45,
     "metadata": {},
     "output_type": "execute_result"
    }
   ],
   "source": [
    "optimised_bubble_sort(a)"
   ]
  },
  {
   "cell_type": "code",
   "execution_count": 46,
   "id": "86686f6f",
   "metadata": {},
   "outputs": [
    {
     "data": {
      "text/plain": [
       "'\\nO(n^2)\\nOmega(n)\\n'"
      ]
     },
     "execution_count": 46,
     "metadata": {},
     "output_type": "execute_result"
    }
   ],
   "source": [
    "'''\n",
    "O(n^2)\n",
    "Omega(n)\n",
    "'''"
   ]
  },
  {
   "cell_type": "code",
   "execution_count": 47,
   "id": "048b64c3",
   "metadata": {},
   "outputs": [
    {
     "ename": "TypeError",
     "evalue": "Cannot create a consistent method resolution\norder (MRO) for bases A, B",
     "output_type": "error",
     "traceback": [
      "\u001b[0;31m---------------------------------------------------------------------------\u001b[0m",
      "\u001b[0;31mTypeError\u001b[0m                                 Traceback (most recent call last)",
      "\u001b[0;32m/var/folders/nn/c52y0d3j0gq59dpsswchkt2r0000gn/T/ipykernel_55213/338860183.py\u001b[0m in \u001b[0;36m<module>\u001b[0;34m\u001b[0m\n\u001b[1;32m      3\u001b[0m \u001b[0;32mclass\u001b[0m \u001b[0mB\u001b[0m\u001b[0;34m(\u001b[0m\u001b[0mA\u001b[0m\u001b[0;34m)\u001b[0m\u001b[0;34m:\u001b[0m\u001b[0;34m\u001b[0m\u001b[0;34m\u001b[0m\u001b[0m\n\u001b[1;32m      4\u001b[0m     \u001b[0;32mpass\u001b[0m\u001b[0;34m\u001b[0m\u001b[0;34m\u001b[0m\u001b[0m\n\u001b[0;32m----> 5\u001b[0;31m \u001b[0;32mclass\u001b[0m \u001b[0mC\u001b[0m\u001b[0;34m(\u001b[0m\u001b[0mA\u001b[0m\u001b[0;34m,\u001b[0m \u001b[0mB\u001b[0m\u001b[0;34m)\u001b[0m\u001b[0;34m:\u001b[0m\u001b[0;34m\u001b[0m\u001b[0;34m\u001b[0m\u001b[0m\n\u001b[0m\u001b[1;32m      6\u001b[0m     \u001b[0;32mpass\u001b[0m\u001b[0;34m\u001b[0m\u001b[0;34m\u001b[0m\u001b[0m\n",
      "\u001b[0;31mTypeError\u001b[0m: Cannot create a consistent method resolution\norder (MRO) for bases A, B"
     ]
    }
   ],
   "source": [
    "class A:\n",
    "    pass\n",
    "\n",
    "class B(A):\n",
    "    pass\n",
    "\n",
    "class C(A, B):\n",
    "    pass"
   ]
  },
  {
   "cell_type": "code",
   "execution_count": null,
   "id": "d331cb43",
   "metadata": {},
   "outputs": [],
   "source": []
  }
 ],
 "metadata": {
  "kernelspec": {
   "display_name": "Python 3 (ipykernel)",
   "language": "python",
   "name": "python3"
  },
  "language_info": {
   "codemirror_mode": {
    "name": "ipython",
    "version": 3
   },
   "file_extension": ".py",
   "mimetype": "text/x-python",
   "name": "python",
   "nbconvert_exporter": "python",
   "pygments_lexer": "ipython3",
   "version": "3.9.5"
  }
 },
 "nbformat": 4,
 "nbformat_minor": 5
}
