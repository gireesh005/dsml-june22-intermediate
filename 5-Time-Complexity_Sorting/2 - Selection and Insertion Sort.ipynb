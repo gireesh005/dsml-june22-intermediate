{
 "cells": [
  {
   "cell_type": "markdown",
   "id": "98bfeb32",
   "metadata": {},
   "source": [
    "## Selection Sort"
   ]
  },
  {
   "cell_type": "code",
   "execution_count": 4,
   "id": "924d5f6b",
   "metadata": {},
   "outputs": [],
   "source": [
    "def selection_sort(a):\n",
    "    for i in range(len(a) - 1):\n",
    "        min_index = i\n",
    "        \n",
    "        for j in range(i+1, len(a)):\n",
    "            if a[min_index] > a[j]:\n",
    "                min_index = j\n",
    "                \n",
    "        if min_index != i:\n",
    "            a[i], a[min_index] = a[min_index], a[i]\n",
    "            \n",
    "        print(a)\n",
    "            \n",
    "    return a"
   ]
  },
  {
   "cell_type": "code",
   "execution_count": 5,
   "id": "4c7cbdf4",
   "metadata": {},
   "outputs": [],
   "source": [
    "a = [2,8,5,3,9,4,1]"
   ]
  },
  {
   "cell_type": "code",
   "execution_count": 6,
   "id": "dfb78356",
   "metadata": {},
   "outputs": [
    {
     "name": "stdout",
     "output_type": "stream",
     "text": [
      "[1, 8, 5, 3, 9, 4, 2]\n",
      "[1, 2, 5, 3, 9, 4, 8]\n",
      "[1, 2, 3, 5, 9, 4, 8]\n",
      "[1, 2, 3, 4, 9, 5, 8]\n",
      "[1, 2, 3, 4, 5, 9, 8]\n",
      "[1, 2, 3, 4, 5, 8, 9]\n"
     ]
    },
    {
     "data": {
      "text/plain": [
       "[1, 2, 3, 4, 5, 8, 9]"
      ]
     },
     "execution_count": 6,
     "metadata": {},
     "output_type": "execute_result"
    }
   ],
   "source": [
    "selection_sort(a)"
   ]
  },
  {
   "cell_type": "code",
   "execution_count": 7,
   "id": "3e9b4ac8",
   "metadata": {},
   "outputs": [
    {
     "data": {
      "text/plain": [
       "'\\nO(n^2)\\nOmega(n^2)\\n'"
      ]
     },
     "execution_count": 7,
     "metadata": {},
     "output_type": "execute_result"
    }
   ],
   "source": [
    "'''\n",
    "O(n^2)\n",
    "Omega(n^2)\n",
    "'''"
   ]
  },
  {
   "cell_type": "markdown",
   "id": "88c83ca9",
   "metadata": {},
   "source": [
    "## Insertion Sort"
   ]
  },
  {
   "cell_type": "code",
   "execution_count": 12,
   "id": "e119dbb2",
   "metadata": {},
   "outputs": [],
   "source": [
    "def insertion_sort(a):\n",
    "    for i in range(1, len(a)):\n",
    "        index_to_insert = i\n",
    "        j = i-1\n",
    "        \n",
    "        while j >= 0:\n",
    "            if a[j] < a[index_to_insert]:\n",
    "                break\n",
    "                \n",
    "            a[j], a[index_to_insert] = a[index_to_insert], a[j]\n",
    "            index_to_insert = j\n",
    "            j -= 1\n",
    "        \n",
    "        print(f\"After iteration {i+1} - {a}\")\n",
    "    \n",
    "    return a"
   ]
  },
  {
   "cell_type": "code",
   "execution_count": 13,
   "id": "529b9833",
   "metadata": {},
   "outputs": [],
   "source": [
    "a = [2,5,6,1,8,9,0,3]"
   ]
  },
  {
   "cell_type": "code",
   "execution_count": 14,
   "id": "b6bebe83",
   "metadata": {},
   "outputs": [
    {
     "name": "stdout",
     "output_type": "stream",
     "text": [
      "After iteration 2 - [2, 5, 6, 1, 8, 9, 0, 3]\n",
      "After iteration 3 - [2, 5, 6, 1, 8, 9, 0, 3]\n",
      "After iteration 4 - [1, 2, 5, 6, 8, 9, 0, 3]\n",
      "After iteration 5 - [1, 2, 5, 6, 8, 9, 0, 3]\n",
      "After iteration 6 - [1, 2, 5, 6, 8, 9, 0, 3]\n",
      "After iteration 7 - [0, 1, 2, 5, 6, 8, 9, 3]\n",
      "After iteration 8 - [0, 1, 2, 3, 5, 6, 8, 9]\n"
     ]
    },
    {
     "data": {
      "text/plain": [
       "[0, 1, 2, 3, 5, 6, 8, 9]"
      ]
     },
     "execution_count": 14,
     "metadata": {},
     "output_type": "execute_result"
    }
   ],
   "source": [
    "insertion_sort(a)"
   ]
  },
  {
   "cell_type": "code",
   "execution_count": 15,
   "id": "184f66e9",
   "metadata": {},
   "outputs": [
    {
     "data": {
      "text/plain": [
       "'\\nO(n^2)\\nOmega(n)\\n'"
      ]
     },
     "execution_count": 15,
     "metadata": {},
     "output_type": "execute_result"
    }
   ],
   "source": [
    "'''\n",
    "O(n^2)\n",
    "Omega(n)\n",
    "'''"
   ]
  },
  {
   "cell_type": "code",
   "execution_count": 16,
   "id": "ba4c6897",
   "metadata": {},
   "outputs": [],
   "source": [
    "a = list(range(1,11))"
   ]
  },
  {
   "cell_type": "code",
   "execution_count": 17,
   "id": "669f14ba",
   "metadata": {},
   "outputs": [
    {
     "data": {
      "text/plain": [
       "[1, 2, 3, 4, 5, 6, 7, 8, 9, 10]"
      ]
     },
     "execution_count": 17,
     "metadata": {},
     "output_type": "execute_result"
    }
   ],
   "source": [
    "a"
   ]
  },
  {
   "cell_type": "code",
   "execution_count": 18,
   "id": "937a0eac",
   "metadata": {},
   "outputs": [
    {
     "name": "stdout",
     "output_type": "stream",
     "text": [
      "After iteration 2 - [1, 2, 3, 4, 5, 6, 7, 8, 9, 10]\n",
      "After iteration 3 - [1, 2, 3, 4, 5, 6, 7, 8, 9, 10]\n",
      "After iteration 4 - [1, 2, 3, 4, 5, 6, 7, 8, 9, 10]\n",
      "After iteration 5 - [1, 2, 3, 4, 5, 6, 7, 8, 9, 10]\n",
      "After iteration 6 - [1, 2, 3, 4, 5, 6, 7, 8, 9, 10]\n",
      "After iteration 7 - [1, 2, 3, 4, 5, 6, 7, 8, 9, 10]\n",
      "After iteration 8 - [1, 2, 3, 4, 5, 6, 7, 8, 9, 10]\n",
      "After iteration 9 - [1, 2, 3, 4, 5, 6, 7, 8, 9, 10]\n",
      "After iteration 10 - [1, 2, 3, 4, 5, 6, 7, 8, 9, 10]\n"
     ]
    },
    {
     "data": {
      "text/plain": [
       "[1, 2, 3, 4, 5, 6, 7, 8, 9, 10]"
      ]
     },
     "execution_count": 18,
     "metadata": {},
     "output_type": "execute_result"
    }
   ],
   "source": [
    "insertion_sort(a)"
   ]
  },
  {
   "cell_type": "code",
   "execution_count": 20,
   "id": "788bd6a5",
   "metadata": {},
   "outputs": [],
   "source": [
    "def cool_insertion_sort(a):\n",
    "    counter = 0\n",
    "    \n",
    "    for i in range(1, len(a)):\n",
    "        index_to_insert = i\n",
    "        j = i-1\n",
    "        counter += 1\n",
    "        \n",
    "        while j >= 0:\n",
    "            if a[j] < a[index_to_insert]:\n",
    "                break\n",
    "                \n",
    "            counter += 1\n",
    "                \n",
    "            a[j], a[index_to_insert] = a[index_to_insert], a[j]\n",
    "            index_to_insert = j\n",
    "            j -= 1\n",
    "        \n",
    "        print(f\"After iteration {i+1} - {a}\")\n",
    "    \n",
    "    print(counter)\n",
    "    return a"
   ]
  },
  {
   "cell_type": "code",
   "execution_count": 21,
   "id": "d066d6ee",
   "metadata": {},
   "outputs": [
    {
     "data": {
      "text/plain": [
       "[1, 2, 3, 4, 5, 6, 7, 8, 9, 10]"
      ]
     },
     "execution_count": 21,
     "metadata": {},
     "output_type": "execute_result"
    }
   ],
   "source": [
    "a"
   ]
  },
  {
   "cell_type": "code",
   "execution_count": 23,
   "id": "cd5c1dfa",
   "metadata": {},
   "outputs": [
    {
     "name": "stdout",
     "output_type": "stream",
     "text": [
      "After iteration 2 - [1, 2, 3, 4, 5, 6, 7, 8, 9, 10]\n",
      "After iteration 3 - [1, 2, 3, 4, 5, 6, 7, 8, 9, 10]\n",
      "After iteration 4 - [1, 2, 3, 4, 5, 6, 7, 8, 9, 10]\n",
      "After iteration 5 - [1, 2, 3, 4, 5, 6, 7, 8, 9, 10]\n",
      "After iteration 6 - [1, 2, 3, 4, 5, 6, 7, 8, 9, 10]\n",
      "After iteration 7 - [1, 2, 3, 4, 5, 6, 7, 8, 9, 10]\n",
      "After iteration 8 - [1, 2, 3, 4, 5, 6, 7, 8, 9, 10]\n",
      "After iteration 9 - [1, 2, 3, 4, 5, 6, 7, 8, 9, 10]\n",
      "After iteration 10 - [1, 2, 3, 4, 5, 6, 7, 8, 9, 10]\n",
      "9\n"
     ]
    },
    {
     "data": {
      "text/plain": [
       "[1, 2, 3, 4, 5, 6, 7, 8, 9, 10]"
      ]
     },
     "execution_count": 23,
     "metadata": {},
     "output_type": "execute_result"
    }
   ],
   "source": [
    "cool_insertion_sort(a)"
   ]
  },
  {
   "cell_type": "code",
   "execution_count": 24,
   "id": "1ccf0496",
   "metadata": {},
   "outputs": [],
   "source": [
    "a = [2,5,6,1,8,9,0,3]"
   ]
  },
  {
   "cell_type": "code",
   "execution_count": 25,
   "id": "734dcac3",
   "metadata": {},
   "outputs": [
    {
     "name": "stdout",
     "output_type": "stream",
     "text": [
      "After iteration 2 - [2, 5, 6, 1, 8, 9, 0, 3]\n",
      "After iteration 3 - [2, 5, 6, 1, 8, 9, 0, 3]\n",
      "After iteration 4 - [1, 2, 5, 6, 8, 9, 0, 3]\n",
      "After iteration 5 - [1, 2, 5, 6, 8, 9, 0, 3]\n",
      "After iteration 6 - [1, 2, 5, 6, 8, 9, 0, 3]\n",
      "After iteration 7 - [0, 1, 2, 5, 6, 8, 9, 3]\n",
      "After iteration 8 - [0, 1, 2, 3, 5, 6, 8, 9]\n",
      "20\n"
     ]
    },
    {
     "data": {
      "text/plain": [
       "[0, 1, 2, 3, 5, 6, 8, 9]"
      ]
     },
     "execution_count": 25,
     "metadata": {},
     "output_type": "execute_result"
    }
   ],
   "source": [
    "cool_insertion_sort(a)"
   ]
  },
  {
   "cell_type": "code",
   "execution_count": null,
   "id": "ef350b3a",
   "metadata": {},
   "outputs": [],
   "source": []
  }
 ],
 "metadata": {
  "kernelspec": {
   "display_name": "Python 3 (ipykernel)",
   "language": "python",
   "name": "python3"
  },
  "language_info": {
   "codemirror_mode": {
    "name": "ipython",
    "version": 3
   },
   "file_extension": ".py",
   "mimetype": "text/x-python",
   "name": "python",
   "nbconvert_exporter": "python",
   "pygments_lexer": "ipython3",
   "version": "3.9.5"
  }
 },
 "nbformat": 4,
 "nbformat_minor": 5
}
