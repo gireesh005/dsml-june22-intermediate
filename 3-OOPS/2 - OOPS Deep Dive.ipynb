{
 "cells": [
  {
   "cell_type": "code",
   "execution_count": 52,
   "id": "1922b9d2",
   "metadata": {},
   "outputs": [],
   "source": [
    "class Car:\n",
    "    def __init__(self, name, milaege):\n",
    "        self.name = name\n",
    "        self.milaege = milaege\n",
    "        \n",
    "    def __str__(self):\n",
    "        return f\"{self.name} -> {self.milaege}\"\n",
    "    \n",
    "    def __add__(self, other):\n",
    "        return self.milaege + other.milaege\n",
    "    \n",
    "    def __call__(self):\n",
    "        print(\"I WAS JUST CALLED!!! WOAHHH!!!\")"
   ]
  },
  {
   "cell_type": "code",
   "execution_count": 53,
   "id": "77b96b56",
   "metadata": {},
   "outputs": [],
   "source": [
    "c1 = Car(\"Nexon\", 13)\n",
    "c2 = Car(\"Altroz\", 15)"
   ]
  },
  {
   "cell_type": "code",
   "execution_count": 54,
   "id": "e26151e7",
   "metadata": {},
   "outputs": [
    {
     "name": "stdout",
     "output_type": "stream",
     "text": [
      "Nexon -> 13\n"
     ]
    }
   ],
   "source": [
    "print(c1)"
   ]
  },
  {
   "cell_type": "code",
   "execution_count": 55,
   "id": "617cdad2",
   "metadata": {},
   "outputs": [
    {
     "data": {
      "text/plain": [
       "28"
      ]
     },
     "execution_count": 55,
     "metadata": {},
     "output_type": "execute_result"
    }
   ],
   "source": [
    "c1 + c2"
   ]
  },
  {
   "cell_type": "code",
   "execution_count": 56,
   "id": "4160b5dc",
   "metadata": {},
   "outputs": [
    {
     "data": {
      "text/plain": [
       "28"
      ]
     },
     "execution_count": 56,
     "metadata": {},
     "output_type": "execute_result"
    }
   ],
   "source": [
    "c1.__add__(c2)"
   ]
  },
  {
   "cell_type": "code",
   "execution_count": 57,
   "id": "ba52a3bf",
   "metadata": {},
   "outputs": [
    {
     "name": "stdout",
     "output_type": "stream",
     "text": [
      "I WAS JUST CALLED!!! WOAHHH!!!\n"
     ]
    }
   ],
   "source": [
    "c1()"
   ]
  },
  {
   "cell_type": "code",
   "execution_count": 58,
   "id": "3aa5d004",
   "metadata": {},
   "outputs": [],
   "source": [
    "# HOMEWORK\n",
    "# CREATE A CUSTOM ITERATOR"
   ]
  },
  {
   "cell_type": "code",
   "execution_count": 70,
   "id": "5f0aeb40",
   "metadata": {},
   "outputs": [],
   "source": [
    "class SchoolMember:\n",
    "    def __init__(self, name):\n",
    "        self.name = name\n",
    "        \n",
    "class Student(SchoolMember):\n",
    "    def __init__(self, name, percentage):\n",
    "        super().__init__(name)\n",
    "        self.percentage = percentage\n",
    "\n",
    "class Staff(SchoolMember):\n",
    "    def __init__(self, name, salary):\n",
    "        super().__init__(name)\n",
    "        self.salary = salary\n",
    "\n",
    "class Teacher(Staff):\n",
    "    def __init__(self, name, salary, subject):\n",
    "        super().__init__(name, salary)\n",
    "        self.subject = subject"
   ]
  },
  {
   "cell_type": "code",
   "execution_count": 71,
   "id": "91c4fc5a",
   "metadata": {},
   "outputs": [],
   "source": [
    "cool_teacher = Teacher(\"Bipin Kalra\", 100, \"Python\")"
   ]
  },
  {
   "cell_type": "code",
   "execution_count": 72,
   "id": "504e911f",
   "metadata": {},
   "outputs": [
    {
     "data": {
      "text/plain": [
       "'Python'"
      ]
     },
     "execution_count": 72,
     "metadata": {},
     "output_type": "execute_result"
    }
   ],
   "source": [
    "cool_teacher.subject"
   ]
  },
  {
   "cell_type": "code",
   "execution_count": 73,
   "id": "7f765a7b",
   "metadata": {},
   "outputs": [
    {
     "data": {
      "text/plain": [
       "'Bipin Kalra'"
      ]
     },
     "execution_count": 73,
     "metadata": {},
     "output_type": "execute_result"
    }
   ],
   "source": [
    "cool_teacher.name"
   ]
  },
  {
   "cell_type": "code",
   "execution_count": 74,
   "id": "d5ba71d7",
   "metadata": {},
   "outputs": [
    {
     "data": {
      "text/plain": [
       "100"
      ]
     },
     "execution_count": 74,
     "metadata": {},
     "output_type": "execute_result"
    }
   ],
   "source": [
    "cool_teacher.salary"
   ]
  },
  {
   "cell_type": "code",
   "execution_count": 76,
   "id": "c77e070a",
   "metadata": {},
   "outputs": [],
   "source": [
    "class SchoolMember:\n",
    "    def __init__(self, name):\n",
    "        self.name = name\n",
    "        \n",
    "class Student(SchoolMember):\n",
    "    def __init__(self, name, percentage):\n",
    "        super().__init__(name)\n",
    "        self.percentage = percentage\n",
    "\n",
    "class Staff(SchoolMember):\n",
    "    def __init__(self, name, salary):\n",
    "        super().__init__(name)\n",
    "        self.salary = salary\n",
    "\n",
    "class Teacher(Staff):\n",
    "    def __init__(self, name, salary, subject):\n",
    "        Staff.__init__(self, name, salary)\n",
    "        self.subject = subject"
   ]
  },
  {
   "cell_type": "code",
   "execution_count": 77,
   "id": "8049e7ee",
   "metadata": {},
   "outputs": [],
   "source": [
    "t = Teacher(\"A\", 100, \"JS\")"
   ]
  },
  {
   "cell_type": "code",
   "execution_count": 80,
   "id": "55161847",
   "metadata": {},
   "outputs": [
    {
     "data": {
      "text/plain": [
       "100"
      ]
     },
     "execution_count": 80,
     "metadata": {},
     "output_type": "execute_result"
    }
   ],
   "source": [
    "t.salary"
   ]
  },
  {
   "cell_type": "code",
   "execution_count": 107,
   "id": "f22bb57f",
   "metadata": {},
   "outputs": [],
   "source": [
    "class BankAccount:\n",
    "    def __init__(self, balance):\n",
    "        self.__balance = balance\n",
    "        \n",
    "    # Setter\n",
    "    def deposit(self, amount):\n",
    "        self.__balance += amount\n",
    "        \n",
    "    # Setter\n",
    "    def withdraw(self, amount):\n",
    "        self.__balance -= amount\n",
    "    \n",
    "    # Getter\n",
    "    def show_balance(self):\n",
    "        self.__private_method()\n",
    "        return self.__balance\n",
    "    \n",
    "    def __private_method(self):\n",
    "        print(\"I AM A PRIVATE METHOD!\")"
   ]
  },
  {
   "cell_type": "code",
   "execution_count": 108,
   "id": "c6ec008a",
   "metadata": {},
   "outputs": [],
   "source": [
    "b = BankAccount(10000)"
   ]
  },
  {
   "cell_type": "code",
   "execution_count": 109,
   "id": "8e2d60ed",
   "metadata": {},
   "outputs": [
    {
     "name": "stdout",
     "output_type": "stream",
     "text": [
      "I AM A PRIVATE METHOD!\n"
     ]
    },
    {
     "data": {
      "text/plain": [
       "10000"
      ]
     },
     "execution_count": 109,
     "metadata": {},
     "output_type": "execute_result"
    }
   ],
   "source": [
    "b.show_balance()"
   ]
  },
  {
   "cell_type": "code",
   "execution_count": 110,
   "id": "31676f1a",
   "metadata": {},
   "outputs": [],
   "source": [
    "b.deposit(5000)"
   ]
  },
  {
   "cell_type": "code",
   "execution_count": 111,
   "id": "71f09728",
   "metadata": {},
   "outputs": [
    {
     "name": "stdout",
     "output_type": "stream",
     "text": [
      "I AM A PRIVATE METHOD!\n"
     ]
    },
    {
     "data": {
      "text/plain": [
       "15000"
      ]
     },
     "execution_count": 111,
     "metadata": {},
     "output_type": "execute_result"
    }
   ],
   "source": [
    "b.show_balance()"
   ]
  },
  {
   "cell_type": "code",
   "execution_count": 112,
   "id": "63b60925",
   "metadata": {},
   "outputs": [],
   "source": [
    "b.withdraw(15000)"
   ]
  },
  {
   "cell_type": "code",
   "execution_count": 113,
   "id": "b4f52805",
   "metadata": {},
   "outputs": [
    {
     "ename": "AttributeError",
     "evalue": "'BankAccount' object has no attribute 'balance'",
     "output_type": "error",
     "traceback": [
      "\u001b[0;31m---------------------------------------------------------------------------\u001b[0m",
      "\u001b[0;31mAttributeError\u001b[0m                            Traceback (most recent call last)",
      "\u001b[0;32m/var/folders/nn/c52y0d3j0gq59dpsswchkt2r0000gn/T/ipykernel_36395/2490804417.py\u001b[0m in \u001b[0;36m<module>\u001b[0;34m\u001b[0m\n\u001b[0;32m----> 1\u001b[0;31m \u001b[0mb\u001b[0m\u001b[0;34m.\u001b[0m\u001b[0mbalance\u001b[0m\u001b[0;34m\u001b[0m\u001b[0;34m\u001b[0m\u001b[0m\n\u001b[0m",
      "\u001b[0;31mAttributeError\u001b[0m: 'BankAccount' object has no attribute 'balance'"
     ]
    }
   ],
   "source": [
    "b.balance"
   ]
  },
  {
   "cell_type": "code",
   "execution_count": 114,
   "id": "46abb021",
   "metadata": {},
   "outputs": [],
   "source": [
    "b.balance = 37876543456789876543234567876543456787654345678765432"
   ]
  },
  {
   "cell_type": "code",
   "execution_count": 115,
   "id": "0df9b91c",
   "metadata": {},
   "outputs": [
    {
     "data": {
      "text/plain": [
       "37876543456789876543234567876543456787654345678765432"
      ]
     },
     "execution_count": 115,
     "metadata": {},
     "output_type": "execute_result"
    }
   ],
   "source": [
    "b.balance"
   ]
  },
  {
   "cell_type": "code",
   "execution_count": 116,
   "id": "de5a32ab",
   "metadata": {},
   "outputs": [
    {
     "ename": "AttributeError",
     "evalue": "'BankAccount' object has no attribute '__balance'",
     "output_type": "error",
     "traceback": [
      "\u001b[0;31m---------------------------------------------------------------------------\u001b[0m",
      "\u001b[0;31mAttributeError\u001b[0m                            Traceback (most recent call last)",
      "\u001b[0;32m/var/folders/nn/c52y0d3j0gq59dpsswchkt2r0000gn/T/ipykernel_36395/1806384393.py\u001b[0m in \u001b[0;36m<module>\u001b[0;34m\u001b[0m\n\u001b[0;32m----> 1\u001b[0;31m \u001b[0mb\u001b[0m\u001b[0;34m.\u001b[0m\u001b[0m__balance\u001b[0m\u001b[0;34m\u001b[0m\u001b[0;34m\u001b[0m\u001b[0m\n\u001b[0m",
      "\u001b[0;31mAttributeError\u001b[0m: 'BankAccount' object has no attribute '__balance'"
     ]
    }
   ],
   "source": [
    "b.__balance"
   ]
  },
  {
   "cell_type": "code",
   "execution_count": 117,
   "id": "e1ce2287",
   "metadata": {},
   "outputs": [
    {
     "name": "stdout",
     "output_type": "stream",
     "text": [
      "I AM A PRIVATE METHOD!\n"
     ]
    },
    {
     "data": {
      "text/plain": [
       "0"
      ]
     },
     "execution_count": 117,
     "metadata": {},
     "output_type": "execute_result"
    }
   ],
   "source": [
    "b.show_balance()"
   ]
  },
  {
   "cell_type": "code",
   "execution_count": 118,
   "id": "70a43992",
   "metadata": {},
   "outputs": [
    {
     "ename": "AttributeError",
     "evalue": "'BankAccount' object has no attribute '__private_method'",
     "output_type": "error",
     "traceback": [
      "\u001b[0;31m---------------------------------------------------------------------------\u001b[0m",
      "\u001b[0;31mAttributeError\u001b[0m                            Traceback (most recent call last)",
      "\u001b[0;32m/var/folders/nn/c52y0d3j0gq59dpsswchkt2r0000gn/T/ipykernel_36395/1030159541.py\u001b[0m in \u001b[0;36m<module>\u001b[0;34m\u001b[0m\n\u001b[0;32m----> 1\u001b[0;31m \u001b[0mb\u001b[0m\u001b[0;34m.\u001b[0m\u001b[0m__private_method\u001b[0m\u001b[0;34m(\u001b[0m\u001b[0;34m)\u001b[0m\u001b[0;34m\u001b[0m\u001b[0;34m\u001b[0m\u001b[0m\n\u001b[0m",
      "\u001b[0;31mAttributeError\u001b[0m: 'BankAccount' object has no attribute '__private_method'"
     ]
    }
   ],
   "source": [
    "b.__private_method()"
   ]
  },
  {
   "cell_type": "code",
   "execution_count": 120,
   "id": "65ca4149",
   "metadata": {},
   "outputs": [],
   "source": [
    "b.__balance = 10000000000000000000000"
   ]
  },
  {
   "cell_type": "code",
   "execution_count": 121,
   "id": "3deeacf1",
   "metadata": {},
   "outputs": [
    {
     "data": {
      "text/plain": [
       "10000000000000000000000"
      ]
     },
     "execution_count": 121,
     "metadata": {},
     "output_type": "execute_result"
    }
   ],
   "source": [
    "b.__balance"
   ]
  },
  {
   "cell_type": "code",
   "execution_count": 122,
   "id": "f5df3331",
   "metadata": {},
   "outputs": [
    {
     "name": "stdout",
     "output_type": "stream",
     "text": [
      "I AM A PRIVATE METHOD!\n"
     ]
    },
    {
     "data": {
      "text/plain": [
       "0"
      ]
     },
     "execution_count": 122,
     "metadata": {},
     "output_type": "execute_result"
    }
   ],
   "source": [
    "b.show_balance()"
   ]
  },
  {
   "cell_type": "code",
   "execution_count": 123,
   "id": "fdab68eb",
   "metadata": {},
   "outputs": [
    {
     "data": {
      "text/plain": [
       "0"
      ]
     },
     "execution_count": 123,
     "metadata": {},
     "output_type": "execute_result"
    }
   ],
   "source": [
    "b._BankAccount__balance"
   ]
  },
  {
   "cell_type": "code",
   "execution_count": 124,
   "id": "ad4ce894",
   "metadata": {},
   "outputs": [],
   "source": [
    "b._BankAccount__balance = 10000"
   ]
  },
  {
   "cell_type": "code",
   "execution_count": 125,
   "id": "60e17049",
   "metadata": {},
   "outputs": [
    {
     "name": "stdout",
     "output_type": "stream",
     "text": [
      "I AM A PRIVATE METHOD!\n"
     ]
    },
    {
     "data": {
      "text/plain": [
       "10000"
      ]
     },
     "execution_count": 125,
     "metadata": {},
     "output_type": "execute_result"
    }
   ],
   "source": [
    "b.show_balance()"
   ]
  },
  {
   "cell_type": "code",
   "execution_count": 127,
   "id": "30c6cc68",
   "metadata": {},
   "outputs": [
    {
     "data": {
      "text/plain": [
       "['_BankAccount__balance',\n",
       " 'balance',\n",
       " '__balance',\n",
       " '__module__',\n",
       " '__init__',\n",
       " 'deposit',\n",
       " 'withdraw',\n",
       " 'show_balance',\n",
       " '_BankAccount__private_method',\n",
       " '__dict__',\n",
       " '__weakref__',\n",
       " '__doc__',\n",
       " '__repr__',\n",
       " '__hash__',\n",
       " '__str__',\n",
       " '__getattribute__',\n",
       " '__setattr__',\n",
       " '__delattr__',\n",
       " '__lt__',\n",
       " '__le__',\n",
       " '__eq__',\n",
       " '__ne__',\n",
       " '__gt__',\n",
       " '__ge__',\n",
       " '__new__',\n",
       " '__reduce_ex__',\n",
       " '__reduce__',\n",
       " '__subclasshook__',\n",
       " '__init_subclass__',\n",
       " '__format__',\n",
       " '__sizeof__',\n",
       " '__dir__',\n",
       " '__class__']"
      ]
     },
     "execution_count": 127,
     "metadata": {},
     "output_type": "execute_result"
    }
   ],
   "source": [
    "b.__dir__()"
   ]
  },
  {
   "cell_type": "code",
   "execution_count": 139,
   "id": "79a8ffa4",
   "metadata": {},
   "outputs": [],
   "source": [
    "def cool_pattern(n):\n",
    "    for i in range(n):\n",
    "        for j in range(n):\n",
    "            print(max(i,j,n-1-i,n-1-j)+1, end=\"\\t\")\n",
    "\n",
    "        print(sep=\"\\n\")"
   ]
  },
  {
   "cell_type": "code",
   "execution_count": 141,
   "id": "60392d18",
   "metadata": {},
   "outputs": [
    {
     "name": "stdout",
     "output_type": "stream",
     "text": [
      "9\t9\t9\t9\t9\t9\t9\t9\t9\t\n",
      "9\t8\t8\t8\t8\t8\t8\t8\t9\t\n",
      "9\t8\t7\t7\t7\t7\t7\t8\t9\t\n",
      "9\t8\t7\t6\t6\t6\t7\t8\t9\t\n",
      "9\t8\t7\t6\t5\t6\t7\t8\t9\t\n",
      "9\t8\t7\t6\t6\t6\t7\t8\t9\t\n",
      "9\t8\t7\t7\t7\t7\t7\t8\t9\t\n",
      "9\t8\t8\t8\t8\t8\t8\t8\t9\t\n",
      "9\t9\t9\t9\t9\t9\t9\t9\t9\t\n"
     ]
    }
   ],
   "source": [
    "cool_pattern(9)"
   ]
  },
  {
   "cell_type": "code",
   "execution_count": 149,
   "id": "fb83311c",
   "metadata": {},
   "outputs": [],
   "source": [
    "class Dog:\n",
    "    kind = 'libra'\n",
    "    \n",
    "    def __init__(self, name, height):\n",
    "        self.name = name\n",
    "        self.height = height\n",
    "    \n",
    "    def __str__(self):\n",
    "        return f\" kind : {self.kind}, name : {self.name}, height : {self.height}\"\n",
    "    \n",
    "    def __add__(self, *others): \n",
    "        return self.height + other.height + other2.height"
   ]
  },
  {
   "cell_type": "code",
   "execution_count": 150,
   "id": "2851d1fc",
   "metadata": {},
   "outputs": [],
   "source": [
    "d1 = Dog(\"A\", 45)\n",
    "d2 = Dog(\"B\", 56)\n",
    "d3 = Dog(\"C\", 67)"
   ]
  },
  {
   "cell_type": "code",
   "execution_count": 152,
   "id": "d34816d9",
   "metadata": {},
   "outputs": [
    {
     "ename": "TypeError",
     "evalue": "__add__() missing 1 required positional argument: 'other2'",
     "output_type": "error",
     "traceback": [
      "\u001b[0;31m---------------------------------------------------------------------------\u001b[0m",
      "\u001b[0;31mTypeError\u001b[0m                                 Traceback (most recent call last)",
      "\u001b[0;32m/var/folders/nn/c52y0d3j0gq59dpsswchkt2r0000gn/T/ipykernel_36395/46479610.py\u001b[0m in \u001b[0;36m<module>\u001b[0;34m\u001b[0m\n\u001b[0;32m----> 1\u001b[0;31m \u001b[0;34m(\u001b[0m\u001b[0md1\u001b[0m \u001b[0;34m+\u001b[0m \u001b[0md2\u001b[0m\u001b[0;34m)\u001b[0m \u001b[0;34m+\u001b[0m \u001b[0md3\u001b[0m\u001b[0;34m\u001b[0m\u001b[0;34m\u001b[0m\u001b[0m\n\u001b[0m",
      "\u001b[0;31mTypeError\u001b[0m: __add__() missing 1 required positional argument: 'other2'"
     ]
    }
   ],
   "source": [
    "(d1 + d2) + d3"
   ]
  },
  {
   "cell_type": "code",
   "execution_count": 14,
   "id": "53bdd6af",
   "metadata": {},
   "outputs": [],
   "source": [
    "class A:\n",
    "    def __init__(self, a):\n",
    "        self.a = a\n",
    "\n",
    "class B:\n",
    "    def __init__(self, b):\n",
    "        self.b = b\n",
    "\n",
    "class C(A,B):\n",
    "    def __init__(self, a, b, c):\n",
    "        A.__init__(self, a)\n",
    "        B.__init__(self, b)\n",
    "        self.c = c"
   ]
  },
  {
   "cell_type": "code",
   "execution_count": 10,
   "id": "0db8a401",
   "metadata": {},
   "outputs": [],
   "source": [
    "c = C(1,4,5)"
   ]
  },
  {
   "cell_type": "code",
   "execution_count": 11,
   "id": "1a87f176",
   "metadata": {},
   "outputs": [
    {
     "data": {
      "text/plain": [
       "1"
      ]
     },
     "execution_count": 11,
     "metadata": {},
     "output_type": "execute_result"
    }
   ],
   "source": [
    "c.a"
   ]
  },
  {
   "cell_type": "code",
   "execution_count": 12,
   "id": "5c87f0e1",
   "metadata": {},
   "outputs": [
    {
     "data": {
      "text/plain": [
       "5"
      ]
     },
     "execution_count": 12,
     "metadata": {},
     "output_type": "execute_result"
    }
   ],
   "source": [
    "c.c"
   ]
  },
  {
   "cell_type": "code",
   "execution_count": 13,
   "id": "dea82d94",
   "metadata": {},
   "outputs": [
    {
     "data": {
      "text/plain": [
       "4"
      ]
     },
     "execution_count": 13,
     "metadata": {},
     "output_type": "execute_result"
    }
   ],
   "source": [
    "c.b"
   ]
  },
  {
   "cell_type": "code",
   "execution_count": 15,
   "id": "2b10316d",
   "metadata": {},
   "outputs": [],
   "source": [
    "# HOMEWORK\n",
    "# FIND OUT HOW YOU CAN USE SUPER HERE!"
   ]
  },
  {
   "cell_type": "code",
   "execution_count": 24,
   "id": "159376ee",
   "metadata": {},
   "outputs": [],
   "source": [
    "class A:\n",
    "    pass\n",
    "\n",
    "class B(A):\n",
    "    pass\n",
    "\n",
    "class C(B):\n",
    "    x = 10\n",
    "    \n",
    "class D(A):\n",
    "    x = 5\n",
    "    \n",
    "class E(C, D):\n",
    "    pass"
   ]
  },
  {
   "cell_type": "code",
   "execution_count": 25,
   "id": "c3a00270",
   "metadata": {},
   "outputs": [
    {
     "data": {
      "text/plain": [
       "10"
      ]
     },
     "execution_count": 25,
     "metadata": {},
     "output_type": "execute_result"
    }
   ],
   "source": [
    "e = E()\n",
    "e.x"
   ]
  },
  {
   "cell_type": "code",
   "execution_count": 26,
   "id": "662f88af",
   "metadata": {},
   "outputs": [
    {
     "data": {
      "text/plain": [
       "(__main__.E, __main__.C, __main__.B, __main__.D, __main__.A, object)"
      ]
     },
     "execution_count": 26,
     "metadata": {},
     "output_type": "execute_result"
    }
   ],
   "source": [
    "E.__mro__\n",
    "# METHOD RESOLUTION ORDER"
   ]
  },
  {
   "cell_type": "code",
   "execution_count": null,
   "id": "5e7bea9d",
   "metadata": {},
   "outputs": [],
   "source": []
  }
 ],
 "metadata": {
  "kernelspec": {
   "display_name": "Python 3 (ipykernel)",
   "language": "python",
   "name": "python3"
  },
  "language_info": {
   "codemirror_mode": {
    "name": "ipython",
    "version": 3
   },
   "file_extension": ".py",
   "mimetype": "text/x-python",
   "name": "python",
   "nbconvert_exporter": "python",
   "pygments_lexer": "ipython3",
   "version": "3.9.5"
  }
 },
 "nbformat": 4,
 "nbformat_minor": 5
}
