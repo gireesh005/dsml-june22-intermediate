{
 "cells": [
  {
   "cell_type": "code",
   "execution_count": 1,
   "id": "8192e532",
   "metadata": {},
   "outputs": [],
   "source": [
    "class Student:\n",
    "    pass"
   ]
  },
  {
   "cell_type": "code",
   "execution_count": 3,
   "id": "737b0337",
   "metadata": {},
   "outputs": [],
   "source": [
    "s1 = Student()"
   ]
  },
  {
   "cell_type": "code",
   "execution_count": 4,
   "id": "2e4a9589",
   "metadata": {},
   "outputs": [
    {
     "data": {
      "text/plain": [
       "__main__.Student"
      ]
     },
     "execution_count": 4,
     "metadata": {},
     "output_type": "execute_result"
    }
   ],
   "source": [
    "type(s1)"
   ]
  },
  {
   "cell_type": "code",
   "execution_count": 5,
   "id": "cdacab03",
   "metadata": {},
   "outputs": [
    {
     "data": {
      "text/plain": [
       "140636713185920"
      ]
     },
     "execution_count": 5,
     "metadata": {},
     "output_type": "execute_result"
    }
   ],
   "source": [
    "id(s1)"
   ]
  },
  {
   "cell_type": "code",
   "execution_count": 6,
   "id": "0a81dbc7",
   "metadata": {},
   "outputs": [
    {
     "data": {
      "text/plain": [
       "140636624557776"
      ]
     },
     "execution_count": 6,
     "metadata": {},
     "output_type": "execute_result"
    }
   ],
   "source": [
    "id(Student)"
   ]
  },
  {
   "cell_type": "code",
   "execution_count": 7,
   "id": "4fbd616c",
   "metadata": {},
   "outputs": [],
   "source": [
    "a = int(\"45\")"
   ]
  },
  {
   "cell_type": "code",
   "execution_count": 8,
   "id": "ada465c6",
   "metadata": {},
   "outputs": [
    {
     "data": {
      "text/plain": [
       "45"
      ]
     },
     "execution_count": 8,
     "metadata": {},
     "output_type": "execute_result"
    }
   ],
   "source": [
    "a"
   ]
  },
  {
   "cell_type": "code",
   "execution_count": 9,
   "id": "da9be619",
   "metadata": {},
   "outputs": [],
   "source": [
    "class Student:\n",
    "    pass"
   ]
  },
  {
   "cell_type": "code",
   "execution_count": 10,
   "id": "6569ea01",
   "metadata": {},
   "outputs": [],
   "source": [
    "s1 = Student()"
   ]
  },
  {
   "cell_type": "code",
   "execution_count": 12,
   "id": "03d42c12",
   "metadata": {},
   "outputs": [],
   "source": [
    "s1.name = \"Bipin\""
   ]
  },
  {
   "cell_type": "code",
   "execution_count": 13,
   "id": "893ea4b6",
   "metadata": {},
   "outputs": [
    {
     "data": {
      "text/plain": [
       "'Bipin'"
      ]
     },
     "execution_count": 13,
     "metadata": {},
     "output_type": "execute_result"
    }
   ],
   "source": [
    "s1.name"
   ]
  },
  {
   "cell_type": "code",
   "execution_count": 14,
   "id": "7727a4c4",
   "metadata": {},
   "outputs": [],
   "source": [
    "s2 = Student()"
   ]
  },
  {
   "cell_type": "code",
   "execution_count": 15,
   "id": "95bc53cd",
   "metadata": {},
   "outputs": [
    {
     "ename": "AttributeError",
     "evalue": "'Student' object has no attribute 'name'",
     "output_type": "error",
     "traceback": [
      "\u001b[0;31m---------------------------------------------------------------------------\u001b[0m",
      "\u001b[0;31mAttributeError\u001b[0m                            Traceback (most recent call last)",
      "\u001b[0;32m/var/folders/nn/c52y0d3j0gq59dpsswchkt2r0000gn/T/ipykernel_6061/1547413451.py\u001b[0m in \u001b[0;36m<module>\u001b[0;34m\u001b[0m\n\u001b[0;32m----> 1\u001b[0;31m \u001b[0ms2\u001b[0m\u001b[0;34m.\u001b[0m\u001b[0mname\u001b[0m\u001b[0;34m\u001b[0m\u001b[0;34m\u001b[0m\u001b[0m\n\u001b[0m",
      "\u001b[0;31mAttributeError\u001b[0m: 'Student' object has no attribute 'name'"
     ]
    }
   ],
   "source": [
    "s2.name"
   ]
  },
  {
   "cell_type": "code",
   "execution_count": 35,
   "id": "0f4dd408",
   "metadata": {},
   "outputs": [],
   "source": [
    "class Student:\n",
    "    def hello(self):\n",
    "        print(\"Hello!\")\n",
    "        \n",
    "    def print_id(self):\n",
    "        print(id(self))"
   ]
  },
  {
   "cell_type": "code",
   "execution_count": 36,
   "id": "f9f27b1d",
   "metadata": {},
   "outputs": [],
   "source": [
    "s1 = Student()"
   ]
  },
  {
   "cell_type": "code",
   "execution_count": 25,
   "id": "0a9d13e4",
   "metadata": {},
   "outputs": [
    {
     "ename": "TypeError",
     "evalue": "hello() missing 1 required positional argument: 'self'",
     "output_type": "error",
     "traceback": [
      "\u001b[0;31m---------------------------------------------------------------------------\u001b[0m",
      "\u001b[0;31mTypeError\u001b[0m                                 Traceback (most recent call last)",
      "\u001b[0;32m/var/folders/nn/c52y0d3j0gq59dpsswchkt2r0000gn/T/ipykernel_6061/1833873148.py\u001b[0m in \u001b[0;36m<module>\u001b[0;34m\u001b[0m\n\u001b[0;32m----> 1\u001b[0;31m \u001b[0mStudent\u001b[0m\u001b[0;34m.\u001b[0m\u001b[0mhello\u001b[0m\u001b[0;34m(\u001b[0m\u001b[0;34m)\u001b[0m\u001b[0;34m\u001b[0m\u001b[0;34m\u001b[0m\u001b[0m\n\u001b[0m",
      "\u001b[0;31mTypeError\u001b[0m: hello() missing 1 required positional argument: 'self'"
     ]
    }
   ],
   "source": [
    "Student.hello()"
   ]
  },
  {
   "cell_type": "code",
   "execution_count": 26,
   "id": "05d870f0",
   "metadata": {},
   "outputs": [
    {
     "name": "stdout",
     "output_type": "stream",
     "text": [
      "Hello!\n"
     ]
    }
   ],
   "source": [
    "s1.hello()"
   ]
  },
  {
   "cell_type": "code",
   "execution_count": 29,
   "id": "4de8fd02",
   "metadata": {},
   "outputs": [
    {
     "name": "stdout",
     "output_type": "stream",
     "text": [
      "140636713188752\n",
      "140636713188752\n"
     ]
    }
   ],
   "source": [
    "print(id(s1))\n",
    "s1.print_id()"
   ]
  },
  {
   "cell_type": "code",
   "execution_count": 30,
   "id": "2dd34471",
   "metadata": {},
   "outputs": [
    {
     "name": "stdout",
     "output_type": "stream",
     "text": [
      "Hello!\n"
     ]
    }
   ],
   "source": [
    "Student.hello(s1)"
   ]
  },
  {
   "cell_type": "code",
   "execution_count": 31,
   "id": "ffd0809d",
   "metadata": {},
   "outputs": [],
   "source": [
    "s2 = Student()"
   ]
  },
  {
   "cell_type": "code",
   "execution_count": 32,
   "id": "827de55f",
   "metadata": {},
   "outputs": [
    {
     "name": "stdout",
     "output_type": "stream",
     "text": [
      "140636713188800\n",
      "140636713188800\n"
     ]
    }
   ],
   "source": [
    "print(id(s2))\n",
    "s2.print_id()"
   ]
  },
  {
   "cell_type": "code",
   "execution_count": 33,
   "id": "8071327a",
   "metadata": {},
   "outputs": [
    {
     "name": "stdout",
     "output_type": "stream",
     "text": [
      "140636713188752\n"
     ]
    }
   ],
   "source": [
    "s1.print_id()"
   ]
  },
  {
   "cell_type": "code",
   "execution_count": 34,
   "id": "9a0c0c98",
   "metadata": {},
   "outputs": [
    {
     "name": "stdout",
     "output_type": "stream",
     "text": [
      "140636713188800\n"
     ]
    }
   ],
   "source": [
    "s2.print_id()"
   ]
  },
  {
   "cell_type": "code",
   "execution_count": 42,
   "id": "29bd792d",
   "metadata": {},
   "outputs": [],
   "source": [
    "class Student:\n",
    "    def __init__(faltu, name, roll_number, age):\n",
    "        faltu.name = name\n",
    "        faltu.age = age\n",
    "        faltu.roll_number = roll_number"
   ]
  },
  {
   "cell_type": "code",
   "execution_count": 43,
   "id": "2cb9ab39",
   "metadata": {},
   "outputs": [],
   "source": [
    "s1 = Student(\"Amit Badave\", 1, 5000)"
   ]
  },
  {
   "cell_type": "code",
   "execution_count": 44,
   "id": "6b43a0e0",
   "metadata": {},
   "outputs": [
    {
     "data": {
      "text/plain": [
       "'Amit Badave'"
      ]
     },
     "execution_count": 44,
     "metadata": {},
     "output_type": "execute_result"
    }
   ],
   "source": [
    "s1.name"
   ]
  },
  {
   "cell_type": "code",
   "execution_count": 46,
   "id": "2bdaf15b",
   "metadata": {},
   "outputs": [
    {
     "data": {
      "text/plain": [
       "5000"
      ]
     },
     "execution_count": 46,
     "metadata": {},
     "output_type": "execute_result"
    }
   ],
   "source": [
    "s1.age"
   ]
  },
  {
   "cell_type": "code",
   "execution_count": 47,
   "id": "14ade74c",
   "metadata": {},
   "outputs": [
    {
     "data": {
      "text/plain": [
       "1"
      ]
     },
     "execution_count": 47,
     "metadata": {},
     "output_type": "execute_result"
    }
   ],
   "source": [
    "s1.roll_number"
   ]
  },
  {
   "cell_type": "code",
   "execution_count": 48,
   "id": "43fb4f90",
   "metadata": {},
   "outputs": [],
   "source": [
    "s2 = Student(\"Pradyumna\", 40, 7500)"
   ]
  },
  {
   "cell_type": "code",
   "execution_count": 49,
   "id": "6beac3b9",
   "metadata": {},
   "outputs": [
    {
     "data": {
      "text/plain": [
       "'Pradyumna'"
      ]
     },
     "execution_count": 49,
     "metadata": {},
     "output_type": "execute_result"
    }
   ],
   "source": [
    "s2.name"
   ]
  },
  {
   "cell_type": "code",
   "execution_count": 50,
   "id": "41def612",
   "metadata": {},
   "outputs": [
    {
     "data": {
      "text/plain": [
       "7500"
      ]
     },
     "execution_count": 50,
     "metadata": {},
     "output_type": "execute_result"
    }
   ],
   "source": [
    "s2.age"
   ]
  },
  {
   "cell_type": "code",
   "execution_count": 51,
   "id": "d8d800ef",
   "metadata": {},
   "outputs": [
    {
     "data": {
      "text/plain": [
       "40"
      ]
     },
     "execution_count": 51,
     "metadata": {},
     "output_type": "execute_result"
    }
   ],
   "source": [
    "s2.roll_number"
   ]
  },
  {
   "cell_type": "code",
   "execution_count": 52,
   "id": "0828c1b7",
   "metadata": {},
   "outputs": [
    {
     "data": {
      "text/plain": [
       "<__main__.Student at 0x7fe889522bb0>"
      ]
     },
     "execution_count": 52,
     "metadata": {},
     "output_type": "execute_result"
    }
   ],
   "source": [
    "s2"
   ]
  },
  {
   "cell_type": "code",
   "execution_count": 95,
   "id": "829b35d3",
   "metadata": {},
   "outputs": [],
   "source": [
    "class Dog:\n",
    "    kind = \"labra\" # class variable\n",
    "    \n",
    "    def __init__(self, name):\n",
    "        self.name = name\n",
    "        \n",
    "    def class_method():\n",
    "        print(\"Called using class!\")\n",
    "    \n",
    "    def instance_method(self):\n",
    "        print(\"Called using object!\")"
   ]
  },
  {
   "cell_type": "code",
   "execution_count": 96,
   "id": "5c24dce5",
   "metadata": {},
   "outputs": [],
   "source": [
    "d1 = Dog(\"scooby\")"
   ]
  },
  {
   "cell_type": "code",
   "execution_count": 97,
   "id": "aa7ecf68",
   "metadata": {},
   "outputs": [],
   "source": [
    "d2 = Dog(\"tuffy\")"
   ]
  },
  {
   "cell_type": "code",
   "execution_count": 98,
   "id": "9086ce38",
   "metadata": {},
   "outputs": [
    {
     "data": {
      "text/plain": [
       "'scooby'"
      ]
     },
     "execution_count": 98,
     "metadata": {},
     "output_type": "execute_result"
    }
   ],
   "source": [
    "d1.name"
   ]
  },
  {
   "cell_type": "code",
   "execution_count": 99,
   "id": "911c4521",
   "metadata": {},
   "outputs": [
    {
     "data": {
      "text/plain": [
       "'tuffy'"
      ]
     },
     "execution_count": 99,
     "metadata": {},
     "output_type": "execute_result"
    }
   ],
   "source": [
    "d2.name"
   ]
  },
  {
   "cell_type": "code",
   "execution_count": 100,
   "id": "3344772a",
   "metadata": {},
   "outputs": [
    {
     "data": {
      "text/plain": [
       "'labra'"
      ]
     },
     "execution_count": 100,
     "metadata": {},
     "output_type": "execute_result"
    }
   ],
   "source": [
    "d1.kind"
   ]
  },
  {
   "cell_type": "code",
   "execution_count": 101,
   "id": "7d146f44",
   "metadata": {},
   "outputs": [
    {
     "data": {
      "text/plain": [
       "'labra'"
      ]
     },
     "execution_count": 101,
     "metadata": {},
     "output_type": "execute_result"
    }
   ],
   "source": [
    "d2.kind"
   ]
  },
  {
   "cell_type": "code",
   "execution_count": 102,
   "id": "5d099c31",
   "metadata": {},
   "outputs": [
    {
     "data": {
      "text/plain": [
       "'labra'"
      ]
     },
     "execution_count": 102,
     "metadata": {},
     "output_type": "execute_result"
    }
   ],
   "source": [
    "Dog.kind"
   ]
  },
  {
   "cell_type": "code",
   "execution_count": 103,
   "id": "629df49b",
   "metadata": {},
   "outputs": [],
   "source": [
    "d1.kind = \"german shepherd\""
   ]
  },
  {
   "cell_type": "code",
   "execution_count": 117,
   "id": "685480d3",
   "metadata": {},
   "outputs": [
    {
     "data": {
      "text/plain": [
       "'pug'"
      ]
     },
     "execution_count": 117,
     "metadata": {},
     "output_type": "execute_result"
    }
   ],
   "source": [
    "Dog.kind"
   ]
  },
  {
   "cell_type": "code",
   "execution_count": 118,
   "id": "6aec0601",
   "metadata": {},
   "outputs": [
    {
     "data": {
      "text/plain": [
       "'pug'"
      ]
     },
     "execution_count": 118,
     "metadata": {},
     "output_type": "execute_result"
    }
   ],
   "source": [
    "d2.kind"
   ]
  },
  {
   "cell_type": "code",
   "execution_count": 105,
   "id": "343b4805",
   "metadata": {},
   "outputs": [
    {
     "data": {
      "text/plain": [
       "'german shepherd'"
      ]
     },
     "execution_count": 105,
     "metadata": {},
     "output_type": "execute_result"
    }
   ],
   "source": [
    "d1.kind"
   ]
  },
  {
   "cell_type": "code",
   "execution_count": 106,
   "id": "0931511d",
   "metadata": {},
   "outputs": [],
   "source": [
    "Dog.kind = 'pug'"
   ]
  },
  {
   "cell_type": "code",
   "execution_count": 107,
   "id": "76cd4f65",
   "metadata": {},
   "outputs": [
    {
     "data": {
      "text/plain": [
       "'pug'"
      ]
     },
     "execution_count": 107,
     "metadata": {},
     "output_type": "execute_result"
    }
   ],
   "source": [
    "d2.kind"
   ]
  },
  {
   "cell_type": "code",
   "execution_count": 108,
   "id": "d7530504",
   "metadata": {},
   "outputs": [
    {
     "data": {
      "text/plain": [
       "'german shepherd'"
      ]
     },
     "execution_count": 108,
     "metadata": {},
     "output_type": "execute_result"
    }
   ],
   "source": [
    "d1.kind"
   ]
  },
  {
   "cell_type": "code",
   "execution_count": 109,
   "id": "6159ccff",
   "metadata": {},
   "outputs": [
    {
     "data": {
      "text/plain": [
       "'german shepherd'"
      ]
     },
     "execution_count": 109,
     "metadata": {},
     "output_type": "execute_result"
    }
   ],
   "source": [
    "d1.kind"
   ]
  },
  {
   "cell_type": "code",
   "execution_count": 82,
   "id": "fe8c2e76",
   "metadata": {},
   "outputs": [
    {
     "name": "stdout",
     "output_type": "stream",
     "text": [
      "Called using class!\n"
     ]
    }
   ],
   "source": [
    "Dog.class_method()"
   ]
  },
  {
   "cell_type": "code",
   "execution_count": 83,
   "id": "338c6c76",
   "metadata": {},
   "outputs": [
    {
     "ename": "TypeError",
     "evalue": "class_method() takes 0 positional arguments but 1 was given",
     "output_type": "error",
     "traceback": [
      "\u001b[0;31m---------------------------------------------------------------------------\u001b[0m",
      "\u001b[0;31mTypeError\u001b[0m                                 Traceback (most recent call last)",
      "\u001b[0;32m/var/folders/nn/c52y0d3j0gq59dpsswchkt2r0000gn/T/ipykernel_6061/2926981549.py\u001b[0m in \u001b[0;36m<module>\u001b[0;34m\u001b[0m\n\u001b[0;32m----> 1\u001b[0;31m \u001b[0md1\u001b[0m\u001b[0;34m.\u001b[0m\u001b[0mclass_method\u001b[0m\u001b[0;34m(\u001b[0m\u001b[0;34m)\u001b[0m\u001b[0;34m\u001b[0m\u001b[0;34m\u001b[0m\u001b[0m\n\u001b[0m",
      "\u001b[0;31mTypeError\u001b[0m: class_method() takes 0 positional arguments but 1 was given"
     ]
    }
   ],
   "source": [
    "d1.class_method()"
   ]
  },
  {
   "cell_type": "code",
   "execution_count": 84,
   "id": "0a32312c",
   "metadata": {},
   "outputs": [
    {
     "name": "stdout",
     "output_type": "stream",
     "text": [
      "Called using object!\n"
     ]
    }
   ],
   "source": [
    "d1.instance_method()"
   ]
  },
  {
   "cell_type": "code",
   "execution_count": 85,
   "id": "7829cb77",
   "metadata": {},
   "outputs": [
    {
     "ename": "TypeError",
     "evalue": "class_method() takes 0 positional arguments but 1 was given",
     "output_type": "error",
     "traceback": [
      "\u001b[0;31m---------------------------------------------------------------------------\u001b[0m",
      "\u001b[0;31mTypeError\u001b[0m                                 Traceback (most recent call last)",
      "\u001b[0;32m/var/folders/nn/c52y0d3j0gq59dpsswchkt2r0000gn/T/ipykernel_6061/2926981549.py\u001b[0m in \u001b[0;36m<module>\u001b[0;34m\u001b[0m\n\u001b[0;32m----> 1\u001b[0;31m \u001b[0md1\u001b[0m\u001b[0;34m.\u001b[0m\u001b[0mclass_method\u001b[0m\u001b[0;34m(\u001b[0m\u001b[0;34m)\u001b[0m\u001b[0;34m\u001b[0m\u001b[0;34m\u001b[0m\u001b[0m\n\u001b[0m",
      "\u001b[0;31mTypeError\u001b[0m: class_method() takes 0 positional arguments but 1 was given"
     ]
    }
   ],
   "source": [
    "d1.class_method()"
   ]
  },
  {
   "cell_type": "code",
   "execution_count": 86,
   "id": "41701c21",
   "metadata": {},
   "outputs": [
    {
     "ename": "TypeError",
     "evalue": "instance_method() missing 1 required positional argument: 'self'",
     "output_type": "error",
     "traceback": [
      "\u001b[0;31m---------------------------------------------------------------------------\u001b[0m",
      "\u001b[0;31mTypeError\u001b[0m                                 Traceback (most recent call last)",
      "\u001b[0;32m/var/folders/nn/c52y0d3j0gq59dpsswchkt2r0000gn/T/ipykernel_6061/3159993968.py\u001b[0m in \u001b[0;36m<module>\u001b[0;34m\u001b[0m\n\u001b[0;32m----> 1\u001b[0;31m \u001b[0mDog\u001b[0m\u001b[0;34m.\u001b[0m\u001b[0minstance_method\u001b[0m\u001b[0;34m(\u001b[0m\u001b[0;34m)\u001b[0m\u001b[0;34m\u001b[0m\u001b[0;34m\u001b[0m\u001b[0m\n\u001b[0m",
      "\u001b[0;31mTypeError\u001b[0m: instance_method() missing 1 required positional argument: 'self'"
     ]
    }
   ],
   "source": [
    "Dog.instance_method()"
   ]
  },
  {
   "cell_type": "code",
   "execution_count": 124,
   "id": "eaeab616",
   "metadata": {},
   "outputs": [],
   "source": [
    "class Dog:\n",
    "    tricks = []\n",
    "    \n",
    "    def __init__(self, name):\n",
    "        self.name = name\n",
    "    \n",
    "    def teach_trick(self, trick):\n",
    "        self.tricks.append(trick)"
   ]
  },
  {
   "cell_type": "code",
   "execution_count": 125,
   "id": "8ad96364",
   "metadata": {},
   "outputs": [],
   "source": [
    "d1 = Dog(\"Scooby\")"
   ]
  },
  {
   "cell_type": "code",
   "execution_count": 126,
   "id": "92484b84",
   "metadata": {},
   "outputs": [],
   "source": [
    "d2 = Dog(\"Tuffy\")"
   ]
  },
  {
   "cell_type": "code",
   "execution_count": 127,
   "id": "593a9df5",
   "metadata": {},
   "outputs": [
    {
     "data": {
      "text/plain": [
       "[]"
      ]
     },
     "execution_count": 127,
     "metadata": {},
     "output_type": "execute_result"
    }
   ],
   "source": [
    "Dog.tricks"
   ]
  },
  {
   "cell_type": "code",
   "execution_count": null,
   "id": "3c74ecf7",
   "metadata": {},
   "outputs": [],
   "source": []
  },
  {
   "cell_type": "code",
   "execution_count": null,
   "id": "1b2c0316",
   "metadata": {},
   "outputs": [],
   "source": []
  },
  {
   "cell_type": "code",
   "execution_count": 91,
   "id": "6934fe2d",
   "metadata": {},
   "outputs": [],
   "source": [
    "d1.teach_trick(\"Solve mysteries\")"
   ]
  },
  {
   "cell_type": "code",
   "execution_count": 92,
   "id": "0f8634fb",
   "metadata": {},
   "outputs": [
    {
     "data": {
      "text/plain": [
       "['Solve mysteries']"
      ]
     },
     "execution_count": 92,
     "metadata": {},
     "output_type": "execute_result"
    }
   ],
   "source": [
    "d2.tricks"
   ]
  },
  {
   "cell_type": "code",
   "execution_count": 93,
   "id": "24d6a2ce",
   "metadata": {},
   "outputs": [
    {
     "data": {
      "text/plain": [
       "['Solve mysteries']"
      ]
     },
     "execution_count": 93,
     "metadata": {},
     "output_type": "execute_result"
    }
   ],
   "source": [
    "Dog.tricks"
   ]
  },
  {
   "cell_type": "code",
   "execution_count": 114,
   "id": "277ce080",
   "metadata": {},
   "outputs": [],
   "source": [
    "d1.random_method = lambda self: \"I am random\""
   ]
  },
  {
   "cell_type": "code",
   "execution_count": 116,
   "id": "df781453",
   "metadata": {},
   "outputs": [
    {
     "data": {
      "text/plain": [
       "'I am random'"
      ]
     },
     "execution_count": 116,
     "metadata": {},
     "output_type": "execute_result"
    }
   ],
   "source": [
    "d1.random_method(d1)"
   ]
  },
  {
   "cell_type": "code",
   "execution_count": 119,
   "id": "2f344a94",
   "metadata": {},
   "outputs": [],
   "source": [
    "class Random:\n",
    "    def random(self, a, b, c):\n",
    "        return a+b+c"
   ]
  },
  {
   "cell_type": "code",
   "execution_count": 120,
   "id": "b834ac66",
   "metadata": {},
   "outputs": [],
   "source": [
    "r = Random()"
   ]
  },
  {
   "cell_type": "code",
   "execution_count": 121,
   "id": "76ad4ac9",
   "metadata": {},
   "outputs": [
    {
     "ename": "TypeError",
     "evalue": "random() takes 4 positional arguments but 5 were given",
     "output_type": "error",
     "traceback": [
      "\u001b[0;31m---------------------------------------------------------------------------\u001b[0m",
      "\u001b[0;31mTypeError\u001b[0m                                 Traceback (most recent call last)",
      "\u001b[0;32m/var/folders/nn/c52y0d3j0gq59dpsswchkt2r0000gn/T/ipykernel_6061/677749529.py\u001b[0m in \u001b[0;36m<module>\u001b[0;34m\u001b[0m\n\u001b[0;32m----> 1\u001b[0;31m \u001b[0mr\u001b[0m\u001b[0;34m.\u001b[0m\u001b[0mrandom\u001b[0m\u001b[0;34m(\u001b[0m\u001b[0;36m4\u001b[0m\u001b[0;34m,\u001b[0m\u001b[0;36m5\u001b[0m\u001b[0;34m,\u001b[0m\u001b[0;36m6\u001b[0m\u001b[0;34m,\u001b[0m\u001b[0;36m7\u001b[0m\u001b[0;34m)\u001b[0m\u001b[0;34m\u001b[0m\u001b[0;34m\u001b[0m\u001b[0m\n\u001b[0m",
      "\u001b[0;31mTypeError\u001b[0m: random() takes 4 positional arguments but 5 were given"
     ]
    }
   ],
   "source": [
    "r.random(4,5,6,7)"
   ]
  },
  {
   "cell_type": "code",
   "execution_count": 122,
   "id": "8259d28f",
   "metadata": {},
   "outputs": [],
   "source": [
    "Random.new_var = 5"
   ]
  },
  {
   "cell_type": "code",
   "execution_count": 123,
   "id": "6a150170",
   "metadata": {},
   "outputs": [
    {
     "data": {
      "text/plain": [
       "5"
      ]
     },
     "execution_count": 123,
     "metadata": {},
     "output_type": "execute_result"
    }
   ],
   "source": [
    "r.new_var"
   ]
  },
  {
   "cell_type": "code",
   "execution_count": 146,
   "id": "ca398969",
   "metadata": {},
   "outputs": [
    {
     "name": "stdout",
     "output_type": "stream",
     "text": [
      "1\n",
      "2\n",
      "3\n",
      "4\n",
      "5\n",
      "pass pas\n",
      "7\n",
      "8\n",
      "9\n",
      "10\n"
     ]
    }
   ],
   "source": [
    "for i in range(1,11):\n",
    "    if i == 6:\n",
    "        pass\n",
    "        print(\"pass pas\")\n",
    "    else:\n",
    "        print(i)"
   ]
  },
  {
   "cell_type": "code",
   "execution_count": 131,
   "id": "0f8127ab",
   "metadata": {},
   "outputs": [],
   "source": [
    "def search(a, target):\n",
    "    for i in a:\n",
    "        if i == target:\n",
    "            print(i)\n",
    "            break\n",
    "        print(i)"
   ]
  },
  {
   "cell_type": "code",
   "execution_count": 132,
   "id": "fc73455a",
   "metadata": {},
   "outputs": [],
   "source": [
    "a = [1,2,3,5,6,7,8]"
   ]
  },
  {
   "cell_type": "code",
   "execution_count": 133,
   "id": "fb7230bf",
   "metadata": {},
   "outputs": [
    {
     "name": "stdout",
     "output_type": "stream",
     "text": [
      "5\n"
     ]
    }
   ],
   "source": [
    "search(a, 5)"
   ]
  },
  {
   "cell_type": "code",
   "execution_count": 144,
   "id": "82b847b5",
   "metadata": {},
   "outputs": [
    {
     "name": "stdout",
     "output_type": "stream",
     "text": [
      "0\n",
      "1\n",
      "2\n",
      "3\n",
      "4\n",
      "6\n",
      "7\n",
      "8\n",
      "9\n"
     ]
    }
   ],
   "source": [
    "i = 0\n",
    "\n",
    "while i < 10: \n",
    "    if i == 5:\n",
    "        i += 1\n",
    "        continue\n",
    "        \n",
    "    print(i)\n",
    "    i += 1\n",
    "        \n"
   ]
  },
  {
   "cell_type": "code",
   "execution_count": 150,
   "id": "07be22e6",
   "metadata": {},
   "outputs": [],
   "source": [
    "class Random:\n",
    "    def __init__(self):\n",
    "        pass\n",
    "        print(\"random init\")\n",
    "    \n",
    "    def random():\n",
    "        print(\"random\")"
   ]
  },
  {
   "cell_type": "code",
   "execution_count": 151,
   "id": "a08ec4b4",
   "metadata": {},
   "outputs": [
    {
     "name": "stdout",
     "output_type": "stream",
     "text": [
      "random init\n"
     ]
    }
   ],
   "source": [
    "r = Random()"
   ]
  },
  {
   "cell_type": "code",
   "execution_count": 160,
   "id": "b3285697",
   "metadata": {},
   "outputs": [],
   "source": [
    "class Dog:\n",
    "    def inst_method(a, b):\n",
    "        a.var = b\n",
    "        \n",
    "    def class_method(a,b):\n",
    "        print(a,b)"
   ]
  },
  {
   "cell_type": "code",
   "execution_count": 153,
   "id": "cfb2bed1",
   "metadata": {},
   "outputs": [],
   "source": [
    "d1 = Dog()"
   ]
  },
  {
   "cell_type": "code",
   "execution_count": 154,
   "id": "105b8873",
   "metadata": {},
   "outputs": [],
   "source": [
    "d1.inst_method(4)"
   ]
  },
  {
   "cell_type": "code",
   "execution_count": 163,
   "id": "90cae54a",
   "metadata": {},
   "outputs": [
    {
     "ename": "TypeError",
     "evalue": "class_method() takes 2 positional arguments but 3 were given",
     "output_type": "error",
     "traceback": [
      "\u001b[0;31m---------------------------------------------------------------------------\u001b[0m",
      "\u001b[0;31mTypeError\u001b[0m                                 Traceback (most recent call last)",
      "\u001b[0;32m/var/folders/nn/c52y0d3j0gq59dpsswchkt2r0000gn/T/ipykernel_6061/4280309473.py\u001b[0m in \u001b[0;36m<module>\u001b[0;34m\u001b[0m\n\u001b[0;32m----> 1\u001b[0;31m \u001b[0md1\u001b[0m\u001b[0;34m.\u001b[0m\u001b[0mclass_method\u001b[0m\u001b[0;34m(\u001b[0m\u001b[0;36m4\u001b[0m\u001b[0;34m,\u001b[0m\u001b[0;36m5\u001b[0m\u001b[0;34m)\u001b[0m\u001b[0;34m\u001b[0m\u001b[0;34m\u001b[0m\u001b[0m\n\u001b[0m",
      "\u001b[0;31mTypeError\u001b[0m: class_method() takes 2 positional arguments but 3 were given"
     ]
    }
   ],
   "source": [
    "d1.class_method(4,5)"
   ]
  },
  {
   "cell_type": "code",
   "execution_count": 165,
   "id": "a6f21900",
   "metadata": {},
   "outputs": [
    {
     "name": "stdout",
     "output_type": "stream",
     "text": [
      "<__main__.Dog object at 0x7fe88954fe50> 5\n"
     ]
    }
   ],
   "source": [
    "Dog.class_method(d1,5)"
   ]
  },
  {
   "cell_type": "code",
   "execution_count": null,
   "id": "8a38a729",
   "metadata": {},
   "outputs": [],
   "source": []
  }
 ],
 "metadata": {
  "kernelspec": {
   "display_name": "Python 3 (ipykernel)",
   "language": "python",
   "name": "python3"
  },
  "language_info": {
   "codemirror_mode": {
    "name": "ipython",
    "version": 3
   },
   "file_extension": ".py",
   "mimetype": "text/x-python",
   "name": "python",
   "nbconvert_exporter": "python",
   "pygments_lexer": "ipython3",
   "version": "3.9.5"
  }
 },
 "nbformat": 4,
 "nbformat_minor": 5
}
