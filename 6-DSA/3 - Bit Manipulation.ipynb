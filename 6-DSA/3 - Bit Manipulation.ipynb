{
 "cells": [
  {
   "cell_type": "code",
   "execution_count": 1,
   "id": "8c277c14",
   "metadata": {},
   "outputs": [
    {
     "data": {
      "text/plain": [
       "-6"
      ]
     },
     "execution_count": 1,
     "metadata": {},
     "output_type": "execute_result"
    }
   ],
   "source": [
    "~5"
   ]
  },
  {
   "cell_type": "code",
   "execution_count": 3,
   "id": "54e12350",
   "metadata": {},
   "outputs": [],
   "source": [
    "# HOMEWORK 1\n",
    "# 3 - 5\n",
    "\n",
    "# HOMEWORK 2\n",
    "# cout << \"HELLO WORLD!\"\n",
    "# print(\"HELLO WORLD!\")"
   ]
  },
  {
   "cell_type": "code",
   "execution_count": 4,
   "id": "f1110525",
   "metadata": {},
   "outputs": [],
   "source": [
    "binary_number = 0b110"
   ]
  },
  {
   "cell_type": "code",
   "execution_count": 5,
   "id": "66582e3b",
   "metadata": {},
   "outputs": [
    {
     "data": {
      "text/plain": [
       "6"
      ]
     },
     "execution_count": 5,
     "metadata": {},
     "output_type": "execute_result"
    }
   ],
   "source": [
    "binary_number"
   ]
  },
  {
   "cell_type": "code",
   "execution_count": 11,
   "id": "e874e06e",
   "metadata": {},
   "outputs": [],
   "source": [
    "def check_writable(flag):\n",
    "    mask = 0b010\n",
    "    \n",
    "    if flag & mask > 0:\n",
    "        return True\n",
    "    else:\n",
    "        return False"
   ]
  },
  {
   "cell_type": "code",
   "execution_count": 12,
   "id": "ae9a5e2f",
   "metadata": {},
   "outputs": [],
   "source": [
    "flag = 7"
   ]
  },
  {
   "cell_type": "code",
   "execution_count": 17,
   "id": "3e6d19a7",
   "metadata": {},
   "outputs": [
    {
     "data": {
      "text/plain": [
       "False"
      ]
     },
     "execution_count": 17,
     "metadata": {},
     "output_type": "execute_result"
    }
   ],
   "source": [
    "check_writable(1)"
   ]
  },
  {
   "cell_type": "code",
   "execution_count": 22,
   "id": "7e85698e",
   "metadata": {},
   "outputs": [],
   "source": [
    "class A:\n",
    "    pass"
   ]
  },
  {
   "cell_type": "code",
   "execution_count": 23,
   "id": "ca22df1a",
   "metadata": {},
   "outputs": [],
   "source": [
    "a = A()"
   ]
  },
  {
   "cell_type": "code",
   "execution_count": 24,
   "id": "66c803d5",
   "metadata": {},
   "outputs": [
    {
     "data": {
      "text/plain": [
       "<__main__.A at 0x7fcd502ae850>"
      ]
     },
     "execution_count": 24,
     "metadata": {},
     "output_type": "execute_result"
    }
   ],
   "source": [
    "a"
   ]
  },
  {
   "cell_type": "code",
   "execution_count": 25,
   "id": "c79408e0",
   "metadata": {},
   "outputs": [],
   "source": [
    "hex_number = 0x5678"
   ]
  },
  {
   "cell_type": "code",
   "execution_count": 26,
   "id": "07c0e79c",
   "metadata": {},
   "outputs": [
    {
     "data": {
      "text/plain": [
       "22136"
      ]
     },
     "execution_count": 26,
     "metadata": {},
     "output_type": "execute_result"
    }
   ],
   "source": [
    "hex_number"
   ]
  },
  {
   "cell_type": "code",
   "execution_count": 27,
   "id": "599c1136",
   "metadata": {},
   "outputs": [],
   "source": [
    "octal_number = 0o45"
   ]
  },
  {
   "cell_type": "code",
   "execution_count": 28,
   "id": "7d51a629",
   "metadata": {},
   "outputs": [
    {
     "data": {
      "text/plain": [
       "37"
      ]
     },
     "execution_count": 28,
     "metadata": {},
     "output_type": "execute_result"
    }
   ],
   "source": [
    "octal_number"
   ]
  },
  {
   "cell_type": "code",
   "execution_count": 29,
   "id": "5a150ba6",
   "metadata": {},
   "outputs": [
    {
     "data": {
      "text/plain": [
       "18"
      ]
     },
     "execution_count": 29,
     "metadata": {},
     "output_type": "execute_result"
    }
   ],
   "source": [
    "0b10010"
   ]
  },
  {
   "cell_type": "code",
   "execution_count": 32,
   "id": "4d3d3bc9",
   "metadata": {},
   "outputs": [
    {
     "ename": "SyntaxError",
     "evalue": "invalid syntax (1446635654.py, line 1)",
     "output_type": "error",
     "traceback": [
      "\u001b[0;36m  File \u001b[0;32m\"/var/folders/nn/c52y0d3j0gq59dpsswchkt2r0000gn/T/ipykernel_85524/1446635654.py\"\u001b[0;36m, line \u001b[0;32m1\u001b[0m\n\u001b[0;31m    -0b10010.101\u001b[0m\n\u001b[0m            ^\u001b[0m\n\u001b[0;31mSyntaxError\u001b[0m\u001b[0;31m:\u001b[0m invalid syntax\n"
     ]
    }
   ],
   "source": [
    "-0b10010"
   ]
  },
  {
   "cell_type": "code",
   "execution_count": 31,
   "id": "caa5006a",
   "metadata": {},
   "outputs": [
    {
     "ename": "SyntaxError",
     "evalue": "invalid syntax (332031113.py, line 1)",
     "output_type": "error",
     "traceback": [
      "\u001b[0;36m  File \u001b[0;32m\"/var/folders/nn/c52y0d3j0gq59dpsswchkt2r0000gn/T/ipykernel_85524/332031113.py\"\u001b[0;36m, line \u001b[0;32m1\u001b[0m\n\u001b[0;31m    1b101\u001b[0m\n\u001b[0m     ^\u001b[0m\n\u001b[0;31mSyntaxError\u001b[0m\u001b[0;31m:\u001b[0m invalid syntax\n"
     ]
    }
   ],
   "source": [
    "1b101"
   ]
  },
  {
   "cell_type": "code",
   "execution_count": 34,
   "id": "0adc2cb1",
   "metadata": {},
   "outputs": [
    {
     "data": {
      "text/plain": [
       "15.45"
      ]
     },
     "execution_count": 34,
     "metadata": {},
     "output_type": "execute_result"
    }
   ],
   "source": [
    "15.45"
   ]
  },
  {
   "cell_type": "code",
   "execution_count": 35,
   "id": "93192b6e",
   "metadata": {},
   "outputs": [
    {
     "ename": "TypeError",
     "evalue": "'float' object cannot be interpreted as an integer",
     "output_type": "error",
     "traceback": [
      "\u001b[0;31m---------------------------------------------------------------------------\u001b[0m",
      "\u001b[0;31mTypeError\u001b[0m                                 Traceback (most recent call last)",
      "\u001b[0;32m/var/folders/nn/c52y0d3j0gq59dpsswchkt2r0000gn/T/ipykernel_85524/2623901934.py\u001b[0m in \u001b[0;36m<module>\u001b[0;34m\u001b[0m\n\u001b[0;32m----> 1\u001b[0;31m \u001b[0mbin\u001b[0m\u001b[0;34m(\u001b[0m\u001b[0;36m15.45\u001b[0m\u001b[0;34m)\u001b[0m\u001b[0;34m\u001b[0m\u001b[0;34m\u001b[0m\u001b[0m\n\u001b[0m",
      "\u001b[0;31mTypeError\u001b[0m: 'float' object cannot be interpreted as an integer"
     ]
    }
   ],
   "source": [
    "bin(15.45)"
   ]
  },
  {
   "cell_type": "code",
   "execution_count": null,
   "id": "11b72806",
   "metadata": {},
   "outputs": [],
   "source": []
  }
 ],
 "metadata": {
  "kernelspec": {
   "display_name": "Python 3 (ipykernel)",
   "language": "python",
   "name": "python3"
  },
  "language_info": {
   "codemirror_mode": {
    "name": "ipython",
    "version": 3
   },
   "file_extension": ".py",
   "mimetype": "text/x-python",
   "name": "python",
   "nbconvert_exporter": "python",
   "pygments_lexer": "ipython3",
   "version": "3.9.5"
  }
 },
 "nbformat": 4,
 "nbformat_minor": 5
}
