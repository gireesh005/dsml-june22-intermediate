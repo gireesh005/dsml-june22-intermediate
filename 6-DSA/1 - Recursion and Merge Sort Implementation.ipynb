{
 "cells": [
  {
   "cell_type": "code",
   "execution_count": 7,
   "id": "0c5c120f",
   "metadata": {},
   "outputs": [],
   "source": [
    "def factorial(n):\n",
    "    if n < 0:\n",
    "        raise Exception(\"Factorial is only defined on positive numbers!\")\n",
    "        \n",
    "    if n == 0 or n == 1:\n",
    "        return 1\n",
    "    \n",
    "    result = factorial(n-1)\n",
    "    return n * result"
   ]
  },
  {
   "cell_type": "code",
   "execution_count": 9,
   "id": "ab113b87",
   "metadata": {},
   "outputs": [
    {
     "data": {
      "text/plain": [
       "1"
      ]
     },
     "execution_count": 9,
     "metadata": {},
     "output_type": "execute_result"
    }
   ],
   "source": [
    "factorial(0)"
   ]
  },
  {
   "cell_type": "markdown",
   "id": "2c4fe6c8",
   "metadata": {},
   "source": [
    "## Merge Sort"
   ]
  },
  {
   "cell_type": "code",
   "execution_count": 14,
   "id": "beaaaa46",
   "metadata": {},
   "outputs": [],
   "source": [
    "def merge_sort(a):\n",
    "    # Base condition\n",
    "    if len(a) <= 1:\n",
    "        return a\n",
    "    \n",
    "    n = len(a)\n",
    "    \n",
    "    # Recursive logic\n",
    "    left = merge_sort(a[:n//2])\n",
    "    right = merge_sort(a[n//2:])\n",
    "    \n",
    "    i, j = 0, 0\n",
    "    \n",
    "    print(left)\n",
    "    print(right)\n",
    "    result = []\n",
    "    \n",
    "    # Merging logic\n",
    "    while i < len(left) and j < len(right):\n",
    "        if left[i] <= right[j]:\n",
    "            result.append(left[i])\n",
    "            i += 1\n",
    "        else:\n",
    "            result.append(right[j])\n",
    "            j += 1\n",
    "            \n",
    "    if i < len(left):\n",
    "        result += left[i:]\n",
    "    elif j < len(right):\n",
    "        result += right[j:]\n",
    "        \n",
    "    return result"
   ]
  },
  {
   "cell_type": "code",
   "execution_count": 15,
   "id": "1bc05e12",
   "metadata": {},
   "outputs": [],
   "source": [
    "a = [2,4,6,8,3,1,5,7,9]"
   ]
  },
  {
   "cell_type": "code",
   "execution_count": 16,
   "id": "9cfed461",
   "metadata": {},
   "outputs": [
    {
     "name": "stdout",
     "output_type": "stream",
     "text": [
      "[2]\n",
      "[4]\n",
      "[6]\n",
      "[8]\n",
      "[2, 4]\n",
      "[6, 8]\n",
      "[3]\n",
      "[1]\n",
      "[7]\n",
      "[9]\n",
      "[5]\n",
      "[7, 9]\n",
      "[1, 3]\n",
      "[5, 7, 9]\n",
      "[2, 4, 6, 8]\n",
      "[1, 3, 5, 7, 9]\n"
     ]
    },
    {
     "data": {
      "text/plain": [
       "[1, 2, 3, 4, 5, 6, 7, 8, 9]"
      ]
     },
     "execution_count": 16,
     "metadata": {},
     "output_type": "execute_result"
    }
   ],
   "source": [
    "merge_sort(a)"
   ]
  },
  {
   "cell_type": "code",
   "execution_count": 18,
   "id": "5d7558f7",
   "metadata": {},
   "outputs": [],
   "source": [
    "# HOMEWORK\n",
    "# Make changes in this merge sort algorithm so that it can now accept a key and sort on the basis of that"
   ]
  },
  {
   "cell_type": "code",
   "execution_count": 20,
   "id": "b4329ea6",
   "metadata": {},
   "outputs": [
    {
     "data": {
      "text/plain": [
       "'\\nstudent = [\\n    {\"name\": \"A\", \"marks\": 90 },\\n    {\"name\": \"B\", \"marks\": 80 },\\n    {\"name\": \"C\", \"marks\": 30 },\\n    {\"name\": \"D\", \"marks\": 50 },\\n    {\"name\": \"E\", \"marks\": 20 },\\n]\\n'"
      ]
     },
     "execution_count": 20,
     "metadata": {},
     "output_type": "execute_result"
    }
   ],
   "source": [
    "'''\n",
    "student = [\n",
    "    {\"name\": \"A\", \"marks\": 90 },\n",
    "    {\"name\": \"B\", \"marks\": 80 },\n",
    "    {\"name\": \"C\", \"marks\": 30 },\n",
    "    {\"name\": \"D\", \"marks\": 50 },\n",
    "    {\"name\": \"E\", \"marks\": 20 },\n",
    "]\n",
    "'''"
   ]
  },
  {
   "cell_type": "code",
   "execution_count": 21,
   "id": "f6c731db",
   "metadata": {},
   "outputs": [],
   "source": [
    "def solve(a):\n",
    "    if len(a) == 1:\n",
    "        return a\n",
    "    \n",
    "    result = a[::2]\n",
    "    \n",
    "    return result + solve(a[1::2])"
   ]
  },
  {
   "cell_type": "code",
   "execution_count": 23,
   "id": "e19e3ed2",
   "metadata": {},
   "outputs": [
    {
     "data": {
      "text/plain": [
       "[1, 3, 5, 7, 2, 6, 4]"
      ]
     },
     "execution_count": 23,
     "metadata": {},
     "output_type": "execute_result"
    }
   ],
   "source": [
    "solve([1,2,3,4,5,6,7])"
   ]
  },
  {
   "cell_type": "code",
   "execution_count": 24,
   "id": "eff15bb2",
   "metadata": {},
   "outputs": [],
   "source": [
    "sorted?"
   ]
  },
  {
   "cell_type": "code",
   "execution_count": null,
   "id": "4227fec5",
   "metadata": {},
   "outputs": [],
   "source": []
  }
 ],
 "metadata": {
  "kernelspec": {
   "display_name": "Python 3 (ipykernel)",
   "language": "python",
   "name": "python3"
  },
  "language_info": {
   "codemirror_mode": {
    "name": "ipython",
    "version": 3
   },
   "file_extension": ".py",
   "mimetype": "text/x-python",
   "name": "python",
   "nbconvert_exporter": "python",
   "pygments_lexer": "ipython3",
   "version": "3.9.5"
  }
 },
 "nbformat": 4,
 "nbformat_minor": 5
}
