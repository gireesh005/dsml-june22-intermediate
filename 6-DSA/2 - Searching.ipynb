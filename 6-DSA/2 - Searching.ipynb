{
 "cells": [
  {
   "cell_type": "code",
   "execution_count": 1,
   "id": "70b2be78",
   "metadata": {},
   "outputs": [],
   "source": [
    "a = [\"a\", \"b\", \"c\", \"d\"]"
   ]
  },
  {
   "cell_type": "code",
   "execution_count": 2,
   "id": "5cf8aa88",
   "metadata": {},
   "outputs": [],
   "source": [
    "random = enumerate(a)"
   ]
  },
  {
   "cell_type": "code",
   "execution_count": 4,
   "id": "dd1069ca",
   "metadata": {},
   "outputs": [
    {
     "data": {
      "text/plain": [
       "[(0, 'a'), (1, 'b'), (2, 'c'), (3, 'd')]"
      ]
     },
     "execution_count": 4,
     "metadata": {},
     "output_type": "execute_result"
    }
   ],
   "source": [
    "list(random)"
   ]
  },
  {
   "cell_type": "code",
   "execution_count": 6,
   "id": "c4152c77",
   "metadata": {},
   "outputs": [],
   "source": [
    "def linear_search(a, target):\n",
    "    for index, e in enumerate(a):\n",
    "        if e == target:\n",
    "            return index\n",
    "        \n",
    "    return -1"
   ]
  },
  {
   "cell_type": "code",
   "execution_count": 7,
   "id": "12a72dfd",
   "metadata": {},
   "outputs": [],
   "source": [
    "a = [1,2,3,4,5,6,7,8]"
   ]
  },
  {
   "cell_type": "code",
   "execution_count": 9,
   "id": "75fc3c15",
   "metadata": {},
   "outputs": [
    {
     "data": {
      "text/plain": [
       "6"
      ]
     },
     "execution_count": 9,
     "metadata": {},
     "output_type": "execute_result"
    }
   ],
   "source": [
    "linear_search(a, 7)"
   ]
  },
  {
   "cell_type": "code",
   "execution_count": 10,
   "id": "3c3d4ab7",
   "metadata": {},
   "outputs": [],
   "source": [
    "# O(n)"
   ]
  },
  {
   "cell_type": "code",
   "execution_count": 11,
   "id": "2e1715ae",
   "metadata": {},
   "outputs": [],
   "source": [
    "# Binary Search"
   ]
  },
  {
   "cell_type": "code",
   "execution_count": 17,
   "id": "d4a88f47",
   "metadata": {},
   "outputs": [],
   "source": [
    "def binary_search(a, target):\n",
    "    (start, end) = (0, len(a)-1)\n",
    "    \n",
    "    while start <= end:\n",
    "        mid = (start + end) // 2\n",
    "        \n",
    "        if target == a[mid]:\n",
    "            return mid\n",
    "        elif target < a[mid]:\n",
    "            end = mid - 1\n",
    "        else:\n",
    "            start = mid + 1\n",
    "            \n",
    "    return -1"
   ]
  },
  {
   "cell_type": "code",
   "execution_count": 21,
   "id": "f28a113e",
   "metadata": {},
   "outputs": [],
   "source": [
    "a = [6]"
   ]
  },
  {
   "cell_type": "code",
   "execution_count": 22,
   "id": "64b9eda9",
   "metadata": {},
   "outputs": [
    {
     "data": {
      "text/plain": [
       "0"
      ]
     },
     "execution_count": 22,
     "metadata": {},
     "output_type": "execute_result"
    }
   ],
   "source": [
    "binary_search(a, 6)"
   ]
  },
  {
   "cell_type": "code",
   "execution_count": 28,
   "id": "efdd0c7a",
   "metadata": {},
   "outputs": [],
   "source": [
    "a = [1,2,3,3,3,3,4,5,6]"
   ]
  },
  {
   "cell_type": "code",
   "execution_count": 29,
   "id": "23191e4b",
   "metadata": {},
   "outputs": [
    {
     "data": {
      "text/plain": [
       "4"
      ]
     },
     "execution_count": 29,
     "metadata": {},
     "output_type": "execute_result"
    }
   ],
   "source": [
    "binary_search(a, 3)"
   ]
  },
  {
   "cell_type": "code",
   "execution_count": 30,
   "id": "cdfd405e",
   "metadata": {},
   "outputs": [],
   "source": [
    "def reverse_binary_search(a, target):\n",
    "    (start, end) = (0, len(a)-1)\n",
    "    \n",
    "    while start <= end:\n",
    "        mid = (start + end) // 2\n",
    "        \n",
    "        if target == a[mid]:\n",
    "            return mid\n",
    "        elif target < a[mid]:\n",
    "            start = mid + 1\n",
    "        else:\n",
    "            end = mid - 1\n",
    "            \n",
    "    return -1"
   ]
  },
  {
   "cell_type": "code",
   "execution_count": 31,
   "id": "e741808a",
   "metadata": {},
   "outputs": [],
   "source": [
    "a = sorted([4,5,6,1,2,8,9,0], reverse = True)"
   ]
  },
  {
   "cell_type": "code",
   "execution_count": 32,
   "id": "879489d3",
   "metadata": {},
   "outputs": [
    {
     "data": {
      "text/plain": [
       "[9, 8, 6, 5, 4, 2, 1, 0]"
      ]
     },
     "execution_count": 32,
     "metadata": {},
     "output_type": "execute_result"
    }
   ],
   "source": [
    "a"
   ]
  },
  {
   "cell_type": "code",
   "execution_count": 34,
   "id": "2d08aea5",
   "metadata": {},
   "outputs": [
    {
     "data": {
      "text/plain": [
       "4"
      ]
     },
     "execution_count": 34,
     "metadata": {},
     "output_type": "execute_result"
    }
   ],
   "source": [
    "reverse_binary_search(a, 4)"
   ]
  },
  {
   "cell_type": "code",
   "execution_count": 35,
   "id": "d4706334",
   "metadata": {},
   "outputs": [
    {
     "name": "stdout",
     "output_type": "stream",
     "text": [
      "TRY ME!\n",
      "FINALLY!!!\n"
     ]
    }
   ],
   "source": [
    "def random():\n",
    "    try:\n",
    "        print(\"TRY ME!\")\n",
    "    except Exception as e:\n",
    "        raise Exception(\"EXCEPTION!\")\n",
    "        print(\"AFTER EXCEPTION!\")\n",
    "    finally:\n",
    "        print(\"FINALLY!!!\")\n",
    "        \n",
    "random()"
   ]
  },
  {
   "cell_type": "code",
   "execution_count": 36,
   "id": "8dad63ec",
   "metadata": {},
   "outputs": [],
   "source": [
    "def binary_search(a, target):\n",
    "    (start, end) = (0, len(a)-1)\n",
    "    \n",
    "    while start <= end:\n",
    "        mid = (start + end) // 2\n",
    "        \n",
    "        print(\"-\"*50)\n",
    "        print(f\"start = {start}, mid = {mid}, end = {end}\")\n",
    "        print(f\"current part = {a[start:end+1]}\")\n",
    "        print(\"-\"*50)\n",
    "        \n",
    "        if target == a[mid]:\n",
    "            return mid\n",
    "        elif target < a[mid]:\n",
    "            end = mid - 1\n",
    "        else:\n",
    "            start = mid + 1\n",
    "            \n",
    "    return -1"
   ]
  },
  {
   "cell_type": "code",
   "execution_count": 44,
   "id": "e49d283f",
   "metadata": {},
   "outputs": [],
   "source": [
    "a = [1,2,3,4,5,6,7,7,8,9]"
   ]
  },
  {
   "cell_type": "code",
   "execution_count": 45,
   "id": "6bfa3706",
   "metadata": {},
   "outputs": [
    {
     "name": "stdout",
     "output_type": "stream",
     "text": [
      "--------------------------------------------------\n",
      "start = 0, mid = 4, end = 9\n",
      "current part = [1, 2, 3, 4, 5, 6, 7, 7, 8, 9]\n",
      "--------------------------------------------------\n",
      "--------------------------------------------------\n",
      "start = 5, mid = 7, end = 9\n",
      "current part = [6, 7, 7, 8, 9]\n",
      "--------------------------------------------------\n"
     ]
    },
    {
     "data": {
      "text/plain": [
       "7"
      ]
     },
     "execution_count": 45,
     "metadata": {},
     "output_type": "execute_result"
    }
   ],
   "source": [
    "binary_search(a, 7)"
   ]
  },
  {
   "cell_type": "code",
   "execution_count": 49,
   "id": "8eca570e",
   "metadata": {},
   "outputs": [],
   "source": [
    "a = [\"a\", \"b\", \"c\", \"d\"]\n",
    "b = [1,2,3,5]\n",
    "c = [True, False, False]"
   ]
  },
  {
   "cell_type": "code",
   "execution_count": 50,
   "id": "58d24af9",
   "metadata": {},
   "outputs": [
    {
     "data": {
      "text/plain": [
       "<zip at 0x7fdd403c7a00>"
      ]
     },
     "execution_count": 50,
     "metadata": {},
     "output_type": "execute_result"
    }
   ],
   "source": [
    "zip(a,b,c)"
   ]
  },
  {
   "cell_type": "code",
   "execution_count": 51,
   "id": "5eb14e8c",
   "metadata": {},
   "outputs": [
    {
     "data": {
      "text/plain": [
       "[('a', 1, True), ('b', 2, False), ('c', 3, False)]"
      ]
     },
     "execution_count": 51,
     "metadata": {},
     "output_type": "execute_result"
    }
   ],
   "source": [
    "list(zip(a,b,c))"
   ]
  },
  {
   "cell_type": "code",
   "execution_count": 52,
   "id": "c0060bca",
   "metadata": {},
   "outputs": [],
   "source": [
    "keys = [\"a\", \"b\", \"c\"]\n",
    "values = [1,2,3]"
   ]
  },
  {
   "cell_type": "code",
   "execution_count": 53,
   "id": "d4b7c5b6",
   "metadata": {},
   "outputs": [],
   "source": [
    "d1 = { key:value for key, value in zip(keys, values) }"
   ]
  },
  {
   "cell_type": "code",
   "execution_count": 54,
   "id": "18ee19e6",
   "metadata": {},
   "outputs": [
    {
     "data": {
      "text/plain": [
       "{'a': 1, 'b': 2, 'c': 3}"
      ]
     },
     "execution_count": 54,
     "metadata": {},
     "output_type": "execute_result"
    }
   ],
   "source": [
    "d1"
   ]
  },
  {
   "cell_type": "code",
   "execution_count": 55,
   "id": "d06fb503",
   "metadata": {},
   "outputs": [
    {
     "data": {
      "text/plain": [
       "{'a': 1, 'b': 2, 'c': 3}"
      ]
     },
     "execution_count": 55,
     "metadata": {},
     "output_type": "execute_result"
    }
   ],
   "source": [
    "dict(zip(keys, values))"
   ]
  },
  {
   "cell_type": "code",
   "execution_count": 56,
   "id": "792208b3",
   "metadata": {},
   "outputs": [],
   "source": [
    "def random(a, b, *args, **kwargs):\n",
    "    print(a)\n",
    "    print(b)\n",
    "    print(args)\n",
    "    print(kwargs)"
   ]
  },
  {
   "cell_type": "code",
   "execution_count": 58,
   "id": "60a8a5b3",
   "metadata": {},
   "outputs": [
    {
     "ename": "SyntaxError",
     "evalue": "positional argument follows keyword argument (3115639833.py, line 1)",
     "output_type": "error",
     "traceback": [
      "\u001b[0;36m  File \u001b[0;32m\"/var/folders/nn/c52y0d3j0gq59dpsswchkt2r0000gn/T/ipykernel_83011/3115639833.py\"\u001b[0;36m, line \u001b[0;32m1\u001b[0m\n\u001b[0;31m    random(45, 56, 76, 89, a = 50, 90, 100, x = 200, y = 300, z = 400)\u001b[0m\n\u001b[0m                                                                     ^\u001b[0m\n\u001b[0;31mSyntaxError\u001b[0m\u001b[0;31m:\u001b[0m positional argument follows keyword argument\n"
     ]
    }
   ],
   "source": [
    "random(45, 56, 76, 89, a = 50, 90, 100, x = 200, y = 300, z = 400)"
   ]
  },
  {
   "cell_type": "code",
   "execution_count": null,
   "id": "4622d721",
   "metadata": {},
   "outputs": [],
   "source": []
  }
 ],
 "metadata": {
  "kernelspec": {
   "display_name": "Python 3 (ipykernel)",
   "language": "python",
   "name": "python3"
  },
  "language_info": {
   "codemirror_mode": {
    "name": "ipython",
    "version": 3
   },
   "file_extension": ".py",
   "mimetype": "text/x-python",
   "name": "python",
   "nbconvert_exporter": "python",
   "pygments_lexer": "ipython3",
   "version": "3.9.5"
  }
 },
 "nbformat": 4,
 "nbformat_minor": 5
}
